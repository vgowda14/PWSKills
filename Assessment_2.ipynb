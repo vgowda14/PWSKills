{
  "nbformat": 4,
  "nbformat_minor": 0,
  "metadata": {
    "colab": {
      "provenance": []
    },
    "kernelspec": {
      "name": "python3",
      "display_name": "Python 3"
    },
    "language_info": {
      "name": "python"
    }
  },
  "cells": [
    {
      "cell_type": "markdown",
      "source": [
        "1. What are data structures, and why are they important?\n",
        "        ->   Data structurs are way to store and organize data, so that it can be used effectively with the program. Pythin provides built in data structurs like List, tuple, set and dictionary.\n",
        "        Importance of Data sturctures is:\n",
        "        * Performance Optimization: The proper data sturcture can improve time and efficiency of the program\n",
        "        * Code Simplicity: Hepls to work complex data with simple syntax.\n",
        "        * Efficient data management: helps in storing the data for the program needs\n",
        "        * Foundation for algorithms: Data structurs are mainly used in algotithms like sorting, searching in Python program.\n",
        "\n",
        "2. Explain the difference between mutable and immutable data types with examples.\n",
        "        -> Difference between mutable and immutable data types are:\n",
        "        Mutable Data Types\n",
        "        * Can be modified after creation.\n",
        "        * You can change, add, or delete elements without creating a new object.\n",
        "        * Multiple references to the same object will reflect the change.\n",
        "        * common mutable types are: list, dict, set\n",
        "        Ex: my_list = [1,2,3]\n",
        "            my_list[0] = 5\n",
        "            print(my_list)\n",
        "            Output: [5,2,3]\n",
        "\n",
        "            Immutable Data Types\n",
        "            * Cannot be changed once created.\n",
        "            * Any \"change\" creates a new object in memory.\n",
        "            * Safer for use as dictionary keys or in multi-threaded code.\n",
        "            * Common immutable types are: int, float, tuple\n",
        "            Ex: my_str = \"hello\"\n",
        "                my_str[0] = H\n",
        "                print(my_str)\n",
        "                output: Error string is immutable.\n",
        "\n",
        "\n",
        "3. What are the main difference between lists and tuples in python?\n",
        "        ->\n",
        "\n",
        "4. Describe how dictionaries store data.\n",
        "        -> disctionaries in Python store data as key-value pairs using a optimized structurs called hash-table.\n",
        "\n",
        "        A key: Is Immutable such as string, numbers, tuples\n",
        "        A Value: A value can be of any type.\n",
        "\n",
        "\n",
        "5. Why might you use a set instead of a list in python?\n",
        "        -> You choose set instead of list because, Sets automatically eliminated the duplicate values, while lists allow them. Sts supports mathimaticals set of opperations such as intersection and symmetric diffreences\n",
        "\n",
        "6. What is a string in python, and how is it different from a list?\n",
        "        -> A string in Python is a sequence of characters, while list is sequence of elements.\n",
        "        String:\n",
        "        * A sequnece of unique characters\n",
        "        * Immutable cannot be changed once created.\n",
        "        * Defined using single('___') or double(\"___\") quotes\n",
        "\n",
        "        List:\n",
        "        * Collection osf ordered set of items\n",
        "        * Muttable can change the stated of the data. And helps in holding helps of any type such as numbers, string and other elements.\n",
        "        * Defined using square brackets[____].\n",
        "\n",
        "7. How do tuples ensure data integrity in Python?\n",
        "        -> A tuple is a immutable sequence, where elements once created cannot be changed, added to or removed.\n",
        "        Tuples ensures data integrity in Python by:\n",
        "        * Prevents accendintal modification: Once the data in Tuple is created cannot be change nor autered.\n",
        "        * Tuples can be used as keys in dictionaries or elements in sets.\n",
        "        * Immutable data like Tuples is safer to share between threads.\n",
        "        Tuples are often used to represent the fixed collection of related data.\n",
        "\n",
        "8. What is a hash table, and how does it relate to dictionaries in Python?\n",
        "        -> A hash table is a data structure that stores key-value pairs and allows fast access to value using key. In Python built-in function dict(Dictionary) type is immplement using a hash table.\n",
        "\n",
        "        * A key is passed through a hash function, which returns into a unique value index.\n",
        "        * This index determine where the corresponding value is stored in memory.\n",
        "        * When you access a value by key, Python uses the same hash function to find the value.\n",
        "\n",
        "9. Can lists contain different data types in python?\n",
        "        -> Yes lists contain different data types in Python. Python is a dynammically typed language, means and mix and match differnt types of elements in same list without any issues.\n",
        "      \n",
        "10. Explain why strings are immutable in Python.\n",
        "        -> String are immutable in Python, once string is created its content cannot be changed, because:\n",
        "        * Efficiency and performance: Python often reuse string object internally to save memory. If string is mutable, changing one could unexpectedly affect many variables.\n",
        "        * hasibility: String are used as keys in dictionaries and sets, which requires unchangable objects.\n",
        "        * Thread Safety: Since string cannot be changed, they are inherently safe safe to use across multiple treads.\n",
        "\n",
        "11. What advantages do dictionaries offer over lists for certain tasks?\n",
        "        -> Advantages of dictionaries over lists are:\n",
        "        * Dictionary access is constant time compared to linear time for lists.\n",
        "        * More Descriptive Access: Dictionary keys acts like, making code more readable and self-documenting.\n",
        "        * Avoids searching index: With a lists, have to search or remember specific index positions. A dictionary helps to access data by name.\n",
        "        * Ideal and structured data: Dictionaries are great for stroing records.\n",
        "        * Flexible data modeling: Can nest dictionaries, making them suitable for modeling complex data structures.\n",
        "\n",
        "12. Describe the scenario where using a tuple would be preferable over a list.\n",
        "        -> Scenarios Where a tuples is better than a list:\n",
        "        * The Data should not Change(Immutability): If the value shouldn't be changed once created use a tuple to prevent accedintal changes.\n",
        "        * Tuples as Disctionary keys or Set elements: Because tuples are hashable they can be used as keys in dictionaries or as elements in sets. Lists cannot.\n",
        "        * Returns Multiple value from a functions: Functions that need to return multiple related values often use tuples for simplicity and clarity.\n",
        "\n",
        "13. How do set handle duplicate values in Python?\n",
        "        -> A set is an unordered collection of unique elements, which helps to automatically remove duplicate value.\n",
        "\n",
        "14. How does the \"in\" keyword work differently for lists and dictionaries?\n",
        "        -> The \"in\" keyword is used to check membership in python, but it behaves differently for lists and dictionaries.\n",
        "        In list \"in\" checks if a value exists in the list.\n",
        "        In dictionaries \"in\" checks is a key exists in dictionary, not a value.\n",
        "\n",
        "15. Can you modify the elements of a tuple? Explain Why or why not.\n",
        "        -> No, elements in tuples cannot be modified.\n",
        "        Because Tuple is immutable, once the element is created cannot be modified, added or removed from tuple.\n",
        "        Immutable means that data remain constant throughout the program.\n",
        "        Tuples can be used as keys in dictionaries or elements in sets if all there elements are immutable.\n",
        "\n",
        "16. What is a nested  dictionary, and give an example of its use case?\n",
        "        -> A nested dictionary in Python is a dictionary within another dictionary. It's a way to store hierarchical or structured data.\n",
        "\n",
        "        student_data = {\n",
        "    \"Venu\": {\"age\": 27, \"Subject\": \"Python\"},\n",
        "    \"Virat\": {\"age\": 28, \"Subject\": \"Java\"},\n",
        "}\n",
        "\n",
        "17. Describe the time complexity of accessing elements in a dictionary.\n",
        "        ->\n",
        "\n",
        "18. In what situations are lists preferred over dictionaries?\n",
        "        -> Lists are preferred over dictionaries in the following situations:\n",
        "        * Order matters: When you need to preserve and rely on the order of elements.\n",
        "        * Simple collections of items: When just need to store a group of values.\n",
        "        * Index-Based access: When want to access items using numeric positions.\n",
        "        * Allowing duplicate value: Lists allows duplicate values, where dictionaries do not.\n",
        "\n",
        "\n",
        "19. Why are dictionaries considered unordered, and how does taht affect data retrieval?\n",
        "        -> Dictionaries are considered as unordered because:\n",
        "        * Access is based on key, not on positions.\n",
        "        * Cannot index into dictionary like a list.\n",
        "        * Their primary purpose is key-value mapping, not sequence handling.\n",
        "\n",
        "\n",
        "20. Explain the difference between a list and a dictionary in terms of data retrivel.\n",
        "        -> Difference between list and dictinary are:\n",
        "        List-->\n",
        "        * Access method by Index\n",
        "        * Syntax my_list[1]\n",
        "        * Speed o(1) for known index.\n",
        "        * Use case ordered sequences\n",
        "        * Allows duplicate\n",
        "\n",
        "        Dictionary-->\n",
        "        * Access method by Key\n",
        "        * Syntax my_dict[\"Name\"]\n",
        "        * Speed o(1) for known index.\n",
        "        * Use case key-value mapping.\n",
        "        * Does not allows duplicate.\n",
        "\n",
        "\n",
        "\n"
      ],
      "metadata": {
        "id": "2W4a89urPdhC"
      }
    },
    {
      "cell_type": "code",
      "source": [
        "# 1.\tWrite a code to create a string with your nome and print it.\n",
        "\n",
        "name = \"Venugopal\"\n",
        "print(name)"
      ],
      "metadata": {
        "colab": {
          "base_uri": "https://localhost:8080/"
        },
        "id": "-zb6J68LPrdg",
        "outputId": "1cc5cfab-b8c0-4739-eb46-7a1cdf43fbbf"
      },
      "execution_count": null,
      "outputs": [
        {
          "output_type": "stream",
          "name": "stdout",
          "text": [
            "Venugopal\n"
          ]
        }
      ]
    },
    {
      "cell_type": "code",
      "source": [
        "# 2.\tWrite a code to find the length of the string \"Hello World\".\n",
        "\n",
        "text = \"Hello World\"\n",
        "length = len(text)\n",
        "print(\"Length of the string:\", length)"
      ],
      "metadata": {
        "colab": {
          "base_uri": "https://localhost:8080/"
        },
        "id": "4b67PMQsPva2",
        "outputId": "b7f30eca-ca42-4bc2-954a-65aa1ca4f172"
      },
      "execution_count": null,
      "outputs": [
        {
          "output_type": "stream",
          "name": "stdout",
          "text": [
            "Length of the string: 11\n"
          ]
        }
      ]
    },
    {
      "cell_type": "code",
      "source": [
        "#  3.\tWrite a code to slice the first 3 characters from the string \"Python Programming\".\n",
        "\n",
        "text = \"Python Programming\"\n",
        "sliced_text = text[:3]\n",
        "print(sliced_text)"
      ],
      "metadata": {
        "colab": {
          "base_uri": "https://localhost:8080/"
        },
        "id": "3GL_a-z0Py6a",
        "outputId": "aa124cd6-eec0-42f1-9059-e8e923cf3cb4"
      },
      "execution_count": null,
      "outputs": [
        {
          "output_type": "stream",
          "name": "stdout",
          "text": [
            "Pyt\n"
          ]
        }
      ]
    },
    {
      "cell_type": "code",
      "source": [
        "# 4.\tWrite a code to convert the string \"hello\" to uppercase.\n",
        "\n",
        "text = \"hello\"\n",
        "upper_text = text.upper()\n",
        "print(upper_text)"
      ],
      "metadata": {
        "colab": {
          "base_uri": "https://localhost:8080/"
        },
        "id": "BI-CqbnnP0ne",
        "outputId": "6f5d43b5-975f-4bbf-a2ce-856776dd1b58"
      },
      "execution_count": null,
      "outputs": [
        {
          "output_type": "stream",
          "name": "stdout",
          "text": [
            "HELLO\n"
          ]
        }
      ]
    },
    {
      "cell_type": "code",
      "source": [
        "# 5. Write a code to replace the word \"apple\" with \"orange\" in the string \"I like apple\".\n",
        "\n",
        "text = \"I like apple\"\n",
        "new_text = text.replace(\"apple\", \"orange\")\n",
        "print(new_text)"
      ],
      "metadata": {
        "colab": {
          "base_uri": "https://localhost:8080/"
        },
        "id": "cAj-lPW_P2kY",
        "outputId": "ef3100c9-cb6d-40b0-ca94-c3e842060fa3"
      },
      "execution_count": null,
      "outputs": [
        {
          "output_type": "stream",
          "name": "stdout",
          "text": [
            "I like orange\n"
          ]
        }
      ]
    },
    {
      "cell_type": "code",
      "source": [
        "# 6.\tWrite a code to create a list with numbers 1 to  5 and print it.\n",
        "\n",
        "numbers = list(range(1, 6))\n",
        "print(numbers)"
      ],
      "metadata": {
        "colab": {
          "base_uri": "https://localhost:8080/"
        },
        "id": "3PGFq2PAP68a",
        "outputId": "91b79700-48a3-4b54-a98c-211b2f661c82"
      },
      "execution_count": null,
      "outputs": [
        {
          "output_type": "stream",
          "name": "stdout",
          "text": [
            "[1, 2, 3, 4, 5]\n"
          ]
        }
      ]
    },
    {
      "cell_type": "code",
      "source": [
        "# 7.\tWrite a code to append the number 10 to the list 1, 2, 3, 4].\n",
        "\n",
        "numbers = [1, 2, 3, 4]\n",
        "numbers.append(10)\n",
        "print(numbers)"
      ],
      "metadata": {
        "colab": {
          "base_uri": "https://localhost:8080/"
        },
        "id": "rPVFb-sxP8Jh",
        "outputId": "7e20ea7f-fa26-49e8-875c-d496f5c2c69e"
      },
      "execution_count": null,
      "outputs": [
        {
          "output_type": "stream",
          "name": "stdout",
          "text": [
            "[1, 2, 3, 4, 10]\n"
          ]
        }
      ]
    },
    {
      "cell_type": "code",
      "source": [
        "# 8.\tWrite a code to remove the number 3 from the list 1, 2, 3, 4, 5].\n",
        "\n",
        "numbers = [1, 2, 3, 4, 5]\n",
        "numbers.remove(3)\n",
        "print(numbers)"
      ],
      "metadata": {
        "colab": {
          "base_uri": "https://localhost:8080/"
        },
        "id": "pfqxqaFcP-NG",
        "outputId": "7f4d6f5b-e01c-4c9d-ef2c-f410343a9052"
      },
      "execution_count": null,
      "outputs": [
        {
          "output_type": "stream",
          "name": "stdout",
          "text": [
            "[1, 2, 4, 5]\n"
          ]
        }
      ]
    },
    {
      "cell_type": "code",
      "source": [
        "# 9.\tWrite a code to access the second element in the list ['a', 'b', 'c', 'd]\n",
        "\n",
        "letters = ['a', 'b', 'c', 'd']\n",
        "second_element = letters[1]\n",
        "print(second_element)"
      ],
      "metadata": {
        "colab": {
          "base_uri": "https://localhost:8080/"
        },
        "id": "cTmwW_yGQA2K",
        "outputId": "4ad38855-99fc-4421-d1ba-4d53e2732c57"
      },
      "execution_count": null,
      "outputs": [
        {
          "output_type": "stream",
          "name": "stdout",
          "text": [
            "b\n"
          ]
        }
      ]
    },
    {
      "cell_type": "code",
      "source": [
        "# 10.\tWrite a code to reverse the list [10, 20, 30, 40, 50].\n",
        "\n",
        "numbers = [10, 20, 30, 40, 50]\n",
        "reversed_numbers = numbers[::-1]\n",
        "print(reversed_numbers)"
      ],
      "metadata": {
        "colab": {
          "base_uri": "https://localhost:8080/"
        },
        "id": "VdpnslhqQDJf",
        "outputId": "5f86a478-4ba8-4717-a28e-535ea033f7ae"
      },
      "execution_count": null,
      "outputs": [
        {
          "output_type": "stream",
          "name": "stdout",
          "text": [
            "[50, 40, 30, 20, 10]\n"
          ]
        }
      ]
    },
    {
      "cell_type": "code",
      "source": [
        "# 11.\tWrite a code to create a tuple with the elements 100, 200, 300 and print it.\n",
        "\n",
        "my_tuple = (100, 200, 300)\n",
        "print(my_tuple)"
      ],
      "metadata": {
        "colab": {
          "base_uri": "https://localhost:8080/"
        },
        "id": "2FAoX0e3QFew",
        "outputId": "c36cb241-5b36-405f-ced7-72443ff0652b"
      },
      "execution_count": null,
      "outputs": [
        {
          "output_type": "stream",
          "name": "stdout",
          "text": [
            "(100, 200, 300)\n"
          ]
        }
      ]
    },
    {
      "cell_type": "code",
      "source": [
        "#12.\tWrite a code to access the second—to—lost element of the tuple ('red', 'green', 'blue', 'yellow’).\n",
        "\n",
        "my_tuple = ('red', 'green', 'blue', 'yellow')\n",
        "second_to_last = my_tuple[-2]\n",
        "print(second_to_last)"
      ],
      "metadata": {
        "colab": {
          "base_uri": "https://localhost:8080/"
        },
        "id": "PRZaV8uDQKT2",
        "outputId": "1ab9ee68-303e-4b7a-d504-86b8f2aaf676"
      },
      "execution_count": null,
      "outputs": [
        {
          "output_type": "stream",
          "name": "stdout",
          "text": [
            "blue\n"
          ]
        }
      ]
    },
    {
      "cell_type": "code",
      "source": [
        "#13.\tWrite a code to find the minimum number in the tuple (10, 20, 5, 15).\n",
        "\n",
        "my_tuple = (10, 20, 5, 15)\n",
        "min_number = min(my_tuple)\n",
        "print(min_number)"
      ],
      "metadata": {
        "colab": {
          "base_uri": "https://localhost:8080/"
        },
        "id": "4dJMTacQQL1V",
        "outputId": "4f9a544f-768a-445e-a86d-44bc245c3c6b"
      },
      "execution_count": null,
      "outputs": [
        {
          "output_type": "stream",
          "name": "stdout",
          "text": [
            "5\n"
          ]
        }
      ]
    },
    {
      "cell_type": "code",
      "source": [
        "#14.\tWrite a code to find the index of the element \"cat\" in the tuple ('dog', 'cat', 'rabbit').\n",
        "my_tuple = ('dog', 'cat', 'rabbit')\n",
        "index_of_cat = my_tuple.index('cat')\n",
        "print(index_of_cat)"
      ],
      "metadata": {
        "colab": {
          "base_uri": "https://localhost:8080/"
        },
        "id": "-6NXFK-QQNMb",
        "outputId": "5985f6ec-c3a9-4c25-8a2e-a1fbb2be22f8"
      },
      "execution_count": null,
      "outputs": [
        {
          "output_type": "stream",
          "name": "stdout",
          "text": [
            "1\n"
          ]
        }
      ]
    },
    {
      "cell_type": "code",
      "source": [
        "#15.\tWrite a code to create a tuple containing three different fruits and check if \"kiwi\" is in it.\n",
        "\n",
        "fruits = ('apple', 'banana', 'orange')\n",
        "is_kiwi_present = 'kiwi' in fruits\n",
        "print(is_kiwi_present)"
      ],
      "metadata": {
        "colab": {
          "base_uri": "https://localhost:8080/"
        },
        "id": "ew3g0Z5hQOro",
        "outputId": "abc4ac80-5d41-4129-8dd2-f577bc96ad8f"
      },
      "execution_count": null,
      "outputs": [
        {
          "output_type": "stream",
          "name": "stdout",
          "text": [
            "False\n"
          ]
        }
      ]
    },
    {
      "cell_type": "code",
      "source": [
        "#16.\tWrite a code to create a set with the elements 'a', 'b', 'c' and print it.\n",
        "\n",
        "my_set = {'a', 'b', 'c'}\n",
        "print(my_set)"
      ],
      "metadata": {
        "colab": {
          "base_uri": "https://localhost:8080/"
        },
        "id": "XM0lVy0AQQlV",
        "outputId": "dc13e30b-0195-43a2-d9fc-3f08f5385c1c"
      },
      "execution_count": null,
      "outputs": [
        {
          "output_type": "stream",
          "name": "stdout",
          "text": [
            "{'b', 'a', 'c'}\n"
          ]
        }
      ]
    },
    {
      "cell_type": "code",
      "source": [
        "#17.\tWrite a code to clear all elements from the set (1, 2, 3, 4, 5).\n",
        "\n",
        "my_set = {1, 2, 3, 4, 5}\n",
        "my_set.clear()\n",
        "print(my_set)"
      ],
      "metadata": {
        "colab": {
          "base_uri": "https://localhost:8080/"
        },
        "id": "o7JkIbsRQSXK",
        "outputId": "194db0d6-fa93-41aa-f63d-c000f2913394"
      },
      "execution_count": null,
      "outputs": [
        {
          "output_type": "stream",
          "name": "stdout",
          "text": [
            "set()\n"
          ]
        }
      ]
    },
    {
      "cell_type": "code",
      "source": [
        "#18.\tWrite a code to remove the element 4 from the set (1, 2, 3, 4).\n",
        "\n",
        "my_set = {1, 2, 3, 4}\n",
        "my_set.remove(4)\n",
        "print(my_set)"
      ],
      "metadata": {
        "colab": {
          "base_uri": "https://localhost:8080/"
        },
        "id": "xQTkNXUPQTre",
        "outputId": "e48d96d5-b046-46b9-a19b-1314b8032c7f"
      },
      "execution_count": null,
      "outputs": [
        {
          "output_type": "stream",
          "name": "stdout",
          "text": [
            "{1, 2, 3}\n"
          ]
        }
      ]
    },
    {
      "cell_type": "code",
      "source": [
        "#19.\tWrite a code to find the union of two sets (1, 2, 3) and (3, 4, 5).\n",
        "\n",
        "set1 = {1, 2, 3}\n",
        "set2 = {3, 4, 5}\n",
        "union_set = set1 | set2\n",
        "print(union_set)"
      ],
      "metadata": {
        "colab": {
          "base_uri": "https://localhost:8080/"
        },
        "id": "oKeiPDlJQVHO",
        "outputId": "917ab90a-17b3-4bcd-b6a3-ca846b937e61"
      },
      "execution_count": null,
      "outputs": [
        {
          "output_type": "stream",
          "name": "stdout",
          "text": [
            "{1, 2, 3, 4, 5}\n"
          ]
        }
      ]
    },
    {
      "cell_type": "code",
      "source": [
        "#20.\tWrite a code to find the intersection of two sets (1, 2, 3) and (2, 3, 4).\n",
        "\n",
        "set1 = {1, 2, 3}\n",
        "set2 = {2, 3, 4}\n",
        "intersection_set = set1 & set2\n",
        "print(intersection_set)"
      ],
      "metadata": {
        "colab": {
          "base_uri": "https://localhost:8080/"
        },
        "id": "q_A3exBwQWYN",
        "outputId": "80b7a5b0-5b8d-4d4e-b221-703c57f3b2f4"
      },
      "execution_count": null,
      "outputs": [
        {
          "output_type": "stream",
          "name": "stdout",
          "text": [
            "{2, 3}\n"
          ]
        }
      ]
    },
    {
      "cell_type": "code",
      "source": [
        "# 21.\tWrite a code to create a dictionary with the keys \"name\", \"age\", and \"city\", and print it.\n",
        "\n",
        "my_dict = {\n",
        "    \"name\": \"Venugopal\",\n",
        "    \"age\": 27,\n",
        "    \"city\": \"Bengaluru\"\n",
        "}\n",
        "print(my_dict)\n"
      ],
      "metadata": {
        "colab": {
          "base_uri": "https://localhost:8080/"
        },
        "id": "vRuS2Qv9QXlP",
        "outputId": "84e494f4-f4cf-4589-deda-7cb542221c52"
      },
      "execution_count": null,
      "outputs": [
        {
          "output_type": "stream",
          "name": "stdout",
          "text": [
            "{'name': 'Venugopal', 'age': 27, 'city': 'Bengaluru'}\n"
          ]
        }
      ]
    },
    {
      "cell_type": "code",
      "source": [
        "# 22.\tWrite a code to add a new key-value pair \"country\": \"USA\" to the dictionary ('name': 'John', 'age': 25).\n",
        "\n",
        "my_dict = {'name': 'John', 'age': 25}\n",
        "my_dict['country'] = 'USA'\n",
        "print(my_dict)"
      ],
      "metadata": {
        "colab": {
          "base_uri": "https://localhost:8080/"
        },
        "id": "24J32uMNQY2p",
        "outputId": "64944e1e-4f9d-4fac-dabb-491b95c0907d"
      },
      "execution_count": null,
      "outputs": [
        {
          "output_type": "stream",
          "name": "stdout",
          "text": [
            "{'name': 'John', 'age': 25, 'country': 'USA'}\n"
          ]
        }
      ]
    },
    {
      "cell_type": "code",
      "source": [
        "# 23.\tWrite a code to access the value associated with the key \"name\" in the dictionary ('name’: 'Alice', 'age': 30).\n",
        "\n",
        "my_dict = {'name': 'Alice', 'age': 30}\n",
        "name_value = my_dict['name']\n",
        "print(name_value)"
      ],
      "metadata": {
        "colab": {
          "base_uri": "https://localhost:8080/"
        },
        "id": "_PEq4yzuQaHO",
        "outputId": "a3c134d3-183e-4e4a-f4e5-fd1a32e19a31"
      },
      "execution_count": null,
      "outputs": [
        {
          "output_type": "stream",
          "name": "stdout",
          "text": [
            "Alice\n"
          ]
        }
      ]
    },
    {
      "cell_type": "code",
      "source": [
        "# 24.\tWrite a code to remove the key \"age\" from the dictionary (’nome’: 'Bob', 'age': 22, 'city': ’New York’).\n",
        "\n",
        "my_dict = {'name': 'Bob', 'age': 22, 'city': 'New York'}\n",
        "del my_dict['age']\n",
        "print(my_dict)\n"
      ],
      "metadata": {
        "colab": {
          "base_uri": "https://localhost:8080/"
        },
        "id": "t_3nzy3TQbeZ",
        "outputId": "179da407-7168-4499-eba6-4a865d74098c"
      },
      "execution_count": null,
      "outputs": [
        {
          "output_type": "stream",
          "name": "stdout",
          "text": [
            "{'name': 'Bob', 'city': 'New York'}\n"
          ]
        }
      ]
    },
    {
      "cell_type": "code",
      "source": [
        "# 25.\tWrite a code to check if the key \"city\" exists in the dictionary ('name': 'Alice', 'city': 'Paris'}.\n",
        "\n",
        "my_dict = {'name': 'Alice', 'city': 'Paris'}\n",
        "key_exists = 'city' in my_dict\n",
        "print(key_exists)"
      ],
      "metadata": {
        "colab": {
          "base_uri": "https://localhost:8080/"
        },
        "id": "G_Tf3sLGQc4W",
        "outputId": "8352fcde-7e92-4bd7-a841-cd8edc78e931"
      },
      "execution_count": null,
      "outputs": [
        {
          "output_type": "stream",
          "name": "stdout",
          "text": [
            "True\n"
          ]
        }
      ]
    },
    {
      "cell_type": "code",
      "source": [
        "# 26.\tWrite a code to create a list, a tuple, and a dictionary, and print them all.\n",
        "\n",
        "my_list = [1, 2, 3, 4, 5]\n",
        "my_tuple = ('apple', 'banana', 'cherry')\n",
        "my_dict = {'name': 'Venugopal', 'age': 27, 'city': 'Bengaluru'}\n",
        "print(\"List:\", my_list)\n",
        "print(\"Tuple:\", my_tuple)\n",
        "print(\"Dictionary:\", my_dict)"
      ],
      "metadata": {
        "colab": {
          "base_uri": "https://localhost:8080/"
        },
        "id": "r3xsAyTvQePC",
        "outputId": "6e2e6540-54cb-41d5-86f1-699d8c33d5dc"
      },
      "execution_count": null,
      "outputs": [
        {
          "output_type": "stream",
          "name": "stdout",
          "text": [
            "List: [1, 2, 3, 4, 5]\n",
            "Tuple: ('apple', 'banana', 'cherry')\n",
            "Dictionary: {'name': 'Venugopal', 'age': 27, 'city': 'Bengaluru'}\n"
          ]
        }
      ]
    },
    {
      "cell_type": "code",
      "source": [
        "# 27.\tWrite a code to create a list of 5 random numbers between 1 and\t100, sort it in ascending order, and print the result.(replaced)\n",
        "\n",
        "\n",
        "import random\n",
        "\n",
        "random_numbers = random.sample(range(1, 101), 5)\n",
        "\n",
        "random_numbers.sort()\n",
        "print(random_numbers)"
      ],
      "metadata": {
        "colab": {
          "base_uri": "https://localhost:8080/"
        },
        "id": "fHE2Bby7QgCp",
        "outputId": "f2c43bfe-f040-4697-bb35-89b1c1462041"
      },
      "execution_count": null,
      "outputs": [
        {
          "output_type": "stream",
          "name": "stdout",
          "text": [
            "[6, 24, 67, 95, 97]\n"
          ]
        }
      ]
    },
    {
      "cell_type": "code",
      "source": [
        "# 28.\tWrite a code to create a list with strings and print the element at the third index.\n",
        "\n",
        "my_list = ['apple', 'banana', 'cherry', 'date', 'elderberry']\n",
        "print(my_list[3])"
      ],
      "metadata": {
        "colab": {
          "base_uri": "https://localhost:8080/"
        },
        "id": "SV_WWfi4QhsR",
        "outputId": "66515750-d661-4f47-af0b-005a3d65620e"
      },
      "execution_count": null,
      "outputs": [
        {
          "output_type": "stream",
          "name": "stdout",
          "text": [
            "date\n"
          ]
        }
      ]
    },
    {
      "cell_type": "code",
      "source": [
        "# 29.\tWrite a code to combine two dictionaries into one and print the result.\n",
        "\n",
        "dict1 = {'name': 'Alice', 'age': 30}\n",
        "dict2 = {'city': 'New York', 'job': 'Engineer'}\n",
        "\n",
        "combined_dict = {**dict1, **dict2}\n",
        "print(combined_dict)"
      ],
      "metadata": {
        "colab": {
          "base_uri": "https://localhost:8080/"
        },
        "id": "NW-mnbgeQi3I",
        "outputId": "b8818cf0-5a7d-455b-c7a8-8c941e45ea7d"
      },
      "execution_count": null,
      "outputs": [
        {
          "output_type": "stream",
          "name": "stdout",
          "text": [
            "{'name': 'Alice', 'age': 30, 'city': 'New York', 'job': 'Engineer'}\n"
          ]
        }
      ]
    },
    {
      "cell_type": "code",
      "source": [
        "# 30.\tWrite a code to convert a list of strings into a set.\n",
        "\n",
        "my_list = [\"apple\", \"banana\", \"cherry\", \"apple\"]\n",
        "my_set = set(my_list)\n",
        "print(my_set)"
      ],
      "metadata": {
        "colab": {
          "base_uri": "https://localhost:8080/"
        },
        "id": "qhoEPFZXQkuL",
        "outputId": "0088a658-37c9-4f21-9305-dc48c992ee48"
      },
      "execution_count": null,
      "outputs": [
        {
          "output_type": "stream",
          "name": "stdout",
          "text": [
            "{'cherry', 'apple', 'banana'}\n"
          ]
        }
      ]
    }
  ]
}