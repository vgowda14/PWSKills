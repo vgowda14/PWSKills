{
  "cells": [
    {
      "cell_type": "markdown",
      "metadata": {
        "id": "ydVMsaoLlyIR"
      },
      "source": [
        "1. What is the difference between interpreted and compiled languages?\n",
        "        -> The difference between compiled and interpreted languages are:\n",
        "        Compiled language:\n",
        "        * In compiled languages, the source code is translated entirely into machine code by a compiler before it is run. Ex,. C, C++\n",
        "        * Since the code is already compiled, it runs faster at runtime.\n",
        "        * The compiled machine code is specific to the operating system and hardware.\n",
        "        * Debugging can be more complex, though modern IDEs help.\n",
        "\n",
        "        Interpreted language:\n",
        "        * In interpreted languages, the source code is read and executed line by line by an interpreter at runtime. Ex,. Python, Javascript.\n",
        "        * Code is interpreted on the fly, which can make it slower.\n",
        "        * Can run code directly.\n",
        "        * Good for rapid development and prototyping."
      ]
    },
    {
      "cell_type": "markdown",
      "metadata": {
        "id": "kRj5P-bml8mZ"
      },
      "source": [
        "2. What is exception handling in Python?\n",
        "        -> Exception handling in Python is a mechanism that allows you to gracefully handle runtime errors in your program without crashing it. Instead of the program stopping abruptly when an error occurs, Python lets you catch and manage these errors using special blocks of code.\n",
        "        Ex: ZeroDivisionError:\n",
        "            IndexError:\n",
        "            FileNotFoundError:\n",
        "\n"
      ]
    },
    {
      "cell_type": "markdown",
      "metadata": {
        "id": "GIeWTh2fmECz"
      },
      "source": [
        "3. What is the purpose of the finally block in exception handling?\n",
        "        -> The finally block in Python is used to define code that should always run, regardless of whether an exception was raised or not.\n"
      ]
    },
    {
      "cell_type": "markdown",
      "metadata": {
        "id": "iln9IppwmZwO"
      },
      "source": [
        "4. What is logging in Python?\n",
        "        -> Logging in Python is the process of recording messages that describe events happening during the execution of a program. These messages help developers track, debug, and monitor the behavior and issues in an application.\n"
      ]
    },
    {
      "cell_type": "markdown",
      "metadata": {
        "id": "0VadZ_b3mdxt"
      },
      "source": [
        "5. What is the significance of the __del__ method in Python?\n",
        "        -> The __del__ method is a destructor in Python. It's a special method that is automatically called when an object is about to be destroyed, usually when it goes out of scope or when memory is being cleaned up by the garbage collector.\n",
        "        Significance: Used to clean up resources just before an object is deleted. Acts like a \"finalizer\" for the object.\n",
        "\n"
      ]
    },
    {
      "cell_type": "markdown",
      "metadata": {
        "id": "9v9vs8E-moUR"
      },
      "source": [
        "6. What is the difference between inport and ...import in Python?\n",
        "        -> The difference between import and ...import in Python is:\n",
        "        Import:\n",
        "        * Imports whole module.\n",
        "        * Readibility: clear where it comes from\n",
        "        * More flexible.\n",
        "        * Name space pollution less.\n",
        "\n",
        "        ...import:\n",
        "        * Imports specific function or objects\n",
        "        * Readibility: Less clear with many imports\n",
        "        * Shorter and more direct.\n",
        "        * Name space pollution more\n",
        "\n"
      ]
    },
    {
      "cell_type": "markdown",
      "metadata": {
        "id": "fxK27zpymx8P"
      },
      "source": [
        "7. How can you handle multiple exceptions in Python?\n",
        "        -> Python allows to handle multiple exceptions using multiple expect block and a single block with a tuple of exceptions."
      ]
    },
    {
      "cell_type": "markdown",
      "metadata": {
        "id": "JnaQ1TsMnOHf"
      },
      "source": [
        "8. What is the purpose of the with statement when handling files in Python?\n",
        "        -> The with statement is used to manage file resources safely and efficiently. It ensures that a file is properly opened and automatically closed, even if an error occurs during file operations.\n"
      ]
    },
    {
      "cell_type": "markdown",
      "metadata": {
        "id": "e-vZsuwCnYy8"
      },
      "source": [
        "9. What is the difference between multithreading and multiprocessing?\n",
        "        -> The difference between multithreading and multiprocessing are:\n",
        "        Multithreading:\n",
        "        * Runs multiple threads within a single process.\n",
        "        * Threads share the same memory space.\n",
        "        * Ideal for I/O-bound tasks\n",
        "\n",
        "        Multiprocessing:\n",
        "        * Runs multiple processes, each with its own memory space.\n",
        "        * Takes full advantage of multiple CPU cores.\n",
        "        * Ideal for CPU-bound tasks\n",
        "\n"
      ]
    },
    {
      "cell_type": "markdown",
      "metadata": {
        "id": "LCjMyFHcnkyo"
      },
      "source": [
        "10. What are the advantages of using logging in a program?\n",
        "        -> Logging offers many benefits over using print() statements, especially in production-level or complex applications.\n",
        "        * Debugging and Diagnostics: Helps track down bugs and understand how the program flows.\n",
        "        * Permanent Record of Events: Logs can be saved to files, making it possible to analyze issues after the program has run.\n",
        "        * Log Levels for Prioritization: Supports severity levels like DEBUG, INFO, WARNING, ERROR, and CRITICAL.\n",
        "        * Helps in Monitoring: Enables real-time monitoring of applications. Integrates with monitoring tools and dashboards.\n",
        "\n",
        "\n"
      ]
    },
    {
      "cell_type": "markdown",
      "metadata": {
        "id": "yoagP0WQnuvC"
      },
      "source": [
        "11. What is memory management in Python?\n",
        "        -> Memory management in Python is the process of allocating and deallocating memory for objects during program execution. This is handled automatically by Python's memory manager, which uses a private heap to store objects and data structures.\n"
      ]
    },
    {
      "cell_type": "markdown",
      "metadata": {
        "id": "En6g0kern1SM"
      },
      "source": [
        "12. What are the basic steps involved in exception handling in Python?\n",
        "        -> The basic steps involved in exception handling in Python:\n",
        "        * Using try block: Enclose the code that might raise an exception within a try block. This tells Python to attempt to execute the code, and if an exception occurs, it should be handled.\n",
        "        * Using except block: Following the try block, add one or more except blocks. Each except block specifies the type of exception it can handle. If an exception occurs in the try block, Python checks each except block sequentially until it finds a match.\n",
        "        * Using else block: You can add an else block after the except blocks. The code in the else block will only be executed if no exceptions are raised in the try block.\n",
        "        * Using finally block: can add a finally block after the try, except, and else blocks. The code in the finally block will always be executed, whether an exception occurred or not. This is useful for cleanup tasks, such as closing files or releasing resources.\n",
        "\n"
      ]
    },
    {
      "cell_type": "markdown",
      "metadata": {
        "id": "w9kziTfgoAdL"
      },
      "source": [
        "13. Why is memory management improtant in Python?\n",
        "        -> Memory management ensures that Python programs use memory efficiently by allocating space for objects and data when needed and releasing it when no longer required. This prevents memory wastage and allows programs to run smoothly, even with limited resources.\n",
        "        Without proper management, programs can suffer from memory leaks, where allocated memory is not released. This can lead to performance degradation and crashes over time. Python's automatic memory management helps prevent these issues.\n",
        "        Python uses garbage collection to automatically reclaim memory occupied by objects that are no longer in use. This process helps prevent memory leaks and ensures efficient memory utilization.\n",
        "\n"
      ]
    },
    {
      "cell_type": "markdown",
      "metadata": {
        "id": "uBEpDuF3oGtn"
      },
      "source": [
        "14. What is the role of try and except in exception handling?\n",
        "        -> The role of try and except in exception handling are:\n",
        "        * try Block: The try block is used to check some code for errors i.e the code inside the try block will execute when there is no error in the program.\n",
        "        * except Block: The code inside the except block will execute whenever the program encounters some error in the preceding try block.\n",
        "\n"
      ]
    },
    {
      "cell_type": "markdown",
      "metadata": {
        "id": "LIBVe6xSoTGF"
      },
      "source": [
        "15. How does Python's garbage collection system work?\n",
        "        -> Garbage Collection in Python is an automatic process that handles memory allocation and deallocation, ensuring efficient use of memory. Python automatically manages memory through two primary strategies:\n",
        "        * Reference counting: Python uses reference counting to manage memory. Each object keeps track of how many references point to it. When the reference count drops to zero i.e., no references remain, Python automatically deallocates the object.\n",
        "        * Garbage collection: Garbage collection is a memory management technique used in programming languages to automatically reclaim memory that is no longer accessible or in use by the application. To handle such circular references, Python uses a Garbage Collector (GC) from the built-in gc module. This collector is able to detect and clean up objects involved in reference cycles.\n",
        "\n"
      ]
    },
    {
      "cell_type": "markdown",
      "metadata": {
        "id": "uEmp7i2aocrT"
      },
      "source": [
        "16. What is the purpose of the else block in exception handling?\n",
        "        -> The purpose of the else block in exception handling is You can add an else block after the except blocks. The code in the else block will only be executed if no exceptions are raised in the try block.\n",
        "\n"
      ]
    },
    {
      "cell_type": "markdown",
      "metadata": {
        "id": "x6LNu6buoyV_"
      },
      "source": [
        "17. What are the common logging levels in Python?\n",
        "        -> There are five built-in levels of the log message:\n",
        "          * Debug: These are used to give Detailed information, typically of interest only when diagnosing problems.\n",
        "          * Info: These are used to confirm that things are working as expected\n",
        "          * Warning: These are used as an indication that something unexpected happened, or is indicative of some problem in the near future\n",
        "          * Error: This tells that due to a more serious problem, the software has not been able to perform some function\n",
        "          * Critical: This tells serious error, indicating that the program itself may be unable to continue running\n"
      ]
    },
    {
      "cell_type": "markdown",
      "metadata": {
        "id": "MjTfF-TDpS46"
      },
      "source": [
        "18. What is the difference between os.fork() and multiprocessing in Python?\n",
        "        -> The difference between os.fork() and multiprocessing in Python\n",
        "        os.fork():\n",
        "        * It is the default method used on Unix-like systems.\n",
        "        * It creates child processes that inherit the entire memory space of the parent process, which can be memory-intensive.\n",
        "        * Best suited for situations where you need to share a lot of data and state between the parent and child processes efficiently.\n",
        "        * Use cases include parallelizing tasks with shared data or implementing multiprocessing on Unix-based systems.\n",
        "\n",
        "        Multiprocessing:\n",
        "        * It is the default method on Windows and is also available on Unix-like systems.\n",
        "        * It creates child processes with a clean memory space, reducing the risk of memory-related issues and providing more isolation.\n",
        "        * Suitable for scenarios where you want to avoid interference between parent and child processes and ensure safety and stability.\n",
        "        * Use cases include running untrusted code, ensuring process isolation, and handling multiprocessing in a more controlled and secure manner.\n"
      ]
    },
    {
      "cell_type": "markdown",
      "metadata": {
        "id": "y2xr0NV3pgEs"
      },
      "source": [
        "19. What is the importance of closing a file in Python?\n",
        "        -> Closing a file object in Python is crucial to prevent resource leaks and ensure that changes are saved. Always use the close() method in conjunction with a try-finally block to guarantee proper closure, whether you are reading from or writing to a file. This practice promotes clean and efficient file handling in Python programs.\n",
        "\n"
      ]
    },
    {
      "cell_type": "markdown",
      "metadata": {
        "id": "F4frnfBnp2Gc"
      },
      "source": [
        "20. What is the difference between file.read() and file.readline() in Python?\n",
        "        -> The difference between file.read() and file.readline() in Python are:\n",
        "        file.read():\n",
        "        * Reads the entire content of the file as a single string.\n",
        "        * If a size argument is provided (e.g., file.read(10)), it reads up to that many bytes.\n",
        "        * Suitable for smaller files that can be loaded entirely into memory.\n",
        "        * Can be inefficient for large files due to memory consumption.\n",
        "\n",
        "        file.readline():\n",
        "        * Reads a single line from the file, including the newline character (\\n) at the end.\n",
        "        * Returns an empty string if the end of the file is reached.\n",
        "        * Ideal for processing files line by line, especially large files.\n",
        "        * More memory-efficient than file.read() when dealing with large files."
      ]
    },
    {
      "cell_type": "markdown",
      "metadata": {
        "id": "Yx_Tk0NlqF_X"
      },
      "source": [
        "21. What is the logging module in Python used for?\n",
        "        -> Logging is a means of tracking events that happen when some software runs. Logging is important for software developing, debugging, and running. If you don't have any logging record and your program crashes, there are very few chances that you detect the cause of the problem. And if you detect the cause, it will consume a lot of time. With logging, you can leave a trail of breadcrumbs so that if something goes wrong, we can determine the cause of the problem."
      ]
    },
    {
      "cell_type": "markdown",
      "metadata": {
        "id": "AhMZtJ-_qO4u"
      },
      "source": [
        "22. What is the os module in Python used for in file handing?\n",
        "        -> The OS module in Python provides functions for interacting with the operating system. OS comes under Python's standard utility modules. This module provides a portable way of using operating system-dependent functionality."
      ]
    },
    {
      "cell_type": "markdown",
      "metadata": {
        "id": "j4cY8_FUqelW"
      },
      "source": [
        "23. What are the challanges associated with memory management in Python?\n",
        "        -> Python memory management doesn’t offer the same level of manual customizability compared to other programming languages.\n",
        "        * Program runtimes can potentially experience slower rates as sometimes the program holds freed memory in the interpreter rather than freeing it up for use by the operating system."
      ]
    },
    {
      "cell_type": "markdown",
      "metadata": {
        "id": "HK6lfCg6qs6P"
      },
      "source": [
        "24. How do you raise an exception manually in Python?\n",
        "        -> To manually raise an exception in Python, use the raise statement."
      ]
    },
    {
      "cell_type": "markdown",
      "metadata": {
        "id": "ORvZe8UsqtK2"
      },
      "source": [
        "25. Why is it important to use multithreading in certain applications?\n",
        "        -> Multithreading is important in applications to enable concurrent execution of tasks, improving responsiveness, performance, and resource utilization. By breaking down a program into multiple threads, applications can handle user interface updates, background tasks, and other operations simultaneously without blocking each other. This leads to a smoother, more responsive user experience and better overall system performance."
      ]
    },
    {
      "cell_type": "code",
      "execution_count": 3,
      "metadata": {
        "id": "L8kB03xJrI9v"
      },
      "outputs": [],
      "source": [
        "# How can you open a file for writing in Python and write a string to it?\n",
        "\n",
        "with open(\"example.txt\", \"w\") as file:\n",
        "  file.write(\"Hello, Welcome to Python\\n\"\"Welcome to pwskills\\n\"\"Course Data Analyst\\n\")"
      ]
    },
    {
      "cell_type": "code",
      "execution_count": null,
      "metadata": {
        "colab": {
          "base_uri": "https://localhost:8080/"
        },
        "id": "7gkbZXzVrvyH",
        "outputId": "201779ba-18b3-4831-e2ac-e8a89630cb5d"
      },
      "outputs": [
        {
          "name": "stdout",
          "output_type": "stream",
          "text": [
            "Hello, Welcome to Python"
          ]
        }
      ],
      "source": [
        "# Write a Python program to read  the contents of a file and print each line.\n",
        "\n",
        "with open(\"example.txt\", \"r\") as file:\n",
        "  for line in file:\n",
        "        print(line, end=\"\")\n"
      ]
    },
    {
      "cell_type": "code",
      "execution_count": null,
      "metadata": {
        "colab": {
          "base_uri": "https://localhost:8080/"
        },
        "id": "t9Pjwhpjr_SB",
        "outputId": "68bdc209-de6f-4831-9bbf-251fc4b2557b"
      },
      "outputs": [
        {
          "name": "stdout",
          "output_type": "stream",
          "text": [
            "Hello, Welcome to Python"
          ]
        }
      ],
      "source": [
        "# How would you handle a case where the file doesn't exist while trying to open it for reading?\n",
        "\n",
        "filename = \"example.txt\"\n",
        "\n",
        "try:\n",
        "    with open(filename, \"r\") as file:\n",
        "        for line in file:\n",
        "            print(line, end=\"\")\n",
        "except FileNotFoundError:\n",
        "    print(f\"Error: The file '{filename}' does not exist.\")"
      ]
    },
    {
      "cell_type": "code",
      "execution_count": null,
      "metadata": {
        "colab": {
          "base_uri": "https://localhost:8080/"
        },
        "id": "sXPqtRCysMsj",
        "outputId": "bc90cd3e-a84e-466a-fc0e-dd172d6f2419"
      },
      "outputs": [
        {
          "name": "stdout",
          "output_type": "stream",
          "text": [
            "Contents copied from 'example.txt' to 'destination.txt' successfully.\n"
          ]
        }
      ],
      "source": [
        "# Write a Python script that reads from one file and writes its content to another file.\n",
        "\n",
        "source_file = \"example.txt\"\n",
        "destination_file = \"destination.txt\"\n",
        "\n",
        "try:\n",
        "\n",
        "    with open(source_file, \"r\") as src:\n",
        "\n",
        "        with open(destination_file, \"w\") as dest:\n",
        "\n",
        "            for line in src:\n",
        "                dest.write(line)\n",
        "\n",
        "    print(f\"Contents copied from '{source_file}' to '{destination_file}' successfully.\")\n",
        "except FileNotFoundError:\n",
        "    print(f\"Error: The file '{source_file}' does not exist.\")\n",
        "except Exception as e:\n",
        "    print(f\"An error occurred: {e}\")\n"
      ]
    },
    {
      "cell_type": "code",
      "execution_count": null,
      "metadata": {
        "colab": {
          "base_uri": "https://localhost:8080/"
        },
        "id": "yJ6_jRl6sZei",
        "outputId": "18b72445-54ea-4e49-9082-606f6ab0a7d8"
      },
      "outputs": [
        {
          "name": "stdout",
          "output_type": "stream",
          "text": [
            "Enter numerator: 10\n",
            "Enter denominator: 0\n",
            "Error: Cannot divide by zero.\n"
          ]
        }
      ],
      "source": [
        "# How would you catch and handle division by zero error in Python?\n",
        "\n",
        "try:\n",
        "    numerator = int(input(\"Enter numerator: \"))\n",
        "    denominator = int(input(\"Enter denominator: \"))\n",
        "    result = numerator / denominator\n",
        "    print(\"Result:\", result)\n",
        "except ZeroDivisionError:\n",
        "    print(\"Error: Cannot divide by zero.\")\n",
        "except ValueError:\n",
        "    print(\"Error: Please enter valid integers.\")\n",
        "except Exception as e:\n",
        "    print(f\"An unexpected error occurred: {e}\")\n"
      ]
    },
    {
      "cell_type": "code",
      "execution_count": null,
      "metadata": {
        "colab": {
          "base_uri": "https://localhost:8080/"
        },
        "id": "3NYxl8S8smGP",
        "outputId": "1dd85ebd-3175-43bf-8446-d0e780908abc"
      },
      "outputs": [
        {
          "name": "stderr",
          "output_type": "stream",
          "text": [
            "ERROR:root:Attempted to divide 14 by zero.\n"
          ]
        },
        {
          "name": "stdout",
          "output_type": "stream",
          "text": [
            "An error occurred. Check 'error.log' for details.\n"
          ]
        }
      ],
      "source": [
        "# Write a Python program that logs an error message to a log file when a division by zero exception occurs.\n",
        "\n",
        "import logging\n",
        "\n",
        "logging.basicConfig(\n",
        "    filename='error.log',\n",
        "    level=logging.ERROR,\n",
        "    format='%(asctime)s - %(levelname)s - %(message)s'\n",
        ")\n",
        "\n",
        "def safe_divide(a, b):\n",
        "    try:\n",
        "        return a / b\n",
        "    except ZeroDivisionError:\n",
        "        logging.error(\"Attempted to divide %d by zero.\", a)\n",
        "        return None\n",
        "\n",
        "numerator = 14\n",
        "denominator = 0\n",
        "\n",
        "result = safe_divide(numerator, denominator)\n",
        "if result is None:\n",
        "    print(\"An error occurred. Check 'error.log' for details.\")\n",
        "else:\n",
        "    print(\"Result:\", result)\n"
      ]
    },
    {
      "cell_type": "code",
      "execution_count": null,
      "metadata": {
        "colab": {
          "base_uri": "https://localhost:8080/"
        },
        "id": "Gl53Uk-dERI2",
        "outputId": "5ad19140-fc3f-4a58-9a30-71f95d41ac7a"
      },
      "outputs": [
        {
          "name": "stdout",
          "output_type": "stream",
          "text": [
            "Error: The file 'nonexistent_file.txt' was not found.\n"
          ]
        }
      ],
      "source": [
        "#Write a program to handle a file opening error using exception handling.\n",
        "\n",
        "\n",
        "filename = \"nonexistent_file.txt\"\n",
        "\n",
        "try:\n",
        "    with open(filename, \"r\") as file:\n",
        "        content = file.read()\n",
        "        print(content)\n",
        "except FileNotFoundError:\n",
        "    print(f\"Error: The file '{filename}' was not found.\")\n",
        "except PermissionError:\n",
        "    print(f\"Error: You do not have permission to read '{filename}'.\")\n",
        "except Exception as e:\n",
        "    print(f\"An unexpected error occurred: {e}\")\n"
      ]
    },
    {
      "cell_type": "code",
      "execution_count": null,
      "metadata": {
        "colab": {
          "base_uri": "https://localhost:8080/"
        },
        "id": "Ip_cV05GEdhL",
        "outputId": "0c391ba9-9c25-4686-fdb4-2d20768efe94"
      },
      "outputs": [
        {
          "name": "stdout",
          "output_type": "stream",
          "text": [
            "['Hello, Welcome to Python\\n', 'Welcome to pwskille\\n', 'Course Data Analyst']\n"
          ]
        }
      ],
      "source": [
        "# How can you read a file line by line and store its content in a list in Python?\n",
        "\n",
        "with open(\"example.txt\", \"r\") as file:\n",
        "    lines = file.readlines()\n",
        "\n",
        "print(lines)\n"
      ]
    },
    {
      "cell_type": "code",
      "execution_count": null,
      "metadata": {
        "id": "cNFUqVT_Evxt"
      },
      "outputs": [],
      "source": [
        "# How can you append data to an existing file in Python?\n",
        "\n",
        "with open(\"example.txt\", \"a\") as file:\n",
        "    file.write(\"This line will be added to the end of the file.\\n\")\n"
      ]
    },
    {
      "cell_type": "code",
      "execution_count": null,
      "metadata": {
        "colab": {
          "base_uri": "https://localhost:8080/"
        },
        "id": "c89i8yGxubrE",
        "outputId": "5a49645e-3879-4c8c-a545-2669fda88389"
      },
      "outputs": [
        {
          "name": "stdout",
          "output_type": "stream",
          "text": [
            "Error: The key 'city' does not exist in the dictionary.\n",
            "City: Unknown\n"
          ]
        }
      ],
      "source": [
        "# Write a Python program that uses a try-ecxept block to handle an error when attempting to access a dictonary key that doesn't exist.\n",
        "\n",
        "person = {\n",
        "    \"name\": \"Venugopal\",\n",
        "    \"age\": 27\n",
        "}\n",
        "\n",
        "try:\n",
        "    print(\"City:\", person[\"city\"])\n",
        "except KeyError:\n",
        "    print(\"Error: The key 'city' does not exist in the dictionary.\")\n",
        "\n",
        "city = person.get(\"city\", \"Unknown\")\n",
        "print(\"City:\", city)\n",
        "\n"
      ]
    },
    {
      "cell_type": "code",
      "execution_count": null,
      "metadata": {
        "colab": {
          "base_uri": "https://localhost:8080/"
        },
        "id": "73chdm8kuvoz",
        "outputId": "ed0057d8-853d-4638-95de-f6731682ede8"
      },
      "outputs": [
        {
          "name": "stdout",
          "output_type": "stream",
          "text": [
            "Enter the numerator: 27\n",
            "Enter the denominator: 9\n",
            "Error: The specified key does not exist in the dictionary.\n"
          ]
        }
      ],
      "source": [
        "# Write a program that demonstrates using multiple except blocks to handle different types of exceptions.\n",
        "\n",
        "try:\n",
        "    num1 = int(input(\"Enter the numerator: \"))\n",
        "    num2 = int(input(\"Enter the denominator: \"))\n",
        "\n",
        "    result = num1 / num2\n",
        "\n",
        "    data = {\"name\": \"Venugopal\"}\n",
        "    print(\"Age:\", data[\"27\"])\n",
        "\n",
        "except ValueError:\n",
        "    print(\"Error: Please enter valid integers.\")\n",
        "\n",
        "except ZeroDivisionError:\n",
        "    print(\"Error: Cannot divide by zero.\")\n",
        "\n",
        "except KeyError:\n",
        "    print(\"Error: The specified key does not exist in the dictionary.\")\n",
        "\n",
        "except Exception as e:\n",
        "    print(f\"An unexpected error occurred: {e}\")\n"
      ]
    },
    {
      "cell_type": "code",
      "execution_count": null,
      "metadata": {
        "colab": {
          "base_uri": "https://localhost:8080/"
        },
        "id": "u7B-MI9eu93j",
        "outputId": "ec847307-a289-4072-8d27-4b3d0d084933"
      },
      "outputs": [
        {
          "name": "stdout",
          "output_type": "stream",
          "text": [
            "Hello, Welcome to Python\n",
            "Welcome to pwskills\n",
            "Course Data Analyst\n",
            "\n"
          ]
        }
      ],
      "source": [
        "# How would you check if a file exists before attempting to read it in Python?\n",
        "\n",
        "import os\n",
        "\n",
        "filename = \"example.txt\"\n",
        "\n",
        "if os.path.exists(filename):\n",
        "    with open(filename, \"r\") as file:\n",
        "        content = file.read()\n",
        "        print(content)\n",
        "else:\n",
        "    print(f\"The file '{filename}' does not exist.\")\n"
      ]
    },
    {
      "cell_type": "code",
      "execution_count": null,
      "metadata": {
        "colab": {
          "base_uri": "https://localhost:8080/"
        },
        "id": "f0-vLtjxzmlo",
        "outputId": "cb52e5ac-2fd5-4f49-e0d9-f6d2347d8056"
      },
      "outputs": [
        {
          "name": "stderr",
          "output_type": "stream",
          "text": [
            "ERROR:root:Division by zero error\n",
            "Traceback (most recent call last):\n",
            "  File \"<ipython-input-1-78dd9184ace9>\", line 15, in divide\n",
            "    result = a / b\n",
            "             ~~^~~\n",
            "ZeroDivisionError: division by zero\n"
          ]
        }
      ],
      "source": [
        "# Write a program that uses the logging module to log both information and error messages.\n",
        "\n",
        "import logging\n",
        "\n",
        "logging.basicConfig(\n",
        "    filename='app.log',\n",
        "    filemode='a',\n",
        "    format='%(asctime)s - %(levelname)s - %(message)s',\n",
        "    level=logging.INFO\n",
        ")\n",
        "\n",
        "def divide(a, b):\n",
        "    logging.info(f\"Attempting to divide {a} by {b}\")\n",
        "    try:\n",
        "        result = a / b\n",
        "        logging.info(f\"Result of division: {result}\")\n",
        "        return result\n",
        "    except ZeroDivisionError as e:\n",
        "        logging.error(\"Division by zero error\", exc_info=True)\n",
        "        return None\n",
        "\n",
        "if __name__ == \"__main__\":\n",
        "    divide(10, 2)\n",
        "    divide(5, 0)\n"
      ]
    },
    {
      "cell_type": "code",
      "execution_count": null,
      "metadata": {
        "colab": {
          "base_uri": "https://localhost:8080/"
        },
        "id": "sfwrGlO1z4Gn",
        "outputId": "a2d9c5b9-3861-489a-b6db-c4a45be75622"
      },
      "outputs": [
        {
          "name": "stdout",
          "output_type": "stream",
          "text": [
            "Enter the filename: example.txt\n",
            "Error: The file 'example.txt' was not found.\n"
          ]
        }
      ],
      "source": [
        "# Write a python program that prints the content of a file and handles the case when the file is empty.\n",
        "\n",
        "def print_file_contents(filename):\n",
        "    try:\n",
        "        with open(filename, 'r') as file:\n",
        "            content = file.read()\n",
        "            if content:\n",
        "                print(\"File Content:\\n\")\n",
        "                print(content)\n",
        "            else:\n",
        "                print(\"The file is empty.\")\n",
        "    except FileNotFoundError:\n",
        "        print(f\"Error: The file '{filename}' was not found.\")\n",
        "    except IOError as e:\n",
        "        print(f\"An I/O error occurred: {e}\")\n",
        "\n",
        "if __name__ == \"__main__\":\n",
        "    file_name = input(\"Enter the filename: \")\n",
        "    print_file_contents(file_name)\n"
      ]
    },
    {
      "cell_type": "code",
      "execution_count": null,
      "metadata": {
        "id": "phcjq3qz0L3A"
      },
      "outputs": [],
      "source": [
        "# Demonstrate how to use memory profiling to check the memory usage of a small program.\n",
        "\n",
        "import time\n",
        "\n",
        "def allocate_memory():\n",
        "    data = []\n",
        "    for i in range(20):\n",
        "        data.extend([i] * 100000)\n",
        "        time.sleep(0.1)\n",
        "    return data\n",
        "\n",
        "if __name__ == \"__main__\":\n",
        "    allocate_memory()\n",
        "\n",
        "\n"
      ]
    },
    {
      "cell_type": "code",
      "execution_count": null,
      "metadata": {
        "colab": {
          "base_uri": "https://localhost:8080/"
        },
        "id": "9e-oR3vw0WmZ",
        "outputId": "7adbe244-35d3-4d71-fd3d-e14432bc15f5"
      },
      "outputs": [
        {
          "name": "stdout",
          "output_type": "stream",
          "text": [
            "Successfully wrote 100 numbers to 'numbers.txt'\n"
          ]
        }
      ],
      "source": [
        "# Write a Python program to create and write a list numbers to a file, one number per line.\n",
        "\n",
        "def write_numbers_to_file(filename, numbers):\n",
        "    try:\n",
        "        with open(filename, 'w') as file:\n",
        "            for number in numbers:\n",
        "                file.write(f\"{number}\\n\")\n",
        "        print(f\"Successfully wrote {len(numbers)} numbers to '{filename}'\")\n",
        "    except IOError as e:\n",
        "        print(f\"An I/O error occurred: {e}\")\n",
        "\n",
        "if __name__ == \"__main__\":\n",
        "    numbers = list(range(1, 101))  # Numbers from 1 to 100\n",
        "    write_numbers_to_file(\"numbers.txt\", numbers)\n"
      ]
    },
    {
      "cell_type": "code",
      "execution_count": 1,
      "metadata": {
        "colab": {
          "base_uri": "https://localhost:8080/"
        },
        "id": "04CN77Od0sLS",
        "outputId": "8b9422c1-6f5b-49b5-8fa0-101232252003"
      },
      "outputs": [
        {
          "output_type": "stream",
          "name": "stderr",
          "text": [
            "INFO:MyLogger:Logging message number 0\n",
            "INFO:MyLogger:Logging message number 1\n",
            "INFO:MyLogger:Logging message number 2\n",
            "INFO:MyLogger:Logging message number 3\n",
            "INFO:MyLogger:Logging message number 4\n",
            "INFO:MyLogger:Logging message number 5\n",
            "INFO:MyLogger:Logging message number 6\n",
            "INFO:MyLogger:Logging message number 7\n",
            "INFO:MyLogger:Logging message number 8\n",
            "INFO:MyLogger:Logging message number 9\n",
            "INFO:MyLogger:Logging message number 10\n",
            "INFO:MyLogger:Logging message number 11\n",
            "INFO:MyLogger:Logging message number 12\n",
            "INFO:MyLogger:Logging message number 13\n",
            "INFO:MyLogger:Logging message number 14\n",
            "INFO:MyLogger:Logging message number 15\n",
            "INFO:MyLogger:Logging message number 16\n",
            "INFO:MyLogger:Logging message number 17\n",
            "INFO:MyLogger:Logging message number 18\n",
            "INFO:MyLogger:Logging message number 19\n",
            "INFO:MyLogger:Logging message number 20\n",
            "INFO:MyLogger:Logging message number 21\n",
            "INFO:MyLogger:Logging message number 22\n",
            "INFO:MyLogger:Logging message number 23\n",
            "INFO:MyLogger:Logging message number 24\n",
            "INFO:MyLogger:Logging message number 25\n",
            "INFO:MyLogger:Logging message number 26\n",
            "INFO:MyLogger:Logging message number 27\n",
            "INFO:MyLogger:Logging message number 28\n",
            "INFO:MyLogger:Logging message number 29\n",
            "INFO:MyLogger:Logging message number 30\n",
            "INFO:MyLogger:Logging message number 31\n",
            "INFO:MyLogger:Logging message number 32\n",
            "INFO:MyLogger:Logging message number 33\n",
            "INFO:MyLogger:Logging message number 34\n",
            "INFO:MyLogger:Logging message number 35\n",
            "INFO:MyLogger:Logging message number 36\n",
            "INFO:MyLogger:Logging message number 37\n",
            "INFO:MyLogger:Logging message number 38\n",
            "INFO:MyLogger:Logging message number 39\n",
            "INFO:MyLogger:Logging message number 40\n",
            "INFO:MyLogger:Logging message number 41\n",
            "INFO:MyLogger:Logging message number 42\n",
            "INFO:MyLogger:Logging message number 43\n",
            "INFO:MyLogger:Logging message number 44\n",
            "INFO:MyLogger:Logging message number 45\n",
            "INFO:MyLogger:Logging message number 46\n",
            "INFO:MyLogger:Logging message number 47\n",
            "INFO:MyLogger:Logging message number 48\n",
            "INFO:MyLogger:Logging message number 49\n",
            "INFO:MyLogger:Logging message number 50\n",
            "INFO:MyLogger:Logging message number 51\n",
            "INFO:MyLogger:Logging message number 52\n",
            "INFO:MyLogger:Logging message number 53\n",
            "INFO:MyLogger:Logging message number 54\n",
            "INFO:MyLogger:Logging message number 55\n",
            "INFO:MyLogger:Logging message number 56\n",
            "INFO:MyLogger:Logging message number 57\n",
            "INFO:MyLogger:Logging message number 58\n",
            "INFO:MyLogger:Logging message number 59\n",
            "INFO:MyLogger:Logging message number 60\n",
            "INFO:MyLogger:Logging message number 61\n",
            "INFO:MyLogger:Logging message number 62\n",
            "INFO:MyLogger:Logging message number 63\n",
            "INFO:MyLogger:Logging message number 64\n",
            "INFO:MyLogger:Logging message number 65\n",
            "INFO:MyLogger:Logging message number 66\n",
            "INFO:MyLogger:Logging message number 67\n",
            "INFO:MyLogger:Logging message number 68\n",
            "INFO:MyLogger:Logging message number 69\n",
            "INFO:MyLogger:Logging message number 70\n",
            "INFO:MyLogger:Logging message number 71\n",
            "INFO:MyLogger:Logging message number 72\n",
            "INFO:MyLogger:Logging message number 73\n",
            "INFO:MyLogger:Logging message number 74\n",
            "INFO:MyLogger:Logging message number 75\n",
            "INFO:MyLogger:Logging message number 76\n",
            "INFO:MyLogger:Logging message number 77\n",
            "INFO:MyLogger:Logging message number 78\n",
            "INFO:MyLogger:Logging message number 79\n",
            "INFO:MyLogger:Logging message number 80\n",
            "INFO:MyLogger:Logging message number 81\n",
            "INFO:MyLogger:Logging message number 82\n",
            "INFO:MyLogger:Logging message number 83\n",
            "INFO:MyLogger:Logging message number 84\n",
            "INFO:MyLogger:Logging message number 85\n",
            "INFO:MyLogger:Logging message number 86\n",
            "INFO:MyLogger:Logging message number 87\n",
            "INFO:MyLogger:Logging message number 88\n",
            "INFO:MyLogger:Logging message number 89\n",
            "INFO:MyLogger:Logging message number 90\n",
            "INFO:MyLogger:Logging message number 91\n",
            "INFO:MyLogger:Logging message number 92\n",
            "INFO:MyLogger:Logging message number 93\n",
            "INFO:MyLogger:Logging message number 94\n",
            "INFO:MyLogger:Logging message number 95\n",
            "INFO:MyLogger:Logging message number 96\n",
            "INFO:MyLogger:Logging message number 97\n",
            "INFO:MyLogger:Logging message number 98\n",
            "INFO:MyLogger:Logging message number 99\n"
          ]
        }
      ],
      "source": [
        "# How would you implement a basic logging setup that logs to a file, with rotation after 1MB?\n",
        "\n",
        "import logging\n",
        "from logging.handlers import RotatingFileHandler\n",
        "\n",
        "logger = logging.getLogger(\"MyLogger\")\n",
        "logger.setLevel(logging.INFO)\n",
        "\n",
        "handler = RotatingFileHandler(\n",
        "    \"app.log\", maxBytes=1_000_000, backupCount=5\n",
        ")\n",
        "\n",
        "formatter = logging.Formatter('%(asctime)s - %(levelname)s - %(message)s')\n",
        "handler.setFormatter(formatter)\n",
        "\n",
        "logger.addHandler(handler)\n",
        "\n",
        "for i in range(100):\n",
        "    logger.info(f\"Logging message number {i}\")\n"
      ]
    },
    {
      "cell_type": "code",
      "execution_count": null,
      "metadata": {
        "colab": {
          "background_save": true
        },
        "id": "vkj8eH9H1CWV",
        "outputId": "2c930a89-506e-4289-c646-23eed7e45fc6"
      },
      "outputs": [
        {
          "name": "stdout",
          "output_type": "stream",
          "text": [
            "Caught an IndexError: list index out of range\n"
          ]
        }
      ],
      "source": [
        "# Write a program that handles both IndexError and KeyError using a try-except block.\n",
        "\n"
      ]
    },
    {
      "cell_type": "code",
      "execution_count": 4,
      "metadata": {
        "id": "a9-dtI3V1O1d",
        "colab": {
          "base_uri": "https://localhost:8080/"
        },
        "outputId": "c242a222-3edf-40bf-cbf2-3b369a91a3b7"
      },
      "outputs": [
        {
          "output_type": "stream",
          "name": "stdout",
          "text": [
            "Hello, Welcome to Python\n",
            "Welcome to pwskills\n",
            "Course Data Analyst\n",
            "\n",
            "Hello, Welcome to Python\n",
            "Welcome to pwskills\n",
            "Course Data Analyst\n"
          ]
        }
      ],
      "source": [
        "# How would you open a file and read its contents using a context manger in Python?\n",
        "\n",
        "with open(\"example.txt\", \"r\") as file:\n",
        "    content = file.read()\n",
        "    print(content)\n",
        "with open(\"example.txt\", \"r\") as file:\n",
        "    for line in file:\n",
        "        print(line.strip())\n"
      ]
    },
    {
      "cell_type": "code",
      "execution_count": 6,
      "metadata": {
        "id": "vOtk-7xV1djM",
        "colab": {
          "base_uri": "https://localhost:8080/"
        },
        "outputId": "f8e4639a-9bf3-4d83-bb0d-2d1abe77b308"
      },
      "outputs": [
        {
          "output_type": "stream",
          "name": "stdout",
          "text": [
            "The word 'python' occurred 1 time(s) in the file.\n"
          ]
        }
      ],
      "source": [
        "# Write a Python program that reads a file and prints the number of occurrences of a specific word.\n",
        "\n",
        "def count_word_occurrences(filename, target_word):\n",
        "    try:\n",
        "        with open(filename, 'r') as file:\n",
        "            content = file.read()\n",
        "\n",
        "        words = content.lower().split()\n",
        "        target_word = target_word.lower()\n",
        "\n",
        "        count = words.count(target_word)\n",
        "        print(f\"The word '{target_word}' occurred {count} time(s) in the file.\")\n",
        "\n",
        "    except FileNotFoundError:\n",
        "        print(f\"Error: The file '{filename}' was not found.\")\n",
        "    except Exception as e:\n",
        "        print(f\"An error occurred: {e}\")\n",
        "\n",
        "file_name = \"example.txt\"\n",
        "word_to_search = \"python\"\n",
        "count_word_occurrences(file_name, word_to_search)\n"
      ]
    },
    {
      "cell_type": "code",
      "execution_count": 7,
      "metadata": {
        "id": "urny4G6L1w7B",
        "colab": {
          "base_uri": "https://localhost:8080/"
        },
        "outputId": "75a7c5d5-ff1b-4602-8721-183d4b0f7236"
      },
      "outputs": [
        {
          "output_type": "stream",
          "name": "stdout",
          "text": [
            "Hello, Welcome to Python\n",
            "Welcome to pwskills\n",
            "Course Data Analyst\n",
            "\n"
          ]
        }
      ],
      "source": [
        "# How can you check if a file is empty before attempting to read its contents?\n",
        "\n",
        "import os\n",
        "\n",
        "filename = \"example.txt\"\n",
        "\n",
        "if os.path.getsize(filename) == 0:\n",
        "    print(\"The file is empty.\")\n",
        "else:\n",
        "    with open(filename, 'r') as file:\n",
        "        content = file.read()\n",
        "        print(content)\n"
      ]
    },
    {
      "cell_type": "code",
      "execution_count": 9,
      "metadata": {
        "id": "qRzGOoQo15Tk",
        "colab": {
          "base_uri": "https://localhost:8080/"
        },
        "outputId": "f8b12df3-34f6-444b-f81a-40cfa11edf7a"
      },
      "outputs": [
        {
          "output_type": "stream",
          "name": "stdout",
          "text": [
            "Hello, Welcome to Python\n",
            "Welcome to pwskills\n",
            "Course Data Analyst\n",
            "\n"
          ]
        }
      ],
      "source": [
        "# Write a Python program thar writes to a log file when an error occurs during file handling?\n",
        "\n",
        "import logging\n",
        "\n",
        "logging.basicConfig(filename='error_log.txt', level=logging.ERROR,\n",
        "                    format='%(asctime)s - %(levelname)s - %(message)s')\n",
        "\n",
        "def read_file(filename):\n",
        "    try:\n",
        "        with open(filename, 'r') as file:\n",
        "            content = file.read()\n",
        "            print(content)\n",
        "    except Exception as e:\n",
        "        logging.error(f\"Error while handling file '{filename}': {e}\")\n",
        "        print(\"An error occurred. Check 'error_log.txt' for details.\")\n",
        "\n",
        "read_file(\"example.txt\")\n"
      ]
    }
  ],
  "metadata": {
    "colab": {
      "provenance": []
    },
    "kernelspec": {
      "display_name": "Python 3",
      "name": "python3"
    },
    "language_info": {
      "name": "python"
    }
  },
  "nbformat": 4,
  "nbformat_minor": 0
}