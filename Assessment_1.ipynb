{
  "nbformat": 4,
  "nbformat_minor": 0,
  "metadata": {
    "colab": {
      "provenance": []
    },
    "kernelspec": {
      "name": "python3",
      "display_name": "Python 3"
    },
    "language_info": {
      "name": "python"
    }
  },
  "cells": [
    {
      "cell_type": "markdown",
      "source": [
        "1. What is Python, and why is it popular?\n",
        "    -> Python is a high-level interpreted programming languages know for its easy to read syntax and versatility.\n",
        "    Python is popular because Simple and readable syntax, versatile, Huge libraries and frameworks, big community support, works on all operating system without change and Integrates easily.\n",
        "\n",
        "2. What is an interperter in Python?\n",
        "    -> In python, an interperter is a program that reads and executes your python code line by libne, instead of compiling that whole code into machine language first.\n",
        "\n",
        "3. What are per-defined keywords in Python?\n",
        "    -> pre-defined keywords in python are reserved words that have special meaning in language. These words are part of python syntex and cannot be used as variable names, functions or identifiers.\n",
        "\n",
        "4. Can keywords be used as variable names?\n",
        "    -> No keywords cannot be used as variable names. Since keywords have special meaning in python syntax which may results you in syntax error.\\\n",
        "  \n",
        "5. What is mutability in python?\n",
        "    -> Mutibility in python means the object can be changed from on state to other after it is craeted.\n",
        "\n",
        "6. Why are list mutable, but tuples are immutable?\n",
        "    -> Lists are ment to store a collection of items that may change can add or remove item or modify elements.\n",
        "    Tuples are ment to be fixed collection of items, often used to group data that shouldn't be changed.\n",
        "\n",
        "7. What is the difference between \"==\" and \"is\" operators in python?\n",
        "    -> Difference between \"==\" and \"is\" operators in python are:\n",
        "    \"==\" Equality operator:\n",
        "    * \"==\" Checks two values are equal and their contents are same\n",
        "    * \"==\" Compares values.\n",
        "    * \"==\"can be overridden by Classes.\n",
        "\n",
        "    \"is\" Identity operator:\n",
        "    * \"is\" Checks is two variables point to the same object in the memory.\n",
        "    * \"is\" Compares object identity, not valus.\n",
        "    * \"is\" operator cannot be overridden.\n",
        "\n",
        "8. What are logical operators in python?\n",
        "    -> Logical operators are used to combine boolean expressions in Python.\n",
        "    There are there types of logical operators:\n",
        "    * and\n",
        "    * or\n",
        "    * not\n",
        "\n",
        "9. What are type casting in python?\n",
        "    -> Converting data from one form to another is called type casting in python. Pythons have a built in functions for type casting.\n",
        "    Ex: converting string into integer.\n",
        "\n",
        "10. What is ṭhe difference between implicit and explicit type casting?\n",
        "    -> Difference between implict and explicit type casting is:\n",
        "     * Implicit type casting - In python automatically converts one data type to another with any user intervention, usually from smaller to larger or general type to avoid data loss.\n",
        "     * Explicit type casting - User manually converts data into one form to another using built-in functions such as int(), str(), float().\n",
        "\n",
        "11. What is the purpose of conditional statements in python?\n",
        "    -> The purpose of conditional statement in python is to contral the flow of program based on contitions, they allow code to make decisions by its own.\n",
        "\n",
        "12. How does elif statement works?\n",
        "    -> Python checks the condition from top to bottom. As soon as finds the condition is true, it will execute that block and will skip rest all the blocks. In program can have multipe elif blocks but will execute only one block.\n",
        "\n",
        "13.  What is the difference between for and while loops?\n",
        "    -> Difference between for loop and while loop is:\n",
        "    For Loop:\n",
        "    * the for loop is used to iterate over a sequence or to repeate code set number of times.\n",
        "    * It runs a fixed number of iterations based on a sequence or range.\n",
        "    * It can be used when you know in advance how many times want to repeat a block of code.\n",
        "\n",
        "    while loop:\n",
        "    * While loop is used to repeat the code as long as conditions is true.\n",
        "    * It will run the code block as long as contions evalates to true. If condition never becomes false it may leads to infinity loop.\n",
        "    * It can be used when the number of iterations is not known, and want to run the loop until the condition is met.\n",
        "\n",
        "14. Describe the scenario where a while loop is more suitable than a for loop?\n",
        "    -> The scenario where a while loop is more suitable than for loop is real time applications or games, where you don't know how long to run but it should continue until the certain conditions like win/lose need to be met. In  such case while loop is usefull.\n",
        "\n"
      ],
      "metadata": {
        "id": "2-ZPjA226qoy"
      }
    },
    {
      "cell_type": "markdown",
      "source": [],
      "metadata": {
        "id": "AR6CUhUhGdBr"
      }
    },
    {
      "cell_type": "markdown",
      "source": [],
      "metadata": {
        "id": "x-2bhC4qGcml"
      }
    },
    {
      "cell_type": "code",
      "execution_count": null,
      "metadata": {
        "colab": {
          "base_uri": "https://localhost:8080/"
        },
        "id": "f-hI5TfI8FZ0",
        "outputId": "428e7732-7881-4711-bd68-26c2914815ce"
      },
      "outputs": [
        {
          "output_type": "stream",
          "name": "stdout",
          "text": [
            "Hello, World!\n"
          ]
        }
      ],
      "source": [
        "#Write a python program to print \"Hello, World!\"\n",
        "\n",
        "print(\"Hello, World!\")"
      ]
    },
    {
      "cell_type": "code",
      "source": [
        "#Write a python program that displays your name and age.\n",
        "\n",
        "name = \"Venugopal\"\n",
        "age = 27\n",
        "\n",
        "print(\"Name:\", name)\n",
        "print(\"Age:\", age)"
      ],
      "metadata": {
        "colab": {
          "base_uri": "https://localhost:8080/"
        },
        "id": "89Yxjse3nUap",
        "outputId": "ce0ada65-8a89-4400-fdd3-2f66850911a3"
      },
      "execution_count": null,
      "outputs": [
        {
          "output_type": "stream",
          "name": "stdout",
          "text": [
            "Name: Venugopal\n",
            "Age: 27\n"
          ]
        }
      ]
    },
    {
      "cell_type": "code",
      "source": [
        "#Write code to print all the pre-defined keywords in python using the keyword library.\n",
        "\n",
        "help('keywords')"
      ],
      "metadata": {
        "colab": {
          "base_uri": "https://localhost:8080/"
        },
        "id": "MgJtLaOunmbr",
        "outputId": "a5891d1d-72cb-4c04-fe97-311a82f9ea79"
      },
      "execution_count": null,
      "outputs": [
        {
          "output_type": "stream",
          "name": "stdout",
          "text": [
            "\n",
            "Here is a list of the Python keywords.  Enter any keyword to get more help.\n",
            "\n",
            "False               class               from                or\n",
            "None                continue            global              pass\n",
            "True                def                 if                  raise\n",
            "and                 del                 import              return\n",
            "as                  elif                in                  try\n",
            "assert              else                is                  while\n",
            "async               except              lambda              with\n",
            "await               finally             nonlocal            yield\n",
            "break               for                 not                 \n",
            "\n"
          ]
        }
      ]
    },
    {
      "cell_type": "code",
      "source": [
        "#Write a program that checks if a given word is a python keyword.\n",
        "\n",
        "import keyword\n",
        "\n",
        "word = input(\"Enter a word: \")\n",
        "\n",
        "if keyword.iskeyword(word):\n",
        "    print(f\"{word} is a python keyword.\")\n",
        "else:\n",
        "    print(f\"{word} is not a python keyword.\")"
      ],
      "metadata": {
        "id": "o7BKJPKDn3e-",
        "colab": {
          "base_uri": "https://localhost:8080/"
        },
        "outputId": "4bb745db-50fa-400d-e4d8-097a658e48fc"
      },
      "execution_count": null,
      "outputs": [
        {
          "output_type": "stream",
          "name": "stdout",
          "text": [
            "Enter a word: hii\n",
            "hii is not a python keyword.\n"
          ]
        }
      ]
    },
    {
      "cell_type": "code",
      "source": [
        "#Create a list and tuple in python, and demonstrate how attempting to change an element works differently for each.\n",
        "\n",
        "my_list = [1, 2, 3]\n",
        "my_tuple = (1, 2, 3)\n",
        "\n",
        "print(\"Original list:\", my_list)\n",
        "my_list[1] = 8\n",
        "print(\"Modified list:\", my_list)\n",
        "\n",
        "if 20 in my_tuple:\n",
        "  my_tuple[1] = 8\n",
        "  print(\"Modified tuple:\", my_tuple)\n",
        "else:\n",
        "    print(\"Tuple Value not found. Tuple unchanged:\", my_tuple)\n"
      ],
      "metadata": {
        "id": "wb199jGxoEsd",
        "colab": {
          "base_uri": "https://localhost:8080/"
        },
        "outputId": "ce756b22-7c3d-4bfc-da4c-7f8844b7b0ee"
      },
      "execution_count": null,
      "outputs": [
        {
          "output_type": "stream",
          "name": "stdout",
          "text": [
            "Original list: [1, 2, 3]\n",
            "Modified list: [1, 8, 3]\n",
            "Tuple Value not found. Tuple unchanged: (1, 2, 3)\n"
          ]
        }
      ]
    },
    {
      "cell_type": "code",
      "source": [
        "#Write a function to demonstrate the behavior of mutable and immutable arguments.\n",
        "\n"
      ],
      "metadata": {
        "id": "7bM_1Q7KO695"
      },
      "execution_count": null,
      "outputs": []
    },
    {
      "cell_type": "code",
      "source": [
        "#Write a program that performs basic arithemetic operations on two user-input numbers.\n",
        "\n",
        "Num1 = float(input(\"Enter first number: \"))\n",
        "Num2 = float(input(\"Enter second number: \"))\n",
        "\n",
        "print(\"Addition:\", Num1 + Num2)\n",
        "print(\"Subtraction:\", Num1 - Num2)\n",
        "print(\"Multiplication:\", Num1 * Num2)\n",
        "if Num2 != 0:\n",
        "  print(\"Division:\", Num1 / Num2)\n",
        "else:\n",
        "  print(\"Division by zero is not allowed.\")"
      ],
      "metadata": {
        "colab": {
          "base_uri": "https://localhost:8080/"
        },
        "id": "YLj93CQRSeP7",
        "outputId": "0bfe79d5-e495-4e93-e03a-057cb46f42b3"
      },
      "execution_count": 9,
      "outputs": [
        {
          "output_type": "stream",
          "name": "stdout",
          "text": [
            "Enter first number: 10\n",
            "Enter second number: 5\n",
            "Addition: 15.0\n",
            "Subtraction: 5.0\n",
            "Multiplication: 50.0\n",
            "Division: 2.0\n"
          ]
        }
      ]
    },
    {
      "cell_type": "code",
      "source": [
        "#Write a program to demonstrate the use of logical operators.\n",
        "a = int(input(\"Enter the first number: \"))\n",
        "b = int(input(\"Enter the second number: \"))\n",
        "\n",
        "\n",
        "print(\"\\nLogical AND:\")\n",
        "if a > 0 and b > 0:\n",
        "    print(\"Both numbers are positive.\")\n",
        "else:\n",
        "    print(\"At least one number is negative.\")\n",
        "\n",
        "print(\"\\nLogical OR:\")\n",
        "if a > 0 or b > 0:\n",
        "    print(\"At least one number is positive.\")\n",
        "else:\n",
        "    print(\"Both numbers are negative5.\")\n",
        "\n",
        "print(\"\\nLogical NOT:\")\n",
        "is_equal = (a == b)\n",
        "print(\"Numbers are equal:\", is_equal)\n",
        "print(\"Using NOT operator: \", not is_equal)\n"
      ],
      "metadata": {
        "id": "3wkfsmWtP35r",
        "colab": {
          "base_uri": "https://localhost:8080/"
        },
        "outputId": "93fe67d4-7429-4ec4-fcf0-c46684c3cea5"
      },
      "execution_count": 15,
      "outputs": [
        {
          "output_type": "stream",
          "name": "stdout",
          "text": [
            "Enter the first number: 5\n",
            "Enter the second number: 5\n",
            "\n",
            "Logical AND:\n",
            "Both numbers are positive.\n",
            "\n",
            "Logical OR:\n",
            "At least one number is positive.\n",
            "\n",
            "Logical NOT:\n",
            "Numbers are equal: True\n",
            "Using NOT operator:  False\n"
          ]
        }
      ]
    },
    {
      "cell_type": "code",
      "source": [
        "#Write a python program to convert user input from string to integer, float, and boolean types.\n",
        "\n",
        "user_input = input(\"Enter a value: \")\n",
        "\n",
        "# Convert to integer\n",
        "try:\n",
        "    int_value = int(user_input)\n",
        "    print(f\"Integer value: {int_value}\")\n",
        "except ValueError:\n",
        "    print(\"Cannot convert to integer.\")\n",
        "\n",
        "# Convert to float\n",
        "try:\n",
        "    float_value = float(user_input)\n",
        "    print(f\"Float value: {float_value}\")\n",
        "except ValueError:\n",
        "    print(\"Cannot convert to float.\")\n",
        "\n",
        "\n",
        "bool_value = bool(user_input)\n",
        "print(f\"Boolean value: {bool_value}\")"
      ],
      "metadata": {
        "id": "YqjSlMCzQGiU",
        "colab": {
          "base_uri": "https://localhost:8080/"
        },
        "outputId": "f4dc4ca6-8191-4cdc-8f2b-af2817a755c9"
      },
      "execution_count": 19,
      "outputs": [
        {
          "output_type": "stream",
          "name": "stdout",
          "text": [
            "Enter a value: 153\n",
            "Integer value: 153\n",
            "Float value: 153.0\n",
            "Boolean value: True\n"
          ]
        }
      ]
    },
    {
      "cell_type": "code",
      "source": [
        "#Write a program to demonstrate type casting with list elements.\n",
        "\n",
        "a = ['1', '2', '3.4', '0', 'venu', '4']\n",
        "\n",
        "print(\"Original list of strings:\", a)\n",
        "\n",
        "# Convert to list of integers\n",
        "int_list = []\n",
        "for item in a:\n",
        "    try:\n",
        "        int_list.append(int(item))\n",
        "    except ValueError:\n",
        "        print(f\"Cannot convert '{item}' to integer.\")\n",
        "print(\"List converted to integers:\", int_list)\n",
        "\n",
        "# Convert to list of floats\n",
        "float_list = []\n",
        "for item in a:\n",
        "    try:\n",
        "        float_list.append(float(item))\n",
        "    except ValueError:\n",
        "        print(f\"Cannot convert '{item}' to float.\")\n",
        "print(\"List converted to floats:\", float_list)\n",
        "\n",
        "# Convert to list of booleans\n",
        "bool_list = [bool(item) for item in a]\n",
        "print(\"List converted to booleans:\", bool_list)"
      ],
      "metadata": {
        "id": "k-g_MZDTQY0a",
        "colab": {
          "base_uri": "https://localhost:8080/"
        },
        "outputId": "be12b007-3245-4879-bf94-52b7a20ac1eb"
      },
      "execution_count": 24,
      "outputs": [
        {
          "output_type": "stream",
          "name": "stdout",
          "text": [
            "Original list of strings: ['1', '2', '3.4', '0', 'venu', '4']\n",
            "Cannot convert '3.4' to integer.\n",
            "Cannot convert 'venu' to integer.\n",
            "List converted to integers: [1, 2, 0, 4]\n",
            "Cannot convert 'venu' to float.\n",
            "List converted to floats: [1.0, 2.0, 3.4, 0.0, 4.0]\n",
            "List converted to booleans: [True, True, True, True, True, True]\n"
          ]
        }
      ]
    },
    {
      "cell_type": "code",
      "source": [
        "#Write a program that checks if a number is positive, negative, or zero.\n",
        "\n",
        "num = int(input(\"Enter a number: \"))\n",
        "\n",
        "if num > 0:\n",
        "    print(\"The number is positive.\")\n",
        "elif num < 0:\n",
        "    print(\"The number is negative.\")\n",
        "else:\n",
        "    print(\"The number is zero.\")\n"
      ],
      "metadata": {
        "id": "5jSHdluNQhxy",
        "colab": {
          "base_uri": "https://localhost:8080/"
        },
        "outputId": "adb0b338-fe5a-42dc-cc4c-bcfb9560a544"
      },
      "execution_count": 26,
      "outputs": [
        {
          "output_type": "stream",
          "name": "stdout",
          "text": [
            "Enter a number: 0\n",
            "The number is zero.\n"
          ]
        }
      ]
    },
    {
      "cell_type": "code",
      "source": [
        "#Write a for loop to print numbers form 1 to 10.\n",
        "for i in range(1, 11):\n",
        "    print(i)\n"
      ],
      "metadata": {
        "id": "XE_kNNLBQyTJ",
        "colab": {
          "base_uri": "https://localhost:8080/"
        },
        "outputId": "e9b4008d-77bb-46c2-caea-014ceff5bce3"
      },
      "execution_count": 28,
      "outputs": [
        {
          "output_type": "stream",
          "name": "stdout",
          "text": [
            "1\n",
            "2\n",
            "3\n",
            "4\n",
            "5\n",
            "6\n",
            "7\n",
            "8\n",
            "9\n",
            "10\n"
          ]
        }
      ]
    },
    {
      "cell_type": "code",
      "source": [
        "#Write a python program to find the sum of all even numbers between 1 to 50.\n",
        "\n",
        "sun = 0\n",
        "for i in range(1, 51):\n",
        "    if i % 2 == 0:\n",
        "        sun += i\n",
        "print(\"Sum of even numbers from 1 to 50:\", sun)\n"
      ],
      "metadata": {
        "id": "ZPn5lY8WQ7t0",
        "colab": {
          "base_uri": "https://localhost:8080/"
        },
        "outputId": "304f1064-33c2-4868-bfac-d9c76dc7e908"
      },
      "execution_count": 30,
      "outputs": [
        {
          "output_type": "stream",
          "name": "stdout",
          "text": [
            "Sum of even numbers from 1 to 50: 650\n"
          ]
        }
      ]
    },
    {
      "cell_type": "code",
      "source": [
        "#Write a program to reverse a string using a while loop.\n",
        "\n",
        "a = input(\"Enter a string: \")\n",
        "\n",
        "b = \"\"\n",
        "c = len(a) - 1\n",
        "\n",
        "while c >= 0:\n",
        "    b += a[c]\n",
        "    c -= 1\n",
        "\n",
        "print(\"Reversed string:\", b)"
      ],
      "metadata": {
        "id": "J2oYibGsRGy8",
        "colab": {
          "base_uri": "https://localhost:8080/"
        },
        "outputId": "2cdcdfcf-38e1-40e5-c75f-1f69cc555a4f"
      },
      "execution_count": 32,
      "outputs": [
        {
          "output_type": "stream",
          "name": "stdout",
          "text": [
            "Enter a string: venu\n",
            "Reversed string: unev\n"
          ]
        }
      ]
    },
    {
      "cell_type": "code",
      "source": [
        "#Write a python program program to calculate the fractional of a number provided by the user using a while loop.\n",
        "\n",
        "num = int(input(\"Enter a number: \"))\n",
        "\n",
        "\n",
        "if num < 0:\n",
        "    print(\"Factorial is not defined for negative numbers.\")\n",
        "else:\n",
        "    factorial = 1\n",
        "    i = 1\n",
        "\n",
        "    while i <= num:\n",
        "        factorial *= i\n",
        "        i += 1\n",
        "\n",
        "    print(f\"The factorial of {num} is: {factorial}\")"
      ],
      "metadata": {
        "id": "hoMNAr25RSkm",
        "colab": {
          "base_uri": "https://localhost:8080/"
        },
        "outputId": "f17c7477-992f-4951-afc8-f5be076be3fc"
      },
      "execution_count": 34,
      "outputs": [
        {
          "output_type": "stream",
          "name": "stdout",
          "text": [
            "Enter a number: 10\n",
            "The factorial of 10 is: 3628800\n"
          ]
        }
      ]
    }
  ]
}