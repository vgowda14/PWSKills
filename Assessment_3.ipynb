{
  "nbformat": 4,
  "nbformat_minor": 0,
  "metadata": {
    "colab": {
      "provenance": []
    },
    "kernelspec": {
      "name": "python3",
      "display_name": "Python 3"
    },
    "language_info": {
      "name": "python"
    }
  },
  "cells": [
    {
      "cell_type": "markdown",
      "source": [
        "1. What is the difference between a function and a method in Python\n",
        "        -> Difference between function and method in Python are:\n",
        "\n",
        "        Function:\n",
        "        * Function is a stand alone block of code.\n",
        "        * Function is defined in def keyword\n",
        "        * Function can be used independently in any object.\n",
        "        * Function can exists outside the class.\n",
        "        Ex:\n",
        "        def greet(name):\n",
        "          return f\"Hello,{name}\"\n",
        "        greet(\"Venugopal\")\n",
        "\n",
        "        Method:\n",
        "        * The function that is associated with an object.\n",
        "        * Method can be called in an object.\n",
        "        * The first argument is typically self, referring the instance of the class.\n",
        "        * Method usually defined inside the class.\n",
        "        Ex:\n",
        "        class greeting:\n",
        "          def greet(self, name):\n",
        "            return f\"Hello, {name}\"\n",
        "        g = greeting()\n",
        "        g.greet(Venugopal)\n",
        "\n",
        "\n",
        "2. Explain the concept of function arguments and parameters in Python.\n",
        "        -> Parameters:\n",
        "        * This are place holders defined in the function signature.\n",
        "        * Parameters are decalared when defining the functions.\n",
        "        * Think of them as variables that receive values when the function is called.\n",
        "        Ex: def greet(name):  \n",
        "              print(f\"Hello, {Venugopal}\")\n",
        "\n",
        "         Arguments:\n",
        "         * These are actual values pass to a function when calling it.\n",
        "         * They are assigned to the corresponding parameters.\n",
        "         Ex: greet(\"Venugopal\")\n",
        "\n",
        "3. What are the different ways to define and call a function in Python?\n",
        "        ->\n",
        "\n",
        "4. What is the purpose of the 'return' statement in a Python function?\n",
        "        -> The return statement in a Python functions servs the purpose of exiting the function and and sending result back value from where the function was called. When return statement is executed it terminates immediately even after there in more code.\n",
        "        Ex: def add(a, b):\n",
        "              return a + b\n",
        "            result = add( 5, 7)\n",
        "            print(result)   \n",
        "\n",
        "5. What are iterators in Python and how do they differ from iterables?\n",
        "        -> An Iterator is an object that represents a stream of teh data. It is created from iterable and is used to get elements one at a time using next() function.\n",
        "        * Iterator and fetch data one by one where as iterable can be looped over.\n",
        "        * Iterator as both iter() and next() where as iterable as iter().\n",
        "        * Iterator cannot be reused where as iterable can be reused.\n",
        "        Ex: s = \"PWSKILLS\"\n",
        "            for i in s:\n",
        "              print(i)  #Iterator\n",
        "            iter(s)\n",
        "            a = iter(s) #creating iterator object\n",
        "            next(a)\n",
        "        \n",
        "\n",
        "\n",
        "6. Explain the concept of generators in Python and how they are defined.\n",
        "        -> A generator is a special type of iterator in Python that generates values on the fly instead of storing them all in memory at once. This makes them memory-efficient, especially useful when working with large datasets or infinite sequences. generators are defined using def and yeild functions. general functions uses 'return' statement whereas generator function uses 'yeild'\n",
        "        Ex: def square_number_generator(n):\n",
        "              for i in range(n):\n",
        "                yield i**2\n",
        "            square_number_generator(100)\n",
        "            gen = square_number_generator(100)\n",
        "            next(gen)\n",
        "\n",
        "\n",
        "\n",
        "7. What are the advantages of using generators over regular functions?\n",
        "        -> Advantages of Using Generators Over Regular Functions:\n",
        "        * Generators avoid unnecessary calculations and allocations by producing values only when needed.\n",
        "        * Generators can represent infinite sequences without running out of memory. Ex Fibonacci series\n",
        "        * In generator values are produced on demand, execution can be paused and resumed, which helps to save memory.\n",
        "        * Generators yeilds items one at a time and do not store entire result in memory.\n",
        "        * Generators are mainly used while working on large data base.\n",
        "        Ex: def fibonacci_series(limit):\n",
        "              a, b = 0, 1\n",
        "              for _ in range(limit):\n",
        "                yield a\n",
        "                a, b = b, a + b\n",
        "            for num in fibonacci_series(10):\n",
        "              print(num)\n",
        "\n",
        "8. What is a lambda function is Python and when is it typically used?\n",
        "        -> Lambda function is a small anonymous function defined using the lambda keyword. It can take any number of arguments but can only have one expression. The expression is evaluated and returned. Lambda functions are often used for short, simple operations where a full function definition is unnecessary.\n",
        "        * It can have any number of arguments, but only one expression.\n",
        "        Ex: sq_lambda = lambda x : x**2  \n",
        "            sq_lambda(3)\n",
        "\n",
        "\n",
        "9. Explain the purpose and usage of the 'map()' function in python.\n",
        "        -> The map() function is used to apply a function to every item in an iterable  and returns a map object of the results. Applys with lambda, def function.\n",
        "        Ex: l = [1, 2, 3, 4, 5]\n",
        "            def squ(x):\n",
        "              return x**2\n",
        "            list(map(squ, l))\n",
        "\n",
        "          2. l = [1, 2, 3, 4, 5, 6]\n",
        "             list(map(lambda x : x**2, l))\n",
        "\n",
        "10. What is the difference between 'map()', 'reduce()', and 'filter()' functions in Python?\n",
        "        -> Difference between map(), reduce() and filter() are:\n",
        "        Map():\n",
        "        * Used to transforms each item.\n",
        "        * returned type is transformed value\n",
        "        * Functions mostly returns the return value\n",
        "        Ex: l = [1, 2, 3, 4, 5, 6]\n",
        "            list(map(lambda x : x**2, l))\n",
        "\n",
        "        Reduce():\n",
        "        * Used to combine items into one value\n",
        "        * Return type single value.\n",
        "        * Takes 2 arguments and returns one value\n",
        "        Ex: from functools import reduce\n",
        "            l = [1, 2, 3, 4, 5, 6]\n",
        "            reduce(lambda x, y : x+y, l)\n",
        "\n",
        "        Filter():\n",
        "        * Filter selects based on conditions provided.\n",
        "        * Return type filtered items\n",
        "        * Function must return true or false.\n",
        "        Ex: l = [1, 2, 3, 4, 5, 6]\n",
        "            list(filter(lambda x : x%2 == 0, l))\n",
        "\n",
        "11. Using pen and paper write the internal mechanism for sum operation using reduce function on this given list:[47, 11, 42, 13];\n",
        "        -> Attached in Google drive.\n",
        "\n",
        "\n",
        "\n",
        "\n",
        "NOTE*: All the example for the above questins have executed below."
      ],
      "metadata": {
        "id": "ppAGPaIxYSWb"
      }
    },
    {
      "cell_type": "code",
      "source": [
        "# Question one example using function\n",
        "\n",
        "def greet(name):\n",
        "          return f\"Hello,{name}\"\n",
        "greet(\" \"\"Venugopal\")"
      ],
      "metadata": {
        "colab": {
          "base_uri": "https://localhost:8080/",
          "height": 36
        },
        "id": "PCuncTsnYTBV",
        "outputId": "1b9be412-ae54-4f42-d516-f7cfe5ef4bd1"
      },
      "execution_count": null,
      "outputs": [
        {
          "output_type": "execute_result",
          "data": {
            "text/plain": [
              "'Hello, Venugopal'"
            ],
            "application/vnd.google.colaboratory.intrinsic+json": {
              "type": "string"
            }
          },
          "metadata": {},
          "execution_count": 69
        }
      ]
    },
    {
      "cell_type": "code",
      "source": [
        "#Question one example using method\n",
        "\n",
        "class greeting:\n",
        "          def greet(self, name):\n",
        "            return f\"Hello, {name}\"\n",
        "g = greeting()\n",
        "g.greet(\"Venugopal\")"
      ],
      "metadata": {
        "colab": {
          "base_uri": "https://localhost:8080/",
          "height": 36
        },
        "id": "ccxVzElUZv2R",
        "outputId": "8aedcb62-01e4-47cf-875e-3ff49567ce67"
      },
      "execution_count": null,
      "outputs": [
        {
          "output_type": "execute_result",
          "data": {
            "text/plain": [
              "'Hello, Venugopal'"
            ],
            "application/vnd.google.colaboratory.intrinsic+json": {
              "type": "string"
            }
          },
          "metadata": {},
          "execution_count": 70
        }
      ]
    },
    {
      "cell_type": "code",
      "source": [
        "#Question two example using method\n",
        "def greet(name): #Parameters\n",
        "  print(f\"Hello, {name}\")  #Parameters\n",
        "greet(\"Venugopal\") #Arugment"
      ],
      "metadata": {
        "colab": {
          "base_uri": "https://localhost:8080/"
        },
        "id": "7GCKY10wamoh",
        "outputId": "c94cbc9c-bf6c-4fa5-be12-cdfa740b807b"
      },
      "execution_count": null,
      "outputs": [
        {
          "output_type": "stream",
          "name": "stdout",
          "text": [
            "Hello, Venugopal\n"
          ]
        }
      ]
    },
    {
      "cell_type": "code",
      "source": [
        "#Question four example using method\n",
        "\n",
        "def add(a, b):\n",
        "  return a + b\n",
        "result = add( 5, 7)\n",
        "print(result)"
      ],
      "metadata": {
        "colab": {
          "base_uri": "https://localhost:8080/"
        },
        "id": "GgQhl6JGN6Vn",
        "outputId": "0aa118b6-a1c5-42ff-82f4-424f34027814"
      },
      "execution_count": null,
      "outputs": [
        {
          "output_type": "stream",
          "name": "stdout",
          "text": [
            "12\n"
          ]
        }
      ]
    },
    {
      "cell_type": "code",
      "source": [
        "#Question five example using method\n",
        "s = \"Venugopal\"\n",
        "for i in s:\n",
        "  print(i)  #Iterator\n",
        "iter(s)\n",
        "a = iter(s) #creating iterator object\n",
        "next(a)"
      ],
      "metadata": {
        "colab": {
          "base_uri": "https://localhost:8080/",
          "height": 192
        },
        "id": "3npI-3U2Pzmz",
        "outputId": "d4f829b6-4219-4ded-df16-3114c3feb471"
      },
      "execution_count": null,
      "outputs": [
        {
          "output_type": "stream",
          "name": "stdout",
          "text": [
            "V\n",
            "e\n",
            "n\n",
            "u\n",
            "g\n",
            "o\n",
            "p\n",
            "a\n",
            "l\n"
          ]
        },
        {
          "output_type": "execute_result",
          "data": {
            "text/plain": [
              "'V'"
            ],
            "application/vnd.google.colaboratory.intrinsic+json": {
              "type": "string"
            }
          },
          "metadata": {},
          "execution_count": 2
        }
      ]
    },
    {
      "cell_type": "code",
      "source": [
        "#Question six example using method\n",
        "def square_number_generator(n):\n",
        "  for i in range(n):\n",
        "    yield i**2\n",
        "square_number_generator(100)\n",
        "gen = square_number_generator(100)\n",
        "next(gen)"
      ],
      "metadata": {
        "colab": {
          "base_uri": "https://localhost:8080/"
        },
        "id": "qfmhApWqR0td",
        "outputId": "365e2c06-b1da-4cb0-e0f2-d99d9c325632"
      },
      "execution_count": null,
      "outputs": [
        {
          "output_type": "execute_result",
          "data": {
            "text/plain": [
              "0"
            ]
          },
          "metadata": {},
          "execution_count": 6
        }
      ]
    },
    {
      "cell_type": "code",
      "source": [
        "#Question seven example using method\n",
        "\n",
        "def fibonacci_series(limit):\n",
        "  a, b = 0, 1\n",
        "  for _ in range(limit):\n",
        "    yield a\n",
        "    a, b = b, a + b\n",
        "for num in fibonacci_series(20):\n",
        "  print(num)"
      ],
      "metadata": {
        "colab": {
          "base_uri": "https://localhost:8080/"
        },
        "id": "VxJAhd43Tukc",
        "outputId": "790f9910-945d-4a29-993e-4be4fe4a9d4c"
      },
      "execution_count": null,
      "outputs": [
        {
          "output_type": "stream",
          "name": "stdout",
          "text": [
            "0\n",
            "1\n",
            "1\n",
            "2\n",
            "3\n",
            "5\n",
            "8\n",
            "13\n",
            "21\n",
            "34\n",
            "55\n",
            "89\n",
            "144\n",
            "233\n",
            "377\n",
            "610\n",
            "987\n",
            "1597\n",
            "2584\n",
            "4181\n"
          ]
        }
      ]
    },
    {
      "cell_type": "code",
      "source": [
        "#Question eight example using method\n",
        "\n",
        "sq_lambda = lambda x : x**2\n",
        "sq_lambda(3)"
      ],
      "metadata": {
        "colab": {
          "base_uri": "https://localhost:8080/"
        },
        "id": "uMOBYu7YdWXR",
        "outputId": "2a9e85c1-6650-4874-a559-24d6fe7b4f60"
      },
      "execution_count": null,
      "outputs": [
        {
          "output_type": "execute_result",
          "data": {
            "text/plain": [
              "9"
            ]
          },
          "metadata": {},
          "execution_count": 12
        }
      ]
    },
    {
      "cell_type": "code",
      "source": [
        "#Question nine example using method\n",
        "l = [1, 2, 3, 4, 5]\n",
        "def squ(x):\n",
        "  return x**2\n",
        "list(map(squ, l))"
      ],
      "metadata": {
        "colab": {
          "base_uri": "https://localhost:8080/"
        },
        "id": "uIhzMmRzfB7N",
        "outputId": "5a374e5f-ff03-4177-f065-3adb810d7430"
      },
      "execution_count": null,
      "outputs": [
        {
          "output_type": "execute_result",
          "data": {
            "text/plain": [
              "[1, 4, 9, 16, 25]"
            ]
          },
          "metadata": {},
          "execution_count": 13
        }
      ]
    },
    {
      "cell_type": "code",
      "source": [
        "#Question nine example using method\n",
        "l = [1, 2, 3, 4, 5, 6]\n",
        "list(map(lambda x : x**2, l))"
      ],
      "metadata": {
        "colab": {
          "base_uri": "https://localhost:8080/"
        },
        "id": "9SOgfRJofFfC",
        "outputId": "a3e780a6-a81f-4edf-e9e3-d14c74bce343"
      },
      "execution_count": null,
      "outputs": [
        {
          "output_type": "execute_result",
          "data": {
            "text/plain": [
              "[1, 4, 9, 16, 25, 36]"
            ]
          },
          "metadata": {},
          "execution_count": 14
        }
      ]
    },
    {
      "cell_type": "code",
      "source": [
        "#Question ten example using method\n",
        "l = [1, 2, 3, 4, 5, 6]\n",
        "list(map(lambda x : x**2, l))"
      ],
      "metadata": {
        "id": "CB1bvfGHhfgy",
        "outputId": "f57512ba-d5c2-43fb-d2d3-0dc5a210b4c2",
        "colab": {
          "base_uri": "https://localhost:8080/"
        }
      },
      "execution_count": null,
      "outputs": [
        {
          "output_type": "execute_result",
          "data": {
            "text/plain": [
              "[1, 4, 9, 16, 25, 36]"
            ]
          },
          "metadata": {},
          "execution_count": 17
        }
      ]
    },
    {
      "cell_type": "code",
      "source": [
        "#Question ten example using method\n",
        "from functools import reduce\n",
        "l = [1, 2, 3, 4, 5, 6]\n",
        "reduce(lambda x, y : x+y, l)"
      ],
      "metadata": {
        "colab": {
          "base_uri": "https://localhost:8080/"
        },
        "id": "42iXdm9XhUVm",
        "outputId": "5b61f8fd-3e62-4b72-c78f-912058d2c9d6"
      },
      "execution_count": null,
      "outputs": [
        {
          "output_type": "execute_result",
          "data": {
            "text/plain": [
              "21"
            ]
          },
          "metadata": {},
          "execution_count": 15
        }
      ]
    },
    {
      "cell_type": "code",
      "source": [
        "#Question ten example using method\n",
        "l = [1, 2, 3, 4, 5, 6]\n",
        "list(filter(lambda x : x%2 == 0, l))"
      ],
      "metadata": {
        "colab": {
          "base_uri": "https://localhost:8080/"
        },
        "id": "PiCjzxv8haLB",
        "outputId": "bae061d5-63f3-4870-d3da-5b7e53a0e2ab"
      },
      "execution_count": null,
      "outputs": [
        {
          "output_type": "execute_result",
          "data": {
            "text/plain": [
              "[2, 4, 6]"
            ]
          },
          "metadata": {},
          "execution_count": 16
        }
      ]
    },
    {
      "cell_type": "code",
      "execution_count": null,
      "metadata": {
        "id": "_6uaqcQ4YJXG",
        "colab": {
          "base_uri": "https://localhost:8080/"
        },
        "outputId": "1829032d-4d6c-45a5-b6ea-6f8f47fd69ff"
      },
      "outputs": [
        {
          "output_type": "stream",
          "name": "stdout",
          "text": [
            "Sum of even numbers: 82\n"
          ]
        }
      ],
      "source": [
        "#Write a  Python function that takes a list of numbers as input and returns the sum of all even numbers in the list.\n",
        "\n",
        "def sum_of_even_numbers(n):\n",
        "    return sum(num for num in n if num % 2 == 0)\n",
        "\n",
        "my_list = [1, 2, 3, 4, 5, 6, 10, 13, 20, 40, 39]\n",
        "result = sum_of_even_numbers(my_list)\n",
        "print(\"Sum of even numbers:\", result)"
      ]
    },
    {
      "cell_type": "code",
      "source": [
        "# Create a Python function that accepts a string and returns the reverse of that string.\n",
        "\n",
        "def reverse_string(s):\n",
        "    return s[::-1]\n",
        "text = \"venugopal\"\n",
        "reversed_text = reverse_string(text)\n",
        "print(\"Original:\", text)\n",
        "print(\"Reversed:\", reversed_text)"
      ],
      "metadata": {
        "colab": {
          "base_uri": "https://localhost:8080/"
        },
        "id": "RuCie5gQt3TR",
        "outputId": "e184f538-48db-48b1-e74d-683a91f10167"
      },
      "execution_count": null,
      "outputs": [
        {
          "output_type": "stream",
          "name": "stdout",
          "text": [
            "Original: venugopal\n",
            "Reversed: lapogunev\n"
          ]
        }
      ]
    },
    {
      "cell_type": "code",
      "source": [
        "# Implement a Python function that takes a list of integres and returns a new list containing the squares of each number.\n",
        "\n",
        "def square_numbers(n):\n",
        "    return [num ** 2 for num in n]\n",
        "\n",
        "input_list = [1, 2, 3, 4, 5]\n",
        "squared_list = square_numbers(input_list)\n",
        "print(\"List:\", input_list)\n",
        "print(\"Squared List:\", squared_list)"
      ],
      "metadata": {
        "colab": {
          "base_uri": "https://localhost:8080/"
        },
        "id": "o9LhH9dEuDQL",
        "outputId": "16a26f15-9ac9-49d9-c76b-89934f41d3fc"
      },
      "execution_count": null,
      "outputs": [
        {
          "output_type": "stream",
          "name": "stdout",
          "text": [
            "List: [1, 2, 3, 4, 5]\n",
            "Squared List: [1, 4, 9, 16, 25]\n"
          ]
        }
      ]
    },
    {
      "cell_type": "code",
      "source": [
        "from pickle import FALSE\n",
        "# Write a Python function checks if a given number is prime or not from 1 to 200.\n",
        "\n",
        "def is_prime(n):\n",
        "  if n <= 1:\n",
        "    return False\n",
        "  if n == 2:\n",
        "    return True\n",
        "  if n % 2 == 0:\n",
        "    return False\n",
        "  for i in range(3, int(n**0.5)+1, 2):\n",
        "    if n % 2 == 0:\n",
        "      return False\n",
        "  return True\n",
        "for num in range(1,201):\n",
        "  if is_prime(num):\n",
        "    print(f\"{num} is a prime number\")\n",
        "  else:\n",
        "    print(f\"{num} is not a prime number\")\n"
      ],
      "metadata": {
        "colab": {
          "base_uri": "https://localhost:8080/"
        },
        "id": "qboBPpPlulIx",
        "outputId": "cae269e0-ebc1-468b-e285-b9d42030fc7d"
      },
      "execution_count": null,
      "outputs": [
        {
          "output_type": "stream",
          "name": "stdout",
          "text": [
            "1 is not a prime number\n",
            "2 is a prime number\n",
            "3 is a prime number\n",
            "4 is not a prime number\n",
            "5 is a prime number\n",
            "6 is not a prime number\n",
            "7 is a prime number\n",
            "8 is not a prime number\n",
            "9 is a prime number\n",
            "10 is not a prime number\n",
            "11 is a prime number\n",
            "12 is not a prime number\n",
            "13 is a prime number\n",
            "14 is not a prime number\n",
            "15 is a prime number\n",
            "16 is not a prime number\n",
            "17 is a prime number\n",
            "18 is not a prime number\n",
            "19 is a prime number\n",
            "20 is not a prime number\n",
            "21 is a prime number\n",
            "22 is not a prime number\n",
            "23 is a prime number\n",
            "24 is not a prime number\n",
            "25 is a prime number\n",
            "26 is not a prime number\n",
            "27 is a prime number\n",
            "28 is not a prime number\n",
            "29 is a prime number\n",
            "30 is not a prime number\n",
            "31 is a prime number\n",
            "32 is not a prime number\n",
            "33 is a prime number\n",
            "34 is not a prime number\n",
            "35 is a prime number\n",
            "36 is not a prime number\n",
            "37 is a prime number\n",
            "38 is not a prime number\n",
            "39 is a prime number\n",
            "40 is not a prime number\n",
            "41 is a prime number\n",
            "42 is not a prime number\n",
            "43 is a prime number\n",
            "44 is not a prime number\n",
            "45 is a prime number\n",
            "46 is not a prime number\n",
            "47 is a prime number\n",
            "48 is not a prime number\n",
            "49 is a prime number\n",
            "50 is not a prime number\n",
            "51 is a prime number\n",
            "52 is not a prime number\n",
            "53 is a prime number\n",
            "54 is not a prime number\n",
            "55 is a prime number\n",
            "56 is not a prime number\n",
            "57 is a prime number\n",
            "58 is not a prime number\n",
            "59 is a prime number\n",
            "60 is not a prime number\n",
            "61 is a prime number\n",
            "62 is not a prime number\n",
            "63 is a prime number\n",
            "64 is not a prime number\n",
            "65 is a prime number\n",
            "66 is not a prime number\n",
            "67 is a prime number\n",
            "68 is not a prime number\n",
            "69 is a prime number\n",
            "70 is not a prime number\n",
            "71 is a prime number\n",
            "72 is not a prime number\n",
            "73 is a prime number\n",
            "74 is not a prime number\n",
            "75 is a prime number\n",
            "76 is not a prime number\n",
            "77 is a prime number\n",
            "78 is not a prime number\n",
            "79 is a prime number\n",
            "80 is not a prime number\n",
            "81 is a prime number\n",
            "82 is not a prime number\n",
            "83 is a prime number\n",
            "84 is not a prime number\n",
            "85 is a prime number\n",
            "86 is not a prime number\n",
            "87 is a prime number\n",
            "88 is not a prime number\n",
            "89 is a prime number\n",
            "90 is not a prime number\n",
            "91 is a prime number\n",
            "92 is not a prime number\n",
            "93 is a prime number\n",
            "94 is not a prime number\n",
            "95 is a prime number\n",
            "96 is not a prime number\n",
            "97 is a prime number\n",
            "98 is not a prime number\n",
            "99 is a prime number\n",
            "100 is not a prime number\n",
            "101 is a prime number\n",
            "102 is not a prime number\n",
            "103 is a prime number\n",
            "104 is not a prime number\n",
            "105 is a prime number\n",
            "106 is not a prime number\n",
            "107 is a prime number\n",
            "108 is not a prime number\n",
            "109 is a prime number\n",
            "110 is not a prime number\n",
            "111 is a prime number\n",
            "112 is not a prime number\n",
            "113 is a prime number\n",
            "114 is not a prime number\n",
            "115 is a prime number\n",
            "116 is not a prime number\n",
            "117 is a prime number\n",
            "118 is not a prime number\n",
            "119 is a prime number\n",
            "120 is not a prime number\n",
            "121 is a prime number\n",
            "122 is not a prime number\n",
            "123 is a prime number\n",
            "124 is not a prime number\n",
            "125 is a prime number\n",
            "126 is not a prime number\n",
            "127 is a prime number\n",
            "128 is not a prime number\n",
            "129 is a prime number\n",
            "130 is not a prime number\n",
            "131 is a prime number\n",
            "132 is not a prime number\n",
            "133 is a prime number\n",
            "134 is not a prime number\n",
            "135 is a prime number\n",
            "136 is not a prime number\n",
            "137 is a prime number\n",
            "138 is not a prime number\n",
            "139 is a prime number\n",
            "140 is not a prime number\n",
            "141 is a prime number\n",
            "142 is not a prime number\n",
            "143 is a prime number\n",
            "144 is not a prime number\n",
            "145 is a prime number\n",
            "146 is not a prime number\n",
            "147 is a prime number\n",
            "148 is not a prime number\n",
            "149 is a prime number\n",
            "150 is not a prime number\n",
            "151 is a prime number\n",
            "152 is not a prime number\n",
            "153 is a prime number\n",
            "154 is not a prime number\n",
            "155 is a prime number\n",
            "156 is not a prime number\n",
            "157 is a prime number\n",
            "158 is not a prime number\n",
            "159 is a prime number\n",
            "160 is not a prime number\n",
            "161 is a prime number\n",
            "162 is not a prime number\n",
            "163 is a prime number\n",
            "164 is not a prime number\n",
            "165 is a prime number\n",
            "166 is not a prime number\n",
            "167 is a prime number\n",
            "168 is not a prime number\n",
            "169 is a prime number\n",
            "170 is not a prime number\n",
            "171 is a prime number\n",
            "172 is not a prime number\n",
            "173 is a prime number\n",
            "174 is not a prime number\n",
            "175 is a prime number\n",
            "176 is not a prime number\n",
            "177 is a prime number\n",
            "178 is not a prime number\n",
            "179 is a prime number\n",
            "180 is not a prime number\n",
            "181 is a prime number\n",
            "182 is not a prime number\n",
            "183 is a prime number\n",
            "184 is not a prime number\n",
            "185 is a prime number\n",
            "186 is not a prime number\n",
            "187 is a prime number\n",
            "188 is not a prime number\n",
            "189 is a prime number\n",
            "190 is not a prime number\n",
            "191 is a prime number\n",
            "192 is not a prime number\n",
            "193 is a prime number\n",
            "194 is not a prime number\n",
            "195 is a prime number\n",
            "196 is not a prime number\n",
            "197 is a prime number\n",
            "198 is not a prime number\n",
            "199 is a prime number\n",
            "200 is not a prime number\n"
          ]
        }
      ]
    },
    {
      "cell_type": "code",
      "source": [
        "# Create an iterator class in Python that generates the Fibonacci sequence up to a specified number of terms.\n",
        "\n",
        "class FibonacciIterator:\n",
        "    def __init__(self, max_terms):\n",
        "      self.max_terms = max_terms\n",
        "      self.a, self.b = 0, 1\n",
        "      self.count = 0\n",
        "    def __iter__(self):\n",
        "      return self\n",
        "    def __next__(self):\n",
        "      if self.count >= self.max_terms:\n",
        "        raise StopIteration\n",
        "      if self.count == 0:\n",
        "        self.count += 1\n",
        "        return self.a\n",
        "      elif self.count == 1:\n",
        "        self.count += 1\n",
        "        return self.b\n",
        "      else:\n",
        "        self.a, self.b = self.b, self.a + self.b\n",
        "        self.count += 1\n",
        "        return self.b\n",
        "\n",
        "fib_iter = FibonacciIterator(20)\n",
        "for num in fib_iter:\n",
        "  print(num)\n"
      ],
      "metadata": {
        "colab": {
          "base_uri": "https://localhost:8080/"
        },
        "id": "319kc2Vzu2Qm",
        "outputId": "26f2240e-f73c-49d8-e5de-492a5e526325"
      },
      "execution_count": null,
      "outputs": [
        {
          "output_type": "stream",
          "name": "stdout",
          "text": [
            "0\n",
            "1\n",
            "1\n",
            "2\n",
            "3\n",
            "5\n",
            "8\n",
            "13\n",
            "21\n",
            "34\n",
            "55\n",
            "89\n",
            "144\n",
            "233\n",
            "377\n",
            "610\n",
            "987\n",
            "1597\n",
            "2584\n",
            "4181\n"
          ]
        }
      ]
    },
    {
      "cell_type": "code",
      "source": [
        "# Write a generator function in Python taht yeilds the powers of 2 upto a given exponent.\n",
        "\n",
        "def generate_powers_of_two(max_exponent):\n",
        "    for exp in range(max_exponent + 1):\n",
        "        yield 2 ** exp\n",
        "for value in generate_powers_of_two(5):\n",
        "    print(value)"
      ],
      "metadata": {
        "colab": {
          "base_uri": "https://localhost:8080/"
        },
        "id": "AabmkFCkvKXp",
        "outputId": "64172123-41ab-4152-8f06-7f5884c0e9f9"
      },
      "execution_count": null,
      "outputs": [
        {
          "output_type": "stream",
          "name": "stdout",
          "text": [
            "1\n",
            "2\n",
            "4\n",
            "8\n",
            "16\n",
            "32\n"
          ]
        }
      ]
    },
    {
      "cell_type": "code",
      "source": [
        "# Implement a generator function that reads a file line by line and yeilds each line as a string.\n",
        "\n",
        "def read_file_lines(file_path):\n",
        "    \"\"\"\n",
        "    Reads a file line by line and yields each line.\n",
        "\n",
        "    Args:\n",
        "        file_path (str): The path to the file.\n",
        "\n",
        "    Yields:\n",
        "        str: Each line of the file.\n",
        "    \"\"\"\n",
        "    try:\n",
        "        with open(file_path, 'r') as file:\n",
        "            for line in file:\n",
        "                yield line\n",
        "    except FileNotFoundError:\n",
        "        yield f\"File not found: {file_path}\"\n",
        "    except Exception as e:\n",
        "        yield f\"An error occurred: {e}\"\n",
        "\n",
        "if __name__ == '__main__':\n",
        "\n",
        "    with open('example.txt', 'w') as f:\n",
        "        f.write(\"This is line 1.\\n\")\n",
        "        f.write(\"This is line 2.\\n\")\n",
        "        f.write(\"This is line 3.\")\n",
        "\n",
        "    for line in read_file_lines('venugopal.txt'):\n",
        "        print(line, end=\"\")"
      ],
      "metadata": {
        "colab": {
          "base_uri": "https://localhost:8080/"
        },
        "id": "SuPiZlmCvZAb",
        "outputId": "423a81ce-2731-48ea-9912-82c3eaf1bda7"
      },
      "execution_count": null,
      "outputs": [
        {
          "output_type": "stream",
          "name": "stdout",
          "text": [
            "File not found: venugopal.txt"
          ]
        }
      ]
    },
    {
      "cell_type": "code",
      "source": [
        "# Use a lambda function to sort a list of tuples based on the second element of each tuple.\n",
        "\n",
        "data = [(1, 5), (3, 2), (4, 9), (2, 1)]\n",
        "\n",
        "sorted_data = sorted(data, key=lambda x: x[1])\n",
        "\n",
        "print(\"Sorted by second element:\", sorted_data)"
      ],
      "metadata": {
        "colab": {
          "base_uri": "https://localhost:8080/"
        },
        "id": "kUKCGfudvniE",
        "outputId": "c1a3860e-e089-40bd-9980-c950b2bdadcd"
      },
      "execution_count": null,
      "outputs": [
        {
          "output_type": "stream",
          "name": "stdout",
          "text": [
            "Sorted by second element: [(2, 1), (3, 2), (1, 5), (4, 9)]\n"
          ]
        }
      ]
    },
    {
      "cell_type": "code",
      "source": [
        "# Write a Python program that uses 'map()' to convert a list of temperatures from celsius to fahrenheit.\n",
        "\n",
        "celsius_temps = [0, 20, 37, 100, -10]\n",
        "\n",
        "fahrenheit_temps = list(map(lambda c: round((c * 9/5) + 32, 2), celsius_temps))\n",
        "\n",
        "print(\"Fahrenheit: \", fahrenheit_temps)"
      ],
      "metadata": {
        "colab": {
          "base_uri": "https://localhost:8080/"
        },
        "id": "_hv3JODuvyt2",
        "outputId": "79bea270-9c26-4895-af19-3493f9bc659d"
      },
      "execution_count": null,
      "outputs": [
        {
          "output_type": "stream",
          "name": "stdout",
          "text": [
            "Fahrenheit:  [32.0, 68.0, 98.6, 212.0, 14.0]\n"
          ]
        }
      ]
    },
    {
      "cell_type": "code",
      "source": [
        "# Create a Python program that uses 'filter()' to remove all the vowels from a given string.\n",
        "\n",
        "input_str = \"Hello, Welcome to Python\"\n",
        "\n",
        "vowels = \"aeiouAEIOU\"\n",
        "\n",
        "no_vowels = ''.join(filter(lambda x: x not in vowels, input_str))\n",
        "\n",
        "print(\"Original String:\", input_str)\n",
        "print(\"String without vowels:\", no_vowels)"
      ],
      "metadata": {
        "colab": {
          "base_uri": "https://localhost:8080/"
        },
        "id": "W2BISmOrwBiw",
        "outputId": "c6e57639-2b23-4072-e0c6-e475783625e5"
      },
      "execution_count": null,
      "outputs": [
        {
          "output_type": "stream",
          "name": "stdout",
          "text": [
            "Original String: Hello, Welcome to Python\n",
            "String without vowels: Hll, Wlcm t Pythn\n"
          ]
        }
      ]
    },
    {
      "cell_type": "code",
      "source": [
        "# Imagine an accounting routine used in a book shop. It works on a list with sublists, which look like this:\n",
        "\n",
        "# Write a Python program, which returns a list with 2-tuples. Each tuple consists of the order number and the product of the price per item and the quantity.\n",
        "#The product should be increased by 10,-$ it the value of the order is smaller than 100,00$.\n",
        "\n",
        "# Write a python program using lambda and map.\n",
        "\n",
        "x = [\n",
        "    [34587, \"Learning Python, Mark Lutz\", 4, 40.95],\n",
        "    [98762, \"Programming Python, Mark Lutz\", 5, 56.80],\n",
        "    [77226, \"Head First Python, Paul Barry\", 3, 32.95],\n",
        "    [88112, \"Einführung in Python3, Bernd Klein\", 3, 24.99]\n",
        "]\n",
        "\n",
        "result = list(map(lambda order: (\n",
        "    order[0],\n",
        "    round(order[2] * order[3] + 10 if order[2] * order[3] < 100 else order[2] * order[3], 2)\n",
        "), x))\n",
        "\n",
        "print(result)"
      ],
      "metadata": {
        "colab": {
          "base_uri": "https://localhost:8080/"
        },
        "id": "H38cLRM4wKzw",
        "outputId": "17bcd3d6-c6b3-4f59-9c61-7f2be55eb830"
      },
      "execution_count": null,
      "outputs": [
        {
          "output_type": "stream",
          "name": "stdout",
          "text": [
            "[(34587, 163.8), (98762, 284.0), (77226, 108.85), (88112, 84.97)]\n"
          ]
        }
      ]
    }
  ]
}