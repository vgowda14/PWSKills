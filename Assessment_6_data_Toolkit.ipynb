{
  "nbformat": 4,
  "nbformat_minor": 0,
  "metadata": {
    "colab": {
      "provenance": []
    },
    "kernelspec": {
      "name": "python3",
      "display_name": "Python 3"
    },
    "language_info": {
      "name": "python"
    }
  },
  "cells": [
    {
      "cell_type": "markdown",
      "source": [
        "1. What is numpy, and why is it widely used in Python?\n",
        "        ->NumPy (short for Numerical Python) is a powerful open-source Python library primarily used for numerical computing. It provides support for:\n",
        "        * Multi-dimensional arrays and matrices.\n",
        "        * Mathematical operations on arrays.\n",
        "        * Linear algebra, statistics, Fourier transforms, and more\n",
        "\n",
        "        NumPy is widely used because:\n",
        "        * Efficient Array Computation: NumPy arrays (ndarray) are faster and more memory-efficient than Python lists for numerical tasks.\n",
        "        * Vectorized Operations: Eliminates the need for explicit loops using vectorization, which leads to cleaner and faster code\n",
        "        * Integration with Other Libraries : Libraries like Pandas, SciPy, scikit-learn, TensorFlow, and PyTorch are built on or heavily rely on NumPy arrays."
      ],
      "metadata": {
        "id": "lYSCGS03OdpW"
      }
    },
    {
      "cell_type": "markdown",
      "source": [
        "2. How does broadcasting work in NumPy?\n",
        "        -> Broadcasting is NumPy’s powerful mechanism that allows arithmetic operations between arrays of different shapes and sizes — without explicitly replicating data.\n",
        "        NumPy compares the shapes of two arrays starting from the trailing dimensions (right to left) and applies these rules:\n",
        "        * If the dimensions are equal, or\n",
        "        *If one dimension is 1,\n",
        "        then the arrays are compatible along that axis. If neither condition is met, NumPy raises a ValueError."
      ],
      "metadata": {
        "id": "jNAOWF1ROqx4"
      }
    },
    {
      "cell_type": "markdown",
      "source": [
        "3. What is a Pandas DataFrame?\n",
        "        -> A Pandas DataFrame is a 2-dimensional labeled data structure in Python, similar to a table in a relational database or an Excel spreadsheet. It’s one of the core data structures provided by the Pandas library and is widely used for data analysis and manipulation."
      ],
      "metadata": {
        "id": "8Z9qgb-jOyFQ"
      }
    },
    {
      "cell_type": "markdown",
      "source": [
        "4. Explain the use of the groupby() method in Pandas.\n",
        "        -> The groupby() method in Pandas is used to split your DataFrame into groups based on one or more keys (columns), apply some function(s) to each group, and then combine the results back into a new DataFrame or Series."
      ],
      "metadata": {
        "id": "mtSUwL0JO4RW"
      }
    },
    {
      "cell_type": "markdown",
      "source": [
        "5. Why is Seaborn preferred for statisitical visualizations?\n",
        "        -> * Built on Top of Matplotlib with Simplicity.\n",
        "        * Beautiful Default Styles : Comes with attractive default color palettes and styles optimized for visual clarity.\n",
        "        * Integrated Statistical Estimation : Automatically computes and visualizes statistical aggregates (like means, confidence intervals, regression lines) without extra coding.\n",
        "        * Easy Handling of DataFrames : Works seamlessly with Pandas DataFrames and understands categorical variables.\n"
      ],
      "metadata": {
        "id": "m4v9ech1PiBv"
      }
    },
    {
      "cell_type": "markdown",
      "source": [
        "6. What is difference between NumPy arrays and Python lists?\n",
        "        -> Difference between NumPy arrays and Python lists are:\n",
        "        NumPy:\n",
        "        * All elements must be of the same data type.\n",
        "        * Much faster and more memory-efficient.\n",
        "        * Supports true multidimensional arrays (e.g., 2D, 3D)\n",
        "        * Supports advanced vectorized operations and broadcasting.\n",
        "        * Stored in contiguous memory blocks (C-style)\n",
        "        * Math Operations Element-wise operations supported directly (a + b)\n",
        "        Python lists:\n",
        "        * Can hold mixed data types\n",
        "        * Slower and uses more memory.\n",
        "        * Limited to nesting (e.g., list of lists)\n",
        "        * Requires loops for operations\n",
        "        * Stored as linked references.\n",
        "        * Math Operations Must use loops or zip()"
      ],
      "metadata": {
        "id": "1mUkwtrOPyQa"
      }
    },
    {
      "cell_type": "markdown",
      "source": [
        "7. What is a heatmap, and when should it be used?\n",
        "        -> A heatmap is a data visualization technique that displays a matrix of values as a grid of colored cells. Each cell’s color represents the magnitude of the value at that position, making it easy to see patterns, trends, and correlations visually.\n",
        "        * Correlation matrices: To quickly spot strong/weak positive or negative correlations between variables.\n",
        "        * Data tables with many values: To highlight patterns, outliers, or clusters in large data tables."
      ],
      "metadata": {
        "id": "Tf5VtdNUQAzX"
      }
    },
    {
      "cell_type": "markdown",
      "source": [
        "8. What does the term \"Vectorized operation\" mean in NumPy?\n",
        "        -> A vectorized operation refers to performing an operation on entire arrays (vectors) element-wise all at once, without writing explicit loops in your code.\n",
        "        Instead of looping through each element individually (which is slower in Python), NumPy applies operations on the whole array using optimized, low-level implementations (C/Fortran) under the hood."
      ],
      "metadata": {
        "id": "mdDUeNRkQHCa"
      }
    },
    {
      "cell_type": "markdown",
      "source": [
        "9. How does Matplotlib differ from Plotly?\n",
        "        -> Matplotlib:\n",
        "        * Static plotting library\n",
        "        * Mostly static images; limited interactivity\n",
        "        * Wide variety of basic and advanced plots\n",
        "        * More low-level; more control but more code\n",
        "        * Output format PNG, PDF, SVG, JPG, interactive via some backends\n",
        "        Plotly\n",
        "        * Interactive plotting library\n",
        "        * Highly interactive: zoom, pan, hover tooltips, clickable legends\n",
        "        * Wide variety plus advanced interactive plots like 3D, maps, animations\n",
        "        * Higher-level API; easier for interactive dashboards and visualizations\n",
        "        * HTML, notebooks, dashboards; exports to PNG, SVG, PDF"
      ],
      "metadata": {
        "id": "Qh46IfszQXIE"
      }
    },
    {
      "cell_type": "markdown",
      "source": [
        "10. What is the significance of hierarchical indexing in Pandas?\n",
        "        -> Hierarchical indexing means having multiple levels of row (or column) labels in a DataFrame or Series. Instead of a single index, you can have nested indexes, allowing you to work with higher-dimensional data in a 2D structure.\n",
        "\n",
        "        Significance:\n",
        "        * Compact representation: Enables you to represent complex, multi-level data without reshaping into higher dimensions (like 3D arrays).\n",
        "        * Flexible reshaping: Facilitates reshaping data (stack/unstack, pivot) for advanced data analysis workflows.\n",
        "        * Improved organization: Keeps related data together hierarchically, making it easier to analyze multi-indexed data like time series by year and month, or sales by region and product.\n"
      ],
      "metadata": {
        "id": "t54XgDKrQfhW"
      }
    },
    {
      "cell_type": "markdown",
      "source": [
        "11. What is the role of Seaborn's pairplat() function.\n",
        "        -> pairplot() is a convenient function in Seaborn that creates a matrix of scatter plots (and optionally histograms or KDE plots) for all pairs of numerical variables in a DataFrame.\n",
        "        Role's in Seaborn are:\n",
        "        * Plots scatter plots for each pair of variables.\n",
        "        * Plots univariate distributions (like histograms or KDE) along the diagonal.\n",
        "        * Can color points by a categorical variable to see class-wise separation.\n",
        "        * Useful for exploratory data analysis (EDA) to quickly spot correlations, clusters, or outliers."
      ],
      "metadata": {
        "id": "sm6CDYS5Qpsb"
      }
    },
    {
      "cell_type": "markdown",
      "source": [
        "12. What is the purpose of the describe() function in Pandas?\n",
        "        -> The describe() function in Pandas is used to generate summary statistics of a DataFrame or Series.\n",
        "        P:urpose  are:\n",
        "        * Provides a quick overview of the distribution and central tendencies of your data.\n",
        "        * Helps in exploratory data analysis (EDA) by summarizing key statistical measures.\n",
        "\n",
        "\n"
      ],
      "metadata": {
        "id": "_e8j35BFRO9f"
      }
    },
    {
      "cell_type": "markdown",
      "source": [
        "13. Why is handling missing data important in Pandas?\n",
        "        -> handling missing data important in Python is:\n",
        "        * Ensures Data Quality: Missing values can lead to incorrect conclusions or biased analysis if not addressed properly.\n",
        "        * Prevents Errors in Computation: Many functions and algorithms fail or give wrong results when missing data is present.\n",
        "        * Improves Model: Performance\tMachine learning models often require complete datasets; missing values can degrade accuracy.\n",
        "        * Enables Consistent: Data Handling\tHandling missing data explicitly makes your workflow reproducible and your analysis trustworthy."
      ],
      "metadata": {
        "id": "I6wNIcVqRXcK"
      }
    },
    {
      "cell_type": "markdown",
      "source": [
        "14. What are the benefits of using Platly for data visualiztion?\n",
        "        -> Benefits of Using Plotly for Data Visualization:\n",
        "        * Interactive Visualizations\tCreates highly interactive charts with zoom, pan, hover tooltips, and clickable legends — enhancing user engagement.\n",
        "        * Beautiful and Modern Aesthetics:\tDefault styles and themes look polished and professional with minimal effort.\n",
        "        * Cross-Language Support\tBesides Python, Plotly supports R, Julia, MATLAB, and JavaScript, useful for multi-language projects.\n",
        "        * Real-Time and Streaming Data\tSupports live updates and streaming data visualizations for dashboards.\n",
        "        * Integration with Dash:\tWorks seamlessly with Dash for building full-featured interactive web applications."
      ],
      "metadata": {
        "id": "lxdtdBD_RgGQ"
      }
    },
    {
      "cell_type": "markdown",
      "source": [
        "15. How does NumPy handle multidimensional arrays?\n",
        "        -> Handling Multidimensional Arrays in NumPy:\n",
        "        * Core Concept: NumPy’s main data structure is the ndarray, which can represent arrays of any number of dimensions.\n",
        "        * Shape & Dimensions: Each ndarray has a .shape attribute (a tuple) describing the size along each dimension.\n",
        "        * Memory Layout: Multidimensional arrays are stored as a single contiguous block of memory in either row-major (C-style) or column-major (Fortran-style) order, making access and computation efficient.\n",
        "        * Indexing & Slicing: can access elements using multiple indices, one for each dimension, e.g., arr[1, 2] for the element at row 1, column 2. Slicing works similarly but can be done along multiple axes,\n",
        "\n"
      ],
      "metadata": {
        "id": "9xW8NBI4RscL"
      }
    },
    {
      "cell_type": "markdown",
      "source": [
        "16. What is the role of Bokeh in data visualization?\n",
        "        -> Role of Bokeh in Data Visualization:\n",
        "        * Interactive Visualizations\tEnables building rich, interactive plots with zoom, pan, hover, tooltips, widgets, and linked brushing.\n",
        "        * Web Integration\tGenerates output as HTML and JavaScript, easily embeddable in web pages and dashboards without needing JavaScript knowledge.\n",
        "        * Large Data Handling\tEfficiently renders large or streaming datasets in browsers using WebGL or optimized rendering.\n",
        "        * Integration with Other Tools\tWorks smoothly with Pandas, NumPy, and also supports integration with Jupyter Notebooks and Flask/Django apps."
      ],
      "metadata": {
        "id": "AGv9649ER9eX"
      }
    },
    {
      "cell_type": "markdown",
      "source": [
        "17. Explain the difference between apply() and map() in Pandas.\n",
        "        -> The difference between apply() and map() in Pandas are:\n",
        "        map():\n",
        "        * Works on series only.\n",
        "        * Input Function, dict, or Series.\n",
        "        * Output Series\n",
        "        * Used for Element-wise transformation.\n",
        "        * Simplicity Faster, simpler for 1D operations.\n",
        "        apply():\n",
        "        * Works on \tSeries and DataFrame.\n",
        "        * Input Function only.\n",
        "        * Output Series or DataFrame\n",
        "        * Used for Custom row/column-wise operations.\n",
        "        * Simplicity More flexible for complex logic."
      ],
      "metadata": {
        "id": "omzbv0CkSFpv"
      }
    },
    {
      "cell_type": "markdown",
      "source": [
        "18. What are some advance features on NumPy?\n",
        "        -> Advanced Features of NumPy are:\n",
        "        * Broadcasting\tPerform arithmetic operations on arrays of different shapes efficiently without explicit loops.\n",
        "        * Fancy Indexing & Boolean Masking\tSelect and modify array elements using integer arrays or boolean conditions for complex data filtering.\n",
        "        * Universal Functions (ufuncs)\tFast element-wise operations implemented in C, supporting vectorized computations with optional broadcasting.\n",
        "        * Masking and Masked Arrays\tHandle invalid or missing data gracefully within arrays.\n",
        "        * Memory Mapping (memmap)\tHandle large datasets by mapping files to memory, enabling access to data without loading it all at once."
      ],
      "metadata": {
        "id": "2TtY6yz5SR9y"
      }
    },
    {
      "cell_type": "markdown",
      "source": [
        "19. How does pandas simplify time series analysis?\n",
        "        -> Datetime Indexing can use DatetimeIndex to index data by dates, enabling fast slicing by date ranges.\n",
        "        * Easy Date Parsing\tFunctions like pd.to_datetime() convert strings or numbers into datetime objects seamlessly.\n",
        "        * Time-based Rolling Windows\t.rolling() supports rolling computations over time windows, helpful for moving averages and smoothing.\n",
        "        * Time Zone Handling\tPandas can localize timestamps to time zones and convert between them smoothly.\n",
        "        * Powerful Time Series Methods\tIncludes .shift(), .diff(), .pct_change() for lagging, differencing, and calculating returns."
      ],
      "metadata": {
        "id": "NBufP1FNSX_-"
      }
    },
    {
      "cell_type": "markdown",
      "source": [
        "20. What is the role of a pivot table in pandas?\n",
        "        -> A pivot table in Pandas is a way to summarize and reshape data by aggregating values across multiple dimensions (rows and columns), similar to Excel pivot tables. It lets you group data, apply aggregation functions (like sum, mean, count), and rearrange it to gain insights easily."
      ],
      "metadata": {
        "id": "ngJqhWcXSfm2"
      }
    },
    {
      "cell_type": "markdown",
      "source": [
        "21. Why is NumPy's array slicing faster than Python's list slicing?\n",
        "        -> NumPy's array slicing faster than Python's list slicing because:\n",
        "        * Underlying Data Storage: NumPy arrays store data in contiguous blocks of memory (like C arrays), which allows fast, low-level operations.\n",
        "        Python lists are arrays of pointers to Python objects scattered in memory, so accessing elements involves extra indirection.\n",
        "        * Slicing Behavior : NumPy slicing returns a view on the original array — no data is copied, just a new array object referencing the same memory.\n",
        "        Python list slicing returns a new list — it copies references of the sliced elements into a new list, which takes more time and memory.\n",
        "        * Optimized Implementations: NumPy operations are implemented in compiled C code, highly optimized for speed.\n",
        "        Python list operations are executed in interpreted Python, which is slower.\n",
        "\n"
      ],
      "metadata": {
        "id": "pGSGxPrOSlH7"
      }
    },
    {
      "cell_type": "markdown",
      "source": [
        "22. What are some common use cases for Seaborn?\n",
        "        -> Common Use Cases for Seaborn:\n",
        "        * Exploratory Data: Analysis (EDA)\tQuickly visualize distributions, relationships, and patterns in datasets.\n",
        "        * Visualizing Distributions: Histograms, KDE plots, rug plots, and box/violin plots for understanding data spread and outliers.\n",
        "        * Time Series Visualization: Line plots with confidence intervals to observe trends over time.\n",
        "        * Statistical Modeling Plots: Regression plots, residual plots, and confidence intervals for understanding trends and model fits.\n",
        "        * Correlation Heatmaps: Visualizing correlation matrices to detect variable relationships."
      ],
      "metadata": {
        "id": "AS1HXFY6SvX2"
      }
    },
    {
      "cell_type": "code",
      "source": [
        "# How do you create a 2D NumPy array and calculate the sum of each row?\n",
        "\n",
        "import numpy as np\n",
        "\n",
        "array = np.array([[1, 2, 3],\n",
        "                  [4, 5, 6],\n",
        "                  [7, 8, 9]])\n",
        "\n",
        "row_sums = np.sum(array, axis=1)\n",
        "\n",
        "print(\"2D Array:\\n\", array)\n",
        "print(\"Sum of each row:\", row_sums)\n"
      ],
      "metadata": {
        "id": "haW6g8TKS2He",
        "colab": {
          "base_uri": "https://localhost:8080/"
        },
        "outputId": "0b76efa0-51dc-4b65-f44d-691902476f0b"
      },
      "execution_count": 17,
      "outputs": [
        {
          "output_type": "stream",
          "name": "stdout",
          "text": [
            "2D Array:\n",
            " [[1 2 3]\n",
            " [4 5 6]\n",
            " [7 8 9]]\n",
            "Sum of each row: [ 6 15 24]\n"
          ]
        }
      ]
    },
    {
      "cell_type": "code",
      "source": [
        "# Write a Pandas script to find the mean of a specific column in a DataFrame.\n",
        "\n",
        "import pandas as pd\n",
        "\n",
        "data = {\n",
        "    'Name': ['Venu', 'Vicky', 'Virat', 'Dravid', 'Sachin'],\n",
        "    'Score': [85, 62, 90, 70, 95]\n",
        "}\n",
        "\n",
        "df = pd.DataFrame(data)\n",
        "\n",
        "mean_score = df['Score'].mean()\n",
        "\n",
        "print(\"Mean Score:\", mean_score)\n"
      ],
      "metadata": {
        "id": "U9GOw2cyS-hr",
        "colab": {
          "base_uri": "https://localhost:8080/"
        },
        "outputId": "f56269cd-b9a7-4b2a-d372-4d02c9713dd9"
      },
      "execution_count": 2,
      "outputs": [
        {
          "output_type": "stream",
          "name": "stdout",
          "text": [
            "Mean Score: 80.4\n"
          ]
        }
      ]
    },
    {
      "cell_type": "code",
      "source": [
        "# Create a scatter plot using Matplotib.\n",
        "\n",
        "import matplotlib.pyplot as plt\n",
        "\n",
        "x = [10, 20, 30, 40, 50]\n",
        "y = [15, 25, 35, 45, 55]\n",
        "\n",
        "plt.scatter(x, y, color='blue', marker='o')\n",
        "\n",
        "plt.xlabel('X Values')\n",
        "plt.ylabel('Y Values')\n",
        "plt.title('Simple Scatter Plot')\n",
        "\n",
        "plt.show()\n"
      ],
      "metadata": {
        "id": "uL_swUpgZpV2",
        "colab": {
          "base_uri": "https://localhost:8080/",
          "height": 472
        },
        "outputId": "c8dbb795-67c4-4a85-9547-60d55956b9ba"
      },
      "execution_count": 19,
      "outputs": [
        {
          "output_type": "display_data",
          "data": {
            "text/plain": [
              "<Figure size 640x480 with 1 Axes>"
            ],
            "image/png": "[encoded data removed]"
          },
          "metadata": {}
        }
      ]
    },
    {
      "cell_type": "code",
      "source": [
        "# How do you calculate the correlation matxix using Seaborn and visualize it with a heatmap?\n",
        "\n",
        "import pandas as pd\n",
        "import seaborn as sns\n",
        "import matplotlib.pyplot as plt\n",
        "\n",
        "data = {\n",
        "    'Math': [90, 80, 70, 60, 50],\n",
        "    'Science': [85, 75, 65, 55, 45],\n",
        "    'English': [78, 82, 88, 60, 72]\n",
        "}\n",
        "\n",
        "df = pd.DataFrame(data)\n",
        "\n",
        "corr_matrix = df.corr()\n",
        "\n",
        "sns.heatmap(corr_matrix, annot=True, cmap='coolwarm', linewidths=0.5)\n",
        "\n",
        "plt.title('Correlation Matrix Heatmap')\n",
        "\n",
        "plt.show()\n"
      ],
      "metadata": {
        "colab": {
          "base_uri": "https://localhost:8080/",
          "height": 452
        },
        "id": "IKt6Kl9DC09l",
        "outputId": "a2654bca-35ad-4b90-f8a0-aba6475d5e1b"
      },
      "execution_count": 20,
      "outputs": [
        {
          "output_type": "display_data",
          "data": {
            "text/plain": [
              "<Figure size 640x480 with 2 Axes>"
            ],
            "image/png": "[encoded data removed]"
          },
          "metadata": {}
        }
      ]
    },
    {
      "cell_type": "code",
      "source": [
        "# Generate a bar plot using Plotly.\n",
        "\n",
        "import plotly.graph_objects as go\n",
        "\n",
        "categories = ['Math', 'Science', 'English', 'History']\n",
        "scores = [85, 90, 78, 88]\n",
        "\n",
        "fig = go.Figure(data=[go.Bar(\n",
        "    x=categories,\n",
        "    y=scores,\n",
        "    marker_color='indianred'\n",
        ")])\n",
        "\n",
        "fig.update_layout(\n",
        "    title='Student Scores by Subject',\n",
        "    xaxis_title='Subjects',\n",
        "    yaxis_title='Scores',\n",
        "    yaxis=dict(range=[0, 100])\n",
        ")\n",
        "\n",
        "fig.show()\n"
      ],
      "metadata": {
        "colab": {
          "base_uri": "https://localhost:8080/",
          "height": 542
        },
        "id": "8d1Y-2EvDLo4",
        "outputId": "38151664-b7f6-4ba7-88a6-e282dd0c99fd"
      },
      "execution_count": 21,
      "outputs": [
        {
          "output_type": "display_data",
          "data": {
            "text/html": [
              "<html>\n",
              "<head><meta charset=\"utf-8\" /></head>\n",
              "<body>\n",
              "    <div>            <script src=\"https://cdnjs.cloudflare.com/ajax/libs/mathjax/2.7.5/MathJax.js?config=TeX-AMS-MML_SVG\"></script><script type=\"text/javascript\">if (window.MathJax && window.MathJax.Hub && window.MathJax.Hub.Config) {window.MathJax.Hub.Config({SVG: {font: \"STIX-Web\"}});}</script>                <script type=\"text/javascript\">window.PlotlyConfig = {MathJaxConfig: 'local'};</script>\n",
              "        <script charset=\"utf-8\" src=\"https://cdn.plot.ly/plotly-2.35.2.min.js\"></script>                <div id=\"33461576-b3b4-474c-94e6-72c932a32aaa\" class=\"plotly-graph-div\" style=\"height:525px; width:100%;\"></div>            <script type=\"text/javascript\">                                    window.PLOTLYENV=window.PLOTLYENV || {};                                    if (document.getElementById(\"33461576-b3b4-474c-94e6-72c932a32aaa\")) {                    Plotly.newPlot(                        \"33461576-b3b4-474c-94e6-72c932a32aaa\",                        [{\"marker\":{\"color\":\"indianred\"},\"x\":[\"Math\",\"Science\",\"English\",\"History\"],\"y\":[85,90,78,88],\"type\":\"bar\"}],                        {\"template\":{\"data\":{\"histogram2dcontour\":[{\"type\":\"histogram2dcontour\",\"colorbar\":{\"outlinewidth\":0,\"ticks\":\"\"},\"colorscale\":[[0.0,\"#0d0887\"],[0.1111111111111111,\"#46039f\"],[0.2222222222222222,\"#7201a8\"],[0.3333333333333333,\"#9c179e\"],[0.4444444444444444,\"#bd3786\"],[0.5555555555555556,\"#d8576b\"],[0.6666666666666666,\"#ed7953\"],[0.7777777777777778,\"#fb9f3a\"],[0.8888888888888888,\"#fdca26\"],[1.0,\"#f0f921\"]]}],\"choropleth\":[{\"type\":\"choropleth\",\"colorbar\":{\"outlinewidth\":0,\"ticks\":\"\"}}],\"histogram2d\":[{\"type\":\"histogram2d\",\"colorbar\":{\"outlinewidth\":0,\"ticks\":\"\"},\"colorscale\":[[0.0,\"#0d0887\"],[0.1111111111111111,\"#46039f\"],[0.2222222222222222,\"#7201a8\"],[0.3333333333333333,\"#9c179e\"],[0.4444444444444444,\"#bd3786\"],[0.5555555555555556,\"#d8576b\"],[0.6666666666666666,\"#ed7953\"],[0.7777777777777778,\"#fb9f3a\"],[0.8888888888888888,\"#fdca26\"],[1.0,\"#f0f921\"]]}],\"heatmap\":[{\"type\":\"heatmap\",\"colorbar\":{\"outlinewidth\":0,\"ticks\":\"\"},\"colorscale\":[[0.0,\"#0d0887\"],[0.1111111111111111,\"#46039f\"],[0.2222222222222222,\"#7201a8\"],[0.3333333333333333,\"#9c179e\"],[0.4444444444444444,\"#bd3786\"],[0.5555555555555556,\"#d8576b\"],[0.6666666666666666,\"#ed7953\"],[0.7777777777777778,\"#fb9f3a\"],[0.8888888888888888,\"#fdca26\"],[1.0,\"#f0f921\"]]}],\"heatmapgl\":[{\"type\":\"heatmapgl\",\"colorbar\":{\"outlinewidth\":0,\"ticks\":\"\"},\"colorscale\":[[0.0,\"#0d0887\"],[0.1111111111111111,\"#46039f\"],[0.2222222222222222,\"#7201a8\"],[0.3333333333333333,\"#9c179e\"],[0.4444444444444444,\"#bd3786\"],[0.5555555555555556,\"#d8576b\"],[0.6666666666666666,\"#ed7953\"],[0.7777777777777778,\"#fb9f3a\"],[0.8888888888888888,\"#fdca26\"],[1.0,\"#f0f921\"]]}],\"contourcarpet\":[{\"type\":\"contourcarpet\",\"colorbar\":{\"outlinewidth\":0,\"ticks\":\"\"}}],\"contour\":[{\"type\":\"contour\",\"colorbar\":{\"outlinewidth\":0,\"ticks\":\"\"},\"colorscale\":[[0.0,\"#0d0887\"],[0.1111111111111111,\"#46039f\"],[0.2222222222222222,\"#7201a8\"],[0.3333333333333333,\"#9c179e\"],[0.4444444444444444,\"#bd3786\"],[0.5555555555555556,\"#d8576b\"],[0.6666666666666666,\"#ed7953\"],[0.7777777777777778,\"#fb9f3a\"],[0.8888888888888888,\"#fdca26\"],[1.0,\"#f0f921\"]]}],\"surface\":[{\"type\":\"surface\",\"colorbar\":{\"outlinewidth\":0,\"ticks\":\"\"},\"colorscale\":[[0.0,\"#0d0887\"],[0.1111111111111111,\"#46039f\"],[0.2222222222222222,\"#7201a8\"],[0.3333333333333333,\"#9c179e\"],[0.4444444444444444,\"#bd3786\"],[0.5555555555555556,\"#d8576b\"],[0.6666666666666666,\"#ed7953\"],[0.7777777777777778,\"#fb9f3a\"],[0.8888888888888888,\"#fdca26\"],[1.0,\"#f0f921\"]]}],\"mesh3d\":[{\"type\":\"mesh3d\",\"colorbar\":{\"outlinewidth\":0,\"ticks\":\"\"}}],\"scatter\":[{\"fillpattern\":{\"fillmode\":\"overlay\",\"size\":10,\"solidity\":0.2},\"type\":\"scatter\"}],\"parcoords\":[{\"type\":\"parcoords\",\"line\":{\"colorbar\":{\"outlinewidth\":0,\"ticks\":\"\"}}}],\"scatterpolargl\":[{\"type\":\"scatterpolargl\",\"marker\":{\"colorbar\":{\"outlinewidth\":0,\"ticks\":\"\"}}}],\"bar\":[{\"error_x\":{\"color\":\"#2a3f5f\"},\"error_y\":{\"color\":\"#2a3f5f\"},\"marker\":{\"line\":{\"color\":\"#E5ECF6\",\"width\":0.5},\"pattern\":{\"fillmode\":\"overlay\",\"size\":10,\"solidity\":0.2}},\"type\":\"bar\"}],\"scattergeo\":[{\"type\":\"scattergeo\",\"marker\":{\"colorbar\":{\"outlinewidth\":0,\"ticks\":\"\"}}}],\"scatterpolar\":[{\"type\":\"scatterpolar\",\"marker\":{\"colorbar\":{\"outlinewidth\":0,\"ticks\":\"\"}}}],\"histogram\":[{\"marker\":{\"pattern\":{\"fillmode\":\"overlay\",\"size\":10,\"solidity\":0.2}},\"type\":\"histogram\"}],\"scattergl\":[{\"type\":\"scattergl\",\"marker\":{\"colorbar\":{\"outlinewidth\":0,\"ticks\":\"\"}}}],\"scatter3d\":[{\"type\":\"scatter3d\",\"line\":{\"colorbar\":{\"outlinewidth\":0,\"ticks\":\"\"}},\"marker\":{\"colorbar\":{\"outlinewidth\":0,\"ticks\":\"\"}}}],\"scattermapbox\":[{\"type\":\"scattermapbox\",\"marker\":{\"colorbar\":{\"outlinewidth\":0,\"ticks\":\"\"}}}],\"scatterternary\":[{\"type\":\"scatterternary\",\"marker\":{\"colorbar\":{\"outlinewidth\":0,\"ticks\":\"\"}}}],\"scattercarpet\":[{\"type\":\"scattercarpet\",\"marker\":{\"colorbar\":{\"outlinewidth\":0,\"ticks\":\"\"}}}],\"carpet\":[{\"aaxis\":{\"endlinecolor\":\"#2a3f5f\",\"gridcolor\":\"white\",\"linecolor\":\"white\",\"minorgridcolor\":\"white\",\"startlinecolor\":\"#2a3f5f\"},\"baxis\":{\"endlinecolor\":\"#2a3f5f\",\"gridcolor\":\"white\",\"linecolor\":\"white\",\"minorgridcolor\":\"white\",\"startlinecolor\":\"#2a3f5f\"},\"type\":\"carpet\"}],\"table\":[{\"cells\":{\"fill\":{\"color\":\"#EBF0F8\"},\"line\":{\"color\":\"white\"}},\"header\":{\"fill\":{\"color\":\"#C8D4E3\"},\"line\":{\"color\":\"white\"}},\"type\":\"table\"}],\"barpolar\":[{\"marker\":{\"line\":{\"color\":\"#E5ECF6\",\"width\":0.5},\"pattern\":{\"fillmode\":\"overlay\",\"size\":10,\"solidity\":0.2}},\"type\":\"barpolar\"}],\"pie\":[{\"automargin\":true,\"type\":\"pie\"}]},\"layout\":{\"autotypenumbers\":\"strict\",\"colorway\":[\"#636efa\",\"#EF553B\",\"#00cc96\",\"#ab63fa\",\"#FFA15A\",\"#19d3f3\",\"#FF6692\",\"#B6E880\",\"#FF97FF\",\"#FECB52\"],\"font\":{\"color\":\"#2a3f5f\"},\"hovermode\":\"closest\",\"hoverlabel\":{\"align\":\"left\"},\"paper_bgcolor\":\"white\",\"plot_bgcolor\":\"#E5ECF6\",\"polar\":{\"bgcolor\":\"#E5ECF6\",\"angularaxis\":{\"gridcolor\":\"white\",\"linecolor\":\"white\",\"ticks\":\"\"},\"radialaxis\":{\"gridcolor\":\"white\",\"linecolor\":\"white\",\"ticks\":\"\"}},\"ternary\":{\"bgcolor\":\"#E5ECF6\",\"aaxis\":{\"gridcolor\":\"white\",\"linecolor\":\"white\",\"ticks\":\"\"},\"baxis\":{\"gridcolor\":\"white\",\"linecolor\":\"white\",\"ticks\":\"\"},\"caxis\":{\"gridcolor\":\"white\",\"linecolor\":\"white\",\"ticks\":\"\"}},\"coloraxis\":{\"colorbar\":{\"outlinewidth\":0,\"ticks\":\"\"}},\"colorscale\":{\"sequential\":[[0.0,\"#0d0887\"],[0.1111111111111111,\"#46039f\"],[0.2222222222222222,\"#7201a8\"],[0.3333333333333333,\"#9c179e\"],[0.4444444444444444,\"#bd3786\"],[0.5555555555555556,\"#d8576b\"],[0.6666666666666666,\"#ed7953\"],[0.7777777777777778,\"#fb9f3a\"],[0.8888888888888888,\"#fdca26\"],[1.0,\"#f0f921\"]],\"sequentialminus\":[[0.0,\"#0d0887\"],[0.1111111111111111,\"#46039f\"],[0.2222222222222222,\"#7201a8\"],[0.3333333333333333,\"#9c179e\"],[0.4444444444444444,\"#bd3786\"],[0.5555555555555556,\"#d8576b\"],[0.6666666666666666,\"#ed7953\"],[0.7777777777777778,\"#fb9f3a\"],[0.8888888888888888,\"#fdca26\"],[1.0,\"#f0f921\"]],\"diverging\":[[0,\"#8e0152\"],[0.1,\"#c51b7d\"],[0.2,\"#de77ae\"],[0.3,\"#f1b6da\"],[0.4,\"#fde0ef\"],[0.5,\"#f7f7f7\"],[0.6,\"#e6f5d0\"],[0.7,\"#b8e186\"],[0.8,\"#7fbc41\"],[0.9,\"#4d9221\"],[1,\"#276419\"]]},\"xaxis\":{\"gridcolor\":\"white\",\"linecolor\":\"white\",\"ticks\":\"\",\"title\":{\"standoff\":15},\"zerolinecolor\":\"white\",\"automargin\":true,\"zerolinewidth\":2},\"yaxis\":{\"gridcolor\":\"white\",\"linecolor\":\"white\",\"ticks\":\"\",\"title\":{\"standoff\":15},\"zerolinecolor\":\"white\",\"automargin\":true,\"zerolinewidth\":2},\"scene\":{\"xaxis\":{\"backgroundcolor\":\"#E5ECF6\",\"gridcolor\":\"white\",\"linecolor\":\"white\",\"showbackground\":true,\"ticks\":\"\",\"zerolinecolor\":\"white\",\"gridwidth\":2},\"yaxis\":{\"backgroundcolor\":\"#E5ECF6\",\"gridcolor\":\"white\",\"linecolor\":\"white\",\"showbackground\":true,\"ticks\":\"\",\"zerolinecolor\":\"white\",\"gridwidth\":2},\"zaxis\":{\"backgroundcolor\":\"#E5ECF6\",\"gridcolor\":\"white\",\"linecolor\":\"white\",\"showbackground\":true,\"ticks\":\"\",\"zerolinecolor\":\"white\",\"gridwidth\":2}},\"shapedefaults\":{\"line\":{\"color\":\"#2a3f5f\"}},\"annotationdefaults\":{\"arrowcolor\":\"#2a3f5f\",\"arrowhead\":0,\"arrowwidth\":1},\"geo\":{\"bgcolor\":\"white\",\"landcolor\":\"#E5ECF6\",\"subunitcolor\":\"white\",\"showland\":true,\"showlakes\":true,\"lakecolor\":\"white\"},\"title\":{\"x\":0.05},\"mapbox\":{\"style\":\"light\"}}},\"yaxis\":{\"title\":{\"text\":\"Scores\"},\"range\":[0,100]},\"title\":{\"text\":\"Student Scores by Subject\"},\"xaxis\":{\"title\":{\"text\":\"Subjects\"}}},                        {\"responsive\": true}                    ).then(function(){\n",
              "                            \n",
              "var gd = document.getElementById('33461576-b3b4-474c-94e6-72c932a32aaa');\n",
              "var x = new MutationObserver(function (mutations, observer) {{\n",
              "        var display = window.getComputedStyle(gd).display;\n",
              "        if (!display || display === 'none') {{\n",
              "            console.log([gd, 'removed!']);\n",
              "            Plotly.purge(gd);\n",
              "            observer.disconnect();\n",
              "        }}\n",
              "}});\n",
              "\n",
              "// Listen for the removal of the full notebook cells\n",
              "var notebookContainer = gd.closest('#notebook-container');\n",
              "if (notebookContainer) {{\n",
              "    x.observe(notebookContainer, {childList: true});\n",
              "}}\n",
              "\n",
              "// Listen for the clearing of the current output cell\n",
              "var outputEl = gd.closest('.output');\n",
              "if (outputEl) {{\n",
              "    x.observe(outputEl, {childList: true});\n",
              "}}\n",
              "\n",
              "                        })                };                            </script>        </div>\n",
              "</body>\n",
              "</html>"
            ]
          },
          "metadata": {}
        }
      ]
    },
    {
      "cell_type": "code",
      "source": [
        "# create a DataFrame and add a new column based on an existing column.\n",
        "\n",
        "import pandas as pd\n",
        "\n",
        "data = {\n",
        "    'Name': ['Venu', 'Vicky', 'Virat', 'Dravid', 'Sachin'],\n",
        "    'Score': [85, 62, 90, 70, 95]\n",
        "}\n",
        "\n",
        "df = pd.DataFrame(data)\n",
        "\n",
        "df['Result'] = df['Score'].apply(lambda x: 'Pass' if x >= 75 else 'Fail')\n",
        "\n",
        "print(df)\n"
      ],
      "metadata": {
        "colab": {
          "base_uri": "https://localhost:8080/"
        },
        "id": "5LdrqUtRDQWv",
        "outputId": "062a1501-6035-4bcf-bf14-f8d55d4a61db"
      },
      "execution_count": 22,
      "outputs": [
        {
          "output_type": "stream",
          "name": "stdout",
          "text": [
            "     Name  Score Result\n",
            "0    Venu     85   Pass\n",
            "1   Vicky     62   Fail\n",
            "2   Virat     90   Pass\n",
            "3  Dravid     70   Fail\n",
            "4  Sachin     95   Pass\n"
          ]
        }
      ]
    },
    {
      "cell_type": "code",
      "source": [
        "# Write a program to perform element-wise multiplication of two Numpy arrays.\n",
        "\n",
        "import numpy as np\n",
        "\n",
        "def multiply_arrays(array1, array2):\n",
        "    \"\"\"\n",
        "    Performs element-wise multiplication of two NumPy arrays.\n",
        "\n",
        "    Args:\n",
        "        array1 (numpy.ndarray): The first input array.\n",
        "        array2 (numpy.ndarray): The second input array.\n",
        "\n",
        "    Returns:\n",
        "        numpy.ndarray: A new array containing the element-wise products.\n",
        "                       Returns None if arrays have incompatible shapes for multiplication.\n",
        "    \"\"\"\n",
        "    if array1.shape != array2.shape:\n",
        "        print(\"Error: Arrays must have the same shape for element-wise multiplication.\")\n",
        "        return None\n",
        "\n",
        "    result_array = np.multiply(array1, array2)\n",
        "    return result_array\n",
        "\n",
        "if __name__ == '__main__':\n",
        "    array1 = np.array([[1, 2], [3, 4]])\n",
        "    array2 = np.array([[5, 6], [7, 8]])\n",
        "\n",
        "    result = multiply_arrays(array1, array2)\n",
        "\n",
        "    if result is not None:\n",
        "        print(\"Array 1:\")\n",
        "        print(array1)\n",
        "        print(\"\\nArray 2:\")\n",
        "        print(array2)\n",
        "        print(\"\\nElement-wise Multiplication Result:\")\n",
        "        print(result)"
      ],
      "metadata": {
        "colab": {
          "base_uri": "https://localhost:8080/"
        },
        "id": "cbg3NK2iDb6q",
        "outputId": "2dd42a7e-64aa-4501-b452-669812d557e9"
      },
      "execution_count": 23,
      "outputs": [
        {
          "output_type": "stream",
          "name": "stdout",
          "text": [
            "Array 1:\n",
            "[[1 2]\n",
            " [3 4]]\n",
            "\n",
            "Array 2:\n",
            "[[5 6]\n",
            " [7 8]]\n",
            "\n",
            "Element-wise Multiplication Result:\n",
            "[[ 5 12]\n",
            " [21 32]]\n"
          ]
        }
      ]
    },
    {
      "cell_type": "code",
      "source": [
        "# Create a line plot with multiple lines using Matplotib.\n",
        "\n",
        "import matplotlib.pyplot as plt\n",
        "\n",
        "x = [1, 2, 3, 4, 5]\n",
        "y1 = [2, 4, 1, 3, 5]\n",
        "y2 = [1, 3, 4, 2, 4]\n",
        "y3 = [3, 1, 5, 2, 3]\n",
        "\n",
        "plt.plot(x, y1, label='Line 1', color='blue', linestyle='-')\n",
        "plt.plot(x, y2, label='Line 2', color='red', linestyle='--')\n",
        "plt.plot(x, y3, label='Line 3', color='green', linestyle=':')\n",
        "\n",
        "plt.xlabel('X-axis')\n",
        "plt.ylabel('Y-axis')\n",
        "plt.title('Multiple Lines Plot')\n",
        "\n",
        "plt.legend()\n",
        "plt.show()"
      ],
      "metadata": {
        "colab": {
          "base_uri": "https://localhost:8080/",
          "height": 472
        },
        "id": "_G5EeR5RDnql",
        "outputId": "cfd0a71c-a522-48ec-f8c8-ac01b4662dd3"
      },
      "execution_count": 24,
      "outputs": [
        {
          "output_type": "display_data",
          "data": {
            "text/plain": [
              "<Figure size 640x480 with 1 Axes>"
            ],
            "image/png": "[encoded data removed]"
          },
          "metadata": {}
        }
      ]
    },
    {
      "cell_type": "code",
      "source": [
        "# Generate a Pandas DataFrame and filter rows where a column value is greater than a threshold.\n",
        "\n",
        "import pandas as pd\n",
        "\n",
        "data = {\n",
        "    'Name': ['Venu', 'Vicky', 'Virat', 'Dravid', 'Sachin'],\n",
        "    'Score': [85, 62, 90, 70, 95]\n",
        "}\n",
        "\n",
        "df = pd.DataFrame(data)\n",
        "\n",
        "threshold = 80\n",
        "\n",
        "filtered_df = df[df['Score'] > threshold]\n",
        "\n",
        "print(\"Original DataFrame:\\n\", df)\n",
        "print(\"\\nFiltered DataFrame (Score > 80):\\n\", filtered_df)\n"
      ],
      "metadata": {
        "colab": {
          "base_uri": "https://localhost:8080/"
        },
        "id": "VZnNoOkhD4cw",
        "outputId": "dbeabe76-acdf-4f55-8681-4553a1ade4f4"
      },
      "execution_count": 3,
      "outputs": [
        {
          "output_type": "stream",
          "name": "stdout",
          "text": [
            "Original DataFrame:\n",
            "      Name  Score\n",
            "0    Venu     85\n",
            "1   Vicky     62\n",
            "2   Virat     90\n",
            "3  Dravid     70\n",
            "4  Sachin     95\n",
            "\n",
            "Filtered DataFrame (Score > 80):\n",
            "      Name  Score\n",
            "0    Venu     85\n",
            "2   Virat     90\n",
            "4  Sachin     95\n"
          ]
        }
      ]
    },
    {
      "cell_type": "code",
      "source": [
        "# Create a histogram using Seaborn to visualize a distribution.\n",
        "\n",
        "import seaborn as sns\n",
        "import matplotlib.pyplot as plt\n",
        "import numpy as np\n",
        "\n",
        "data = np.random.randn(1000)\n",
        "\n",
        "sns.histplot(data, bins=30, kde=True, color='skyblue')\n",
        "\n",
        "plt.title('Histogram of Distribution')\n",
        "plt.xlabel('Value')\n",
        "plt.ylabel('Frequency')\n",
        "\n",
        "plt.show()\n"
      ],
      "metadata": {
        "colab": {
          "base_uri": "https://localhost:8080/",
          "height": 472
        },
        "id": "GZKUMUF0EO5Z",
        "outputId": "377cf381-2ac6-491c-ac2e-e913867c9c48"
      },
      "execution_count": 26,
      "outputs": [
        {
          "output_type": "display_data",
          "data": {
            "text/plain": [
              "<Figure size 640x480 with 1 Axes>"
            ],
            "image/png": "[encoded data removed]"
          },
          "metadata": {}
        }
      ]
    },
    {
      "cell_type": "code",
      "source": [
        "# Perform matrix multiplication using Numpy.\n",
        "\n",
        "import numpy as np\n",
        "\n",
        "A = np.array([[1, 2],\n",
        "              [3, 4]])\n",
        "\n",
        "B = np.array([[5, 6],\n",
        "              [7, 8]])\n",
        "\n",
        "result = np.dot(A, B)\n",
        "\n",
        "\n",
        "\n",
        "print(\"Matrix A:\\n\", A)\n",
        "print(\"Matrix B:\\n\", B)\n",
        "print(\"Result of A x B:\\n\", result)\n"
      ],
      "metadata": {
        "colab": {
          "base_uri": "https://localhost:8080/"
        },
        "id": "7C8pfH0kEYXz",
        "outputId": "dae07232-e0cd-4a21-c18d-82d736362b10"
      },
      "execution_count": 27,
      "outputs": [
        {
          "output_type": "stream",
          "name": "stdout",
          "text": [
            "Matrix A:\n",
            " [[1 2]\n",
            " [3 4]]\n",
            "Matrix B:\n",
            " [[5 6]\n",
            " [7 8]]\n",
            "Result of A x B:\n",
            " [[19 22]\n",
            " [43 50]]\n"
          ]
        }
      ]
    },
    {
      "cell_type": "code",
      "source": [
        "# Using Pandas to load a CSV file and display its first 5 rows.\n",
        "\n",
        "import pandas as pd\n",
        "\n",
        "df = pd.read_csv('basic-data.csv')\n",
        "\n",
        "print(df.head())\n"
      ],
      "metadata": {
        "colab": {
          "base_uri": "https://localhost:8080/"
        },
        "id": "xwEbKVP-Eklq",
        "outputId": "42661e88-0c88-456a-b2b2-823d1f46f474"
      },
      "execution_count": 28,
      "outputs": [
        {
          "output_type": "stream",
          "name": "stdout",
          "text": [
            "                        # This sample CSV file is provided by Sample-Files.com. Visit us for more sample files and resources.\n",
            "ID Name   Age Country                                                Email                                                   \n",
            "1  Name_1 62  Country_1                                email_1@example.com                                                   \n",
            "2  Name_2 48  Country_2                                email_2@example.com                                                   \n",
            "3  Name_3 61  Country_3                                email_3@example.com                                                   \n",
            "4  Name_4 32  Country_4                                email_4@example.com                                                   \n"
          ]
        }
      ]
    },
    {
      "cell_type": "code",
      "source": [
        "# Create a 3D scatter plot using Plotly.\n",
        "\n",
        "import plotly.graph_objects as go\n",
        "import numpy as np\n",
        "\n",
        "np.random.seed(42)\n",
        "x = np.random.randn(50)\n",
        "y = np.random.randn(50)\n",
        "z = np.random.randn(50)\n",
        "color = np.random.rand(50)\n",
        "\n",
        "fig = go.Figure(data=[go.Scatter3d(\n",
        "    x=x,\n",
        "    y=y,\n",
        "    z=z,\n",
        "    mode='markers',\n",
        "    marker=dict(\n",
        "        size=8,\n",
        "        color=color,\n",
        "        colorscale='Viridis',\n",
        "        opacity=0.8\n",
        "    )\n",
        ")])\n",
        "\n",
        "fig.update_layout(\n",
        "    title='3D Scatter Plot',\n",
        "    scene=dict(\n",
        "        xaxis_title='X Axis',\n",
        "        yaxis_title='Y Axis',\n",
        "        zaxis_title='Z Axis'\n",
        "    )\n",
        ")\n",
        "\n",
        "fig.show()\n"
      ],
      "metadata": {
        "colab": {
          "base_uri": "https://localhost:8080/",
          "height": 542
        },
        "id": "QNOfCtMqErlU",
        "outputId": "cc488afd-3fb3-4588-82a7-e492a7da0454"
      },
      "execution_count": 1,
      "outputs": [
        {
          "output_type": "display_data",
          "data": {
            "text/html": [
              "<html>\n",
              "<head><meta charset=\"utf-8\" /></head>\n",
              "<body>\n",
              "    <div>            <script src=\"https://cdnjs.cloudflare.com/ajax/libs/mathjax/2.7.5/MathJax.js?config=TeX-AMS-MML_SVG\"></script><script type=\"text/javascript\">if (window.MathJax && window.MathJax.Hub && window.MathJax.Hub.Config) {window.MathJax.Hub.Config({SVG: {font: \"STIX-Web\"}});}</script>                <script type=\"text/javascript\">window.PlotlyConfig = {MathJaxConfig: 'local'};</script>\n",
              "        <script charset=\"utf-8\" src=\"https://cdn.plot.ly/plotly-2.35.2.min.js\"></script>                <div id=\"2b635546-a9c0-44c7-bf7c-b644e3405f02\" class=\"plotly-graph-div\" style=\"height:525px; width:100%;\"></div>            <script type=\"text/javascript\">                                    window.PLOTLYENV=window.PLOTLYENV || {};                                    if (document.getElementById(\"2b635546-a9c0-44c7-bf7c-b644e3405f02\")) {                    Plotly.newPlot(                        \"2b635546-a9c0-44c7-bf7c-b644e3405f02\",                        [{\"marker\":{\"color\":[0.8870864242651173,0.7798755458576239,0.6420316461542878,0.08413996499504883,0.16162871409461377,0.8985541885270792,0.6064290596595899,0.009197051616629648,0.1014715428660321,0.6635017691080558,0.005061583846218687,0.16080805141749865,0.5487337893665861,0.6918951976926933,0.6519612595026005,0.22426930946055978,0.7121792213475359,0.23724908749680007,0.3253996981592677,0.7464914051180241,0.6496328990472147,0.8492234104941779,0.6576128923003434,0.5683086033354716,0.09367476782809248,0.3677158030594335,0.26520236768172545,0.24398964337908358,0.9730105547524456,0.3930977246667604,0.8920465551771133,0.6311386259972629,0.7948113035416484,0.5026370931051921,0.5769038846263591,0.4925176938188639,0.1952429877980445,0.7224521152615053,0.2807723624408558,0.02431596643145384,0.6454722959071678,0.17711067940704894,0.9404585843529143,0.9539285770025874,0.9148643902204485,0.3701587002554444,0.015456616528867428,0.9283185625877254,0.42818414831731433,0.9666548190436696],\"colorscale\":[[0.0,\"#440154\"],[0.1111111111111111,\"#482878\"],[0.2222222222222222,\"#3e4989\"],[0.3333333333333333,\"#31688e\"],[0.4444444444444444,\"#26828e\"],[0.5555555555555556,\"#1f9e89\"],[0.6666666666666666,\"#35b779\"],[0.7777777777777778,\"#6ece58\"],[0.8888888888888888,\"#b5de2b\"],[1.0,\"#fde725\"]],\"opacity\":0.8,\"size\":8},\"mode\":\"markers\",\"x\":[0.4967141530112327,-0.13826430117118466,0.6476885381006925,1.5230298564080254,-0.23415337472333597,-0.23413695694918055,1.5792128155073915,0.7674347291529088,-0.4694743859349521,0.5425600435859647,-0.46341769281246226,-0.46572975357025687,0.24196227156603412,-1.913280244657798,-1.7249178325130328,-0.5622875292409727,-1.0128311203344238,0.3142473325952739,-0.9080240755212109,-1.4123037013352915,1.465648768921554,-0.22577630048653566,0.06752820468792384,-1.4247481862134568,-0.5443827245251827,0.11092258970986608,-1.1509935774223028,0.37569801834567196,-0.600638689918805,-0.2916937497932768,-0.6017066122293969,1.8522781845089378,-0.013497224737933921,-1.0577109289559004,0.822544912103189,-1.2208436499710222,0.2088635950047554,-1.9596701238797756,-1.3281860488984305,0.19686123586912352,0.7384665799954104,0.1713682811899705,-0.11564828238824053,-0.3011036955892888,-1.4785219903674274,-0.7198442083947086,-0.4606387709597875,1.0571222262189157,0.3436182895684614,-1.763040155362734],\"y\":[0.324083969394795,-0.38508228041631654,-0.6769220003059587,0.6116762888408679,1.030999522495951,0.9312801191161986,-0.8392175232226385,-0.3092123758512146,0.33126343140356396,0.9755451271223592,-0.47917423784528995,-0.18565897666381712,-1.1063349740060282,-1.1962066240806708,0.812525822394198,1.356240028570823,-0.07201012158033385,1.0035328978920242,0.36163602504763415,-0.6451197546051243,0.36139560550841393,1.5380365664659692,-0.03582603910995154,1.5646436558140062,-2.6197451040897444,0.8219025043752238,0.08704706823817122,-0.29900735046586746,0.0917607765355023,-1.9875689146008928,-0.21967188783751193,0.3571125715117464,1.477894044741516,-0.5182702182736474,-0.8084936028931876,-0.5017570435845365,0.9154021177020741,0.32875110965968446,-0.5297602037670388,0.5132674331133561,0.09707754934804039,0.9686449905328892,-0.7020530938773524,-0.3276621465977682,-0.39210815313215763,-1.4635149481321186,0.29612027706457605,0.26105527217988933,0.00511345664246089,-0.23458713337514692],\"z\":[-1.4153707420504142,-0.42064532276535904,-0.3427145165267695,-0.8022772692216189,-0.16128571166600914,0.4040508568145384,1.8861859012105302,0.17457781283183896,0.25755039072276437,-0.07444591576616721,-1.9187712152990415,-0.026513875449216878,0.06023020994102644,2.463242112485286,-0.19236096478112252,0.30154734233361247,-0.03471176970524331,-1.168678037619532,1.1428228145150205,0.7519330326867741,0.7910319470430469,-0.9093874547947389,1.4027943109360992,-1.4018510627922809,0.5868570938002703,2.1904556258099785,-0.9905363251306883,-0.5662977296027719,0.09965136508764122,-0.5034756541161992,-1.5506634310661327,0.06856297480602733,-1.0623037137261049,0.4735924306351816,-0.9194242342338032,1.5499344050175394,-0.7832532923362371,-0.3220615162056756,0.8135172173696698,-1.2308643164339552,0.22745993460412942,1.307142754282428,-1.6074832345612275,0.1846338585323042,0.25988279424842353,0.7818228717773104,-1.236950710878082,-1.3204566130842763,0.5219415656168976,0.29698467323318606],\"type\":\"scatter3d\"}],                        {\"template\":{\"data\":{\"histogram2dcontour\":[{\"type\":\"histogram2dcontour\",\"colorbar\":{\"outlinewidth\":0,\"ticks\":\"\"},\"colorscale\":[[0.0,\"#0d0887\"],[0.1111111111111111,\"#46039f\"],[0.2222222222222222,\"#7201a8\"],[0.3333333333333333,\"#9c179e\"],[0.4444444444444444,\"#bd3786\"],[0.5555555555555556,\"#d8576b\"],[0.6666666666666666,\"#ed7953\"],[0.7777777777777778,\"#fb9f3a\"],[0.8888888888888888,\"#fdca26\"],[1.0,\"#f0f921\"]]}],\"choropleth\":[{\"type\":\"choropleth\",\"colorbar\":{\"outlinewidth\":0,\"ticks\":\"\"}}],\"histogram2d\":[{\"type\":\"histogram2d\",\"colorbar\":{\"outlinewidth\":0,\"ticks\":\"\"},\"colorscale\":[[0.0,\"#0d0887\"],[0.1111111111111111,\"#46039f\"],[0.2222222222222222,\"#7201a8\"],[0.3333333333333333,\"#9c179e\"],[0.4444444444444444,\"#bd3786\"],[0.5555555555555556,\"#d8576b\"],[0.6666666666666666,\"#ed7953\"],[0.7777777777777778,\"#fb9f3a\"],[0.8888888888888888,\"#fdca26\"],[1.0,\"#f0f921\"]]}],\"heatmap\":[{\"type\":\"heatmap\",\"colorbar\":{\"outlinewidth\":0,\"ticks\":\"\"},\"colorscale\":[[0.0,\"#0d0887\"],[0.1111111111111111,\"#46039f\"],[0.2222222222222222,\"#7201a8\"],[0.3333333333333333,\"#9c179e\"],[0.4444444444444444,\"#bd3786\"],[0.5555555555555556,\"#d8576b\"],[0.6666666666666666,\"#ed7953\"],[0.7777777777777778,\"#fb9f3a\"],[0.8888888888888888,\"#fdca26\"],[1.0,\"#f0f921\"]]}],\"heatmapgl\":[{\"type\":\"heatmapgl\",\"colorbar\":{\"outlinewidth\":0,\"ticks\":\"\"},\"colorscale\":[[0.0,\"#0d0887\"],[0.1111111111111111,\"#46039f\"],[0.2222222222222222,\"#7201a8\"],[0.3333333333333333,\"#9c179e\"],[0.4444444444444444,\"#bd3786\"],[0.5555555555555556,\"#d8576b\"],[0.6666666666666666,\"#ed7953\"],[0.7777777777777778,\"#fb9f3a\"],[0.8888888888888888,\"#fdca26\"],[1.0,\"#f0f921\"]]}],\"contourcarpet\":[{\"type\":\"contourcarpet\",\"colorbar\":{\"outlinewidth\":0,\"ticks\":\"\"}}],\"contour\":[{\"type\":\"contour\",\"colorbar\":{\"outlinewidth\":0,\"ticks\":\"\"},\"colorscale\":[[0.0,\"#0d0887\"],[0.1111111111111111,\"#46039f\"],[0.2222222222222222,\"#7201a8\"],[0.3333333333333333,\"#9c179e\"],[0.4444444444444444,\"#bd3786\"],[0.5555555555555556,\"#d8576b\"],[0.6666666666666666,\"#ed7953\"],[0.7777777777777778,\"#fb9f3a\"],[0.8888888888888888,\"#fdca26\"],[1.0,\"#f0f921\"]]}],\"surface\":[{\"type\":\"surface\",\"colorbar\":{\"outlinewidth\":0,\"ticks\":\"\"},\"colorscale\":[[0.0,\"#0d0887\"],[0.1111111111111111,\"#46039f\"],[0.2222222222222222,\"#7201a8\"],[0.3333333333333333,\"#9c179e\"],[0.4444444444444444,\"#bd3786\"],[0.5555555555555556,\"#d8576b\"],[0.6666666666666666,\"#ed7953\"],[0.7777777777777778,\"#fb9f3a\"],[0.8888888888888888,\"#fdca26\"],[1.0,\"#f0f921\"]]}],\"mesh3d\":[{\"type\":\"mesh3d\",\"colorbar\":{\"outlinewidth\":0,\"ticks\":\"\"}}],\"scatter\":[{\"fillpattern\":{\"fillmode\":\"overlay\",\"size\":10,\"solidity\":0.2},\"type\":\"scatter\"}],\"parcoords\":[{\"type\":\"parcoords\",\"line\":{\"colorbar\":{\"outlinewidth\":0,\"ticks\":\"\"}}}],\"scatterpolargl\":[{\"type\":\"scatterpolargl\",\"marker\":{\"colorbar\":{\"outlinewidth\":0,\"ticks\":\"\"}}}],\"bar\":[{\"error_x\":{\"color\":\"#2a3f5f\"},\"error_y\":{\"color\":\"#2a3f5f\"},\"marker\":{\"line\":{\"color\":\"#E5ECF6\",\"width\":0.5},\"pattern\":{\"fillmode\":\"overlay\",\"size\":10,\"solidity\":0.2}},\"type\":\"bar\"}],\"scattergeo\":[{\"type\":\"scattergeo\",\"marker\":{\"colorbar\":{\"outlinewidth\":0,\"ticks\":\"\"}}}],\"scatterpolar\":[{\"type\":\"scatterpolar\",\"marker\":{\"colorbar\":{\"outlinewidth\":0,\"ticks\":\"\"}}}],\"histogram\":[{\"marker\":{\"pattern\":{\"fillmode\":\"overlay\",\"size\":10,\"solidity\":0.2}},\"type\":\"histogram\"}],\"scattergl\":[{\"type\":\"scattergl\",\"marker\":{\"colorbar\":{\"outlinewidth\":0,\"ticks\":\"\"}}}],\"scatter3d\":[{\"type\":\"scatter3d\",\"line\":{\"colorbar\":{\"outlinewidth\":0,\"ticks\":\"\"}},\"marker\":{\"colorbar\":{\"outlinewidth\":0,\"ticks\":\"\"}}}],\"scattermapbox\":[{\"type\":\"scattermapbox\",\"marker\":{\"colorbar\":{\"outlinewidth\":0,\"ticks\":\"\"}}}],\"scatterternary\":[{\"type\":\"scatterternary\",\"marker\":{\"colorbar\":{\"outlinewidth\":0,\"ticks\":\"\"}}}],\"scattercarpet\":[{\"type\":\"scattercarpet\",\"marker\":{\"colorbar\":{\"outlinewidth\":0,\"ticks\":\"\"}}}],\"carpet\":[{\"aaxis\":{\"endlinecolor\":\"#2a3f5f\",\"gridcolor\":\"white\",\"linecolor\":\"white\",\"minorgridcolor\":\"white\",\"startlinecolor\":\"#2a3f5f\"},\"baxis\":{\"endlinecolor\":\"#2a3f5f\",\"gridcolor\":\"white\",\"linecolor\":\"white\",\"minorgridcolor\":\"white\",\"startlinecolor\":\"#2a3f5f\"},\"type\":\"carpet\"}],\"table\":[{\"cells\":{\"fill\":{\"color\":\"#EBF0F8\"},\"line\":{\"color\":\"white\"}},\"header\":{\"fill\":{\"color\":\"#C8D4E3\"},\"line\":{\"color\":\"white\"}},\"type\":\"table\"}],\"barpolar\":[{\"marker\":{\"line\":{\"color\":\"#E5ECF6\",\"width\":0.5},\"pattern\":{\"fillmode\":\"overlay\",\"size\":10,\"solidity\":0.2}},\"type\":\"barpolar\"}],\"pie\":[{\"automargin\":true,\"type\":\"pie\"}]},\"layout\":{\"autotypenumbers\":\"strict\",\"colorway\":[\"#636efa\",\"#EF553B\",\"#00cc96\",\"#ab63fa\",\"#FFA15A\",\"#19d3f3\",\"#FF6692\",\"#B6E880\",\"#FF97FF\",\"#FECB52\"],\"font\":{\"color\":\"#2a3f5f\"},\"hovermode\":\"closest\",\"hoverlabel\":{\"align\":\"left\"},\"paper_bgcolor\":\"white\",\"plot_bgcolor\":\"#E5ECF6\",\"polar\":{\"bgcolor\":\"#E5ECF6\",\"angularaxis\":{\"gridcolor\":\"white\",\"linecolor\":\"white\",\"ticks\":\"\"},\"radialaxis\":{\"gridcolor\":\"white\",\"linecolor\":\"white\",\"ticks\":\"\"}},\"ternary\":{\"bgcolor\":\"#E5ECF6\",\"aaxis\":{\"gridcolor\":\"white\",\"linecolor\":\"white\",\"ticks\":\"\"},\"baxis\":{\"gridcolor\":\"white\",\"linecolor\":\"white\",\"ticks\":\"\"},\"caxis\":{\"gridcolor\":\"white\",\"linecolor\":\"white\",\"ticks\":\"\"}},\"coloraxis\":{\"colorbar\":{\"outlinewidth\":0,\"ticks\":\"\"}},\"colorscale\":{\"sequential\":[[0.0,\"#0d0887\"],[0.1111111111111111,\"#46039f\"],[0.2222222222222222,\"#7201a8\"],[0.3333333333333333,\"#9c179e\"],[0.4444444444444444,\"#bd3786\"],[0.5555555555555556,\"#d8576b\"],[0.6666666666666666,\"#ed7953\"],[0.7777777777777778,\"#fb9f3a\"],[0.8888888888888888,\"#fdca26\"],[1.0,\"#f0f921\"]],\"sequentialminus\":[[0.0,\"#0d0887\"],[0.1111111111111111,\"#46039f\"],[0.2222222222222222,\"#7201a8\"],[0.3333333333333333,\"#9c179e\"],[0.4444444444444444,\"#bd3786\"],[0.5555555555555556,\"#d8576b\"],[0.6666666666666666,\"#ed7953\"],[0.7777777777777778,\"#fb9f3a\"],[0.8888888888888888,\"#fdca26\"],[1.0,\"#f0f921\"]],\"diverging\":[[0,\"#8e0152\"],[0.1,\"#c51b7d\"],[0.2,\"#de77ae\"],[0.3,\"#f1b6da\"],[0.4,\"#fde0ef\"],[0.5,\"#f7f7f7\"],[0.6,\"#e6f5d0\"],[0.7,\"#b8e186\"],[0.8,\"#7fbc41\"],[0.9,\"#4d9221\"],[1,\"#276419\"]]},\"xaxis\":{\"gridcolor\":\"white\",\"linecolor\":\"white\",\"ticks\":\"\",\"title\":{\"standoff\":15},\"zerolinecolor\":\"white\",\"automargin\":true,\"zerolinewidth\":2},\"yaxis\":{\"gridcolor\":\"white\",\"linecolor\":\"white\",\"ticks\":\"\",\"title\":{\"standoff\":15},\"zerolinecolor\":\"white\",\"automargin\":true,\"zerolinewidth\":2},\"scene\":{\"xaxis\":{\"backgroundcolor\":\"#E5ECF6\",\"gridcolor\":\"white\",\"linecolor\":\"white\",\"showbackground\":true,\"ticks\":\"\",\"zerolinecolor\":\"white\",\"gridwidth\":2},\"yaxis\":{\"backgroundcolor\":\"#E5ECF6\",\"gridcolor\":\"white\",\"linecolor\":\"white\",\"showbackground\":true,\"ticks\":\"\",\"zerolinecolor\":\"white\",\"gridwidth\":2},\"zaxis\":{\"backgroundcolor\":\"#E5ECF6\",\"gridcolor\":\"white\",\"linecolor\":\"white\",\"showbackground\":true,\"ticks\":\"\",\"zerolinecolor\":\"white\",\"gridwidth\":2}},\"shapedefaults\":{\"line\":{\"color\":\"#2a3f5f\"}},\"annotationdefaults\":{\"arrowcolor\":\"#2a3f5f\",\"arrowhead\":0,\"arrowwidth\":1},\"geo\":{\"bgcolor\":\"white\",\"landcolor\":\"#E5ECF6\",\"subunitcolor\":\"white\",\"showland\":true,\"showlakes\":true,\"lakecolor\":\"white\"},\"title\":{\"x\":0.05},\"mapbox\":{\"style\":\"light\"}}},\"title\":{\"text\":\"3D Scatter Plot\"},\"scene\":{\"xaxis\":{\"title\":{\"text\":\"X Axis\"}},\"yaxis\":{\"title\":{\"text\":\"Y Axis\"}},\"zaxis\":{\"title\":{\"text\":\"Z Axis\"}}}},                        {\"responsive\": true}                    ).then(function(){\n",
              "                            \n",
              "var gd = document.getElementById('2b635546-a9c0-44c7-bf7c-b644e3405f02');\n",
              "var x = new MutationObserver(function (mutations, observer) {{\n",
              "        var display = window.getComputedStyle(gd).display;\n",
              "        if (!display || display === 'none') {{\n",
              "            console.log([gd, 'removed!']);\n",
              "            Plotly.purge(gd);\n",
              "            observer.disconnect();\n",
              "        }}\n",
              "}});\n",
              "\n",
              "// Listen for the removal of the full notebook cells\n",
              "var notebookContainer = gd.closest('#notebook-container');\n",
              "if (notebookContainer) {{\n",
              "    x.observe(notebookContainer, {childList: true});\n",
              "}}\n",
              "\n",
              "// Listen for the clearing of the current output cell\n",
              "var outputEl = gd.closest('.output');\n",
              "if (outputEl) {{\n",
              "    x.observe(outputEl, {childList: true});\n",
              "}}\n",
              "\n",
              "                        })                };                            </script>        </div>\n",
              "</body>\n",
              "</html>"
            ]
          },
          "metadata": {}
        }
      ]
    }
  ]
}