{
  "nbformat": 4,
  "nbformat_minor": 0,
  "metadata": {
    "colab": {
      "provenance": []
    },
    "kernelspec": {
      "name": "python3",
      "display_name": "Python 3"
    },
    "language_info": {
      "name": "python"
    }
  },
  "cells": [
    {
      "cell_type": "markdown",
      "source": [
        "1. What is Object-Oriented Programming(OOP)?\n",
        "        -> Object-oriented programming(OOP) in Python is a programming paradigm that revolves the concept of \"Objects\" which is instance of classes. The object encapsulates both data and methods that operates on data.\n",
        "        "
      ],
      "metadata": {
        "id": "rNQ4xwudIdOx"
      }
    },
    {
      "cell_type": "markdown",
      "source": [
        "2. Whats is a class in OOP?\n",
        "        -> In Pyhton class is an user defined templet for creating objects. It derfines the properties and behaviour of the objects that are created from it. An object is instance of a class, created by calling the class like a function. Ṭhe object contains data and behaviour defined by the class."
      ],
      "metadata": {
        "id": "iKgeaKfNIpHD"
      }
    },
    {
      "cell_type": "markdown",
      "source": [
        "3. What is an object in OOP?\n",
        "        -> in Pyhton object is the fundamental concept if OOPs which represents the specific instance of the class, which is the templet for creating the objects. An object is created from a class, inheriting the class's properties and behaviors."
      ],
      "metadata": {
        "id": "N_6C0KdrIvZl"
      }
    },
    {
      "cell_type": "markdown",
      "source": [
        "4. What is the difference between abstraction and encapsulation?\n",
        "        -> The difference between abstraction and encapsulation are:\n",
        "        Abstraction:\n",
        "        * Focuses on hiding inplementation details and exposing essential functionalities.\n",
        "        * Main purpose is to simplifying the representation of complex systems.\n",
        "        * Mechanism is achieved through abstract class, interfaces and abstract methods.\n",
        "        * Abstraction can be achieved through encapulation, but they are not the same.\n",
        "        * Abstraction main goal is to simplify the intraction with objects.\n",
        "\n",
        "        Encapsulation:\n",
        "        * Focuses on bundling data and methods together and restricting access to them.\n",
        "        * Main purpose is to protect data and maintaining data integrity.\n",
        "        * Mechanism is achieved through access modifiers and getter./setter method.\n",
        "        * Encapulation is a way to implement abstraction by hiding the internal state of an object and providing controlled access to it.\n",
        "        * Encapulation helps to protect data and ensures proper usage."
      ],
      "metadata": {
        "id": "m8XirNY3I3hP"
      }
    },
    {
      "cell_type": "markdown",
      "source": [
        "5. What are dunder methods in Python?\n",
        "       -> Dunder method or magic method are special methods in Python taht begins and ends with double underscores. They are defined by built-in classes in Python and commonly used for operator overloading."
      ],
      "metadata": {
        "id": "TtVOz6CRJAze"
      }
    },
    {
      "cell_type": "markdown",
      "source": [
        "6. Explain the concept of inheritance in OOP.\n",
        "        -> Inheritance is a fundamental concept in object-oriented programming that allows a child class to inherit attributes and methods from Parent class or another class.\n",
        "        * Parent Class:\n",
        "            * This is the base class from which other classes inherit.\n",
        "            * It contains attributes and methods that the child class can reuse.\n",
        "        * Child Class:\n",
        "            * This is the derived class that inherits from the parent class.\n",
        "            * The syntax for inheritance is class ChildClass(ParentClass).\n",
        "            * The child class automatically gets all attributes and methods of the parent class unless overridden.\n",
        "\n",
        "        Types of inheritance in Python are:\n",
        "        * Single inheritance\n",
        "        * Multiple Inheritance\n",
        "        * Multilevel Inheritance\n",
        "        * Hierarchical Inheritance\n",
        "        * Hybrid Inheritance"
      ],
      "metadata": {
        "id": "-GFAXdZkJH80"
      }
    },
    {
      "cell_type": "markdown",
      "source": [
        "7. What is polymorphism in OOP?\n",
        "        -> Poly means many(multi) and morphism means form/state, refers to an object taking several forms depending on the methods/data."
      ],
      "metadata": {
        "id": "4DmOknt_JTQT"
      }
    },
    {
      "cell_type": "markdown",
      "source": [
        "8. How is encapsulation achieved in Python?\n",
        "        -> Encapsulation in Python is achieved by bundling data and the methods that operate on that data within a single unit called a class. This allows the class to control access to its internal data, ensuring that the data is accessed and modified only through defined methods, promoting data integrity and code maintainability."
      ],
      "metadata": {
        "id": "gw65FzyrJ4yn"
      }
    },
    {
      "cell_type": "markdown",
      "source": [
        "9. What is a constructor in Python?\n",
        "        -> In Python, a constructor is a special method that is called automatically when an object is created from a class. Its main role is to initialize the object by setting up its attributes or state."
      ],
      "metadata": {
        "id": "onLNTcJ-KAWB"
      }
    },
    {
      "cell_type": "markdown",
      "source": [
        "10. What are class and static methods in Python?\n",
        "        -> Class Method: The class method is an inbuilt function in Python, which returns a class method for a given function. This means that class method is a built-in Python function that transforms a regular method into a class method. When a method is defined using the @classmethod decorator the method is bound to the class and not to an instance of the class. As a result, the method receives the class (cls) as its first argument, rather than an instance.\n",
        "\n",
        "        Static Method: In Python, a static method (@staticmethod)is a type of method that does not require any instance to be called. It is very similar to the class method but the difference is that the static method doesn't have a mandatory argument like reference to the object self or reference to the class (cls). Static methods are used to access static fields of a given class. They cannot modify the state of a class since they are bound to the class, not instance."
      ],
      "metadata": {
        "id": "1DM5PVh0KISX"
      }
    },
    {
      "cell_type": "markdown",
      "source": [
        "11. What is method overloading in Python?\n",
        "        -> Method overloading is a feature of OOPs where a class can have multiple methods with the same name but different parameters. To overload method, we must change the number of parameters or the type of parameters, or both."
      ],
      "metadata": {
        "id": "cQSf5KuYKPNT"
      }
    },
    {
      "cell_type": "markdown",
      "source": [
        "12. What is method overriding in OOP?\n",
        "        -> The Python method overriding refers to defining a method in a subclass with the same name as a method in its superclass. In this case, the Python interpreter determines which method to call at runtime based on the actual object being referred to."
      ],
      "metadata": {
        "id": "V2COAnmuKZkN"
      }
    },
    {
      "cell_type": "markdown",
      "source": [
        "13. What is a property decorator in Python?\n",
        "        -> In Python, a property decorator is used to define getter, setter, and deleter methods for class attributes in a clean and Pythonic way. It allows you to control access to private instance variables while still using attribute-like access syntax."
      ],
      "metadata": {
        "id": "NlBwJlv_KhE0"
      }
    },
    {
      "cell_type": "markdown",
      "source": [
        "14. Why is polymorphism important in OOP?\n",
        "        -> Polymorphism is a core concept in Object-Oriented Programming (OOP) that allows objects of different classes to be treated through a common interface. It is important because it enhances flexibility, extensibility, and maintainability of code.\n",
        "        Polymorphism is important in OOPs because:\n",
        "        * Code Reusability: Can write functions or classes that work on objects of different types, as long as they follow the same interface.\n",
        "        * Extensibility: Can add new classes that follow a common interface without changing existing code.\n",
        "        * Interface-Based Programming: Polymorphism enables programming to an interface, not an implementation. This leads to cleaner abstractions and loosely coupled code.\n",
        "        * Simplifies Code: Reduces the need for complex conditionals by relying on object behavior.\n"
      ],
      "metadata": {
        "id": "u489PRzaKpqS"
      }
    },
    {
      "cell_type": "markdown",
      "source": [
        "15. What is an abstract class in Python?\n",
        "        -> An abstract class in Python is a class that cannot be instantiated directly and is designed to be inherited by other classes. It typically contains one or more abstract methods, which are method declarations without implementations. Subclasses must implement these abstract methods."
      ],
      "metadata": {
        "id": "PUpeMq-AK4Zr"
      }
    },
    {
      "cell_type": "markdown",
      "source": [
        "16. What are the advantages in OOP?\n",
        "        -> Advantages ot OOP are:\n",
        "        * Modularity : OOP organizes code into classes, each representing a blueprint for an object. This makes large programs easier to manage and understand.\n",
        "        * Reusability : Through inheritance, you can create new classes that reuse existing code.\n",
        "        * Scalability and Maintainability : Code changes are localized to relevant classes, so it’s easier to modify and maintain.\n",
        "        * Encapsulation : Data (attributes) and behavior (methods) are bundled together. Private variables and methods can restrict access to internal implementation.\n",
        "        * Abstraction : Hide complex implementation details and expose only what’s necessary through public interfaces."
      ],
      "metadata": {
        "id": "SASuJf3PLOCj"
      }
    },
    {
      "cell_type": "markdown",
      "source": [
        "17. What is the difference between a class variable and an instance variable?\n",
        "        -> Difference between class variable and an instance variable is:\n",
        "        Class Variable:\n",
        "        * It is a variable that defines a specific attribute or property for a class.  \n",
        "        * These variables can be shared between class and its subclasses.\n",
        "        * It usually maintains a single shared value for all instances of class even if no instance object of the class exists.\n",
        "        * It is generally created when the program begins to execute.  \n",
        "        * It has only one copy of the class variable so it is shared among different objects of the class.  \n",
        "\n",
        "        Instance Variable:\n",
        "        * It is a variable whose value is instance-specific and now shared among instances.\n",
        "        * These variables cannot be shared between classes. Instead, they only belong to one specific class.  \n",
        "        * It usually reserves memory for data that the class needs.  \n",
        "        * It is generally created when an instance of the class is created.  \n",
        "        * It has many copies so every object has its own personal copy of the instance variable."
      ],
      "metadata": {
        "id": "XquzFGPKLVU3"
      }
    },
    {
      "cell_type": "markdown",
      "source": [
        "18. What is multiple inheritance in Python?\n",
        "        -> In Python, multiple inheritance is a feature where a class can inherit attributes and methods from more than one parent class. It allows you to create a class that combines behaviors or attributes from multiple other classes."
      ],
      "metadata": {
        "id": "VnzstJDmLd0_"
      }
    },
    {
      "cell_type": "markdown",
      "source": [
        "19. Explain the purpose of \"__str__\" and \"__repr__\" methods in Python.\n",
        "        -> \"__str__\": The str method in Python serves the purpose of converting various data types into a string representation. Here's a breakdown of its key functions, It transforms objects of different types into strings. This is essential because Python doesn't automatically convert numbers or other types to strings when concatenating with other strings.\n",
        "\n",
        "        \"__repr__\": The __repr__ method in Python is a special method used to represent an object as a string. It is called by the built-in repr() function and is primarily intended for debugging and development purposes. The __repr__ method aims to provide a detailed and unambiguous string representation of an object. This representation should ideally contain all the information necessary to recreate the object.\n"
      ],
      "metadata": {
        "id": "q2p52drXLo3b"
      }
    },
    {
      "cell_type": "markdown",
      "source": [
        "20. What is the significance of the 'super()' function in Python?\n",
        "        -> The super() function in Python is used to call methods from a parent (super) class. It is especially useful in inheritance hierarchies and ensures that the parent class is properly initialized or its methods are executed without hardcoding the parent’s name. It allows child classes to call the constructor or methods of their parent class.\n",
        "        Using super() makes your code more maintainable and easier to refactor than calling the base class directly:"
      ],
      "metadata": {
        "id": "I4HV2GQ4L4Sm"
      }
    },
    {
      "cell_type": "markdown",
      "source": [
        "21. What is the significance of the __del__ method in Python?\n",
        "        -> In Python, the __del__ method is a special method known as a destructor. It is called when an object is about to be destroyed, typically when its reference count drops to zero.\n",
        "        * It provides a way to clean up resources like, Closing files, Releasing network connections, Cleaning temporary memory or database connections.\n",
        "        * It’s used for logging or performing final actions before an object is garbage-collected."
      ],
      "metadata": {
        "id": "naywqSGxMSMs"
      }
    },
    {
      "cell_type": "markdown",
      "source": [
        "22. What is the difference between @staticmethod and @classmethod in Python?\n",
        "        -> Difference between @staticmethod and @classmethod is:\n",
        "        @staticmethod:\n",
        "        * First argument None\n",
        "        * Utility functions that are related to the class but don’t require access to instance or class data.\n",
        "        * can access only other staticmethods and class-level attributes.\n",
        "        * Method call ClassName.staticmethod_name()\n",
        "        * Decorator @staticmethod.\n",
        "\n",
        "        @classmethod:\n",
        "        * First argument cls\n",
        "        * Factory methods that create instances of the class or modify class-level attributes.\n",
        "        * Class-level attributes and other classmethods, but not instance-level attributes\n",
        "        * Method call ClassName.classmethod_name() (Internally Different)\n",
        "        * Decorator @classmethod."
      ],
      "metadata": {
        "id": "_BYHG1roMeJ0"
      }
    },
    {
      "cell_type": "markdown",
      "source": [
        "23. How does polymorphism work in Python with inheritance?\n",
        "        -> In Python, polymorphism with inheritance allows a subclass to override methods from its parent class so that the same method call behaves differently depending on the object’s class.\n",
        "        This enables you to use a common interface while allowing custom behavior in each subclass — a core principle of Object-Oriented Programming (OOP).\n",
        "        * Parent Class Defines a Method\n",
        "        * Child Classes Override the Method\n",
        "        * Polymorphic Behavior via Inheritance"
      ],
      "metadata": {
        "id": "qSOeBUomMoGN"
      }
    },
    {
      "cell_type": "code",
      "source": [
        "# Ex for Polymorphism:\n",
        "#Parent Class\n",
        "\n",
        "class Animal:\n",
        "    def speak(self):\n",
        "        return \"Some sound\"\n",
        "\n",
        "#child class\n",
        "class Dog(Animal):\n",
        "    def speak(self):\n",
        "        return \"Woof\"\n",
        "\n",
        "class Cat(Animal):\n",
        "    def speak(self):\n",
        "        return \"Meow\"\n",
        "\n",
        "#inheritance\n",
        "\n",
        "def make_animal_speak(animal):\n",
        "    print(animal.speak())\n",
        "\n",
        "animals = [Dog(), Cat(), Animal()]\n",
        "\n",
        "for a in animals:\n",
        "    make_animal_speak(a)"
      ],
      "metadata": {
        "colab": {
          "base_uri": "https://localhost:8080/"
        },
        "id": "ibKxAmM5NTq2",
        "outputId": "b4944c64-8033-4b0f-cf9a-b4717cd4fe9c"
      },
      "execution_count": 4,
      "outputs": [
        {
          "output_type": "stream",
          "name": "stdout",
          "text": [
            "Woof\n",
            "Meow\n",
            "Some sound\n"
          ]
        }
      ]
    },
    {
      "cell_type": "markdown",
      "source": [
        "24. What is method chaining in Python OOP?\n",
        "        -> Method chaining in Python is a programming technique where multiple methods are called sequentially on the same object, in a single line of code. Each method returns the object itself (self), allowing the next method to be called on it.\n",
        "        "
      ],
      "metadata": {
        "id": "DAgtCyFjMxHn"
      }
    },
    {
      "cell_type": "markdown",
      "source": [
        "25. What is the purpose of the __call__ method in Python?\n",
        "        -> The __call__ method in Python is a special(dunder) method that allows an instance of a class to be called like a function.\n",
        "        Purpose of __call__ is:\n",
        "        * It allows objects to become callable, meaning you can use parentheses () after the object name to \"call\" it like a function."
      ],
      "metadata": {
        "id": "5IMqRMHMM8P1"
      }
    },
    {
      "cell_type": "code",
      "source": [
        "# Create a parent class Animal with a method speak() that prints a generic message. Create a child class Dog that overrides the speak() method to print \"Bark!\".\n",
        "\n",
        "class Animal:\n",
        "    def speak(self):\n",
        "        print(\"The animal makes a sound.\")\n",
        "\n",
        "\n",
        "class Dog(Animal):\n",
        "    def speak(self):\n",
        "        print(\"Bark!\")\n",
        "\n",
        "animal = Animal()\n",
        "animal.speak()\n",
        "\n",
        "dog = Dog()\n",
        "dog.speak()\n"
      ],
      "metadata": {
        "id": "kGPMAWPhND-w",
        "colab": {
          "base_uri": "https://localhost:8080/"
        },
        "outputId": "cc6b2323-4dbe-4071-f191-eea21f94a386"
      },
      "execution_count": null,
      "outputs": [
        {
          "output_type": "stream",
          "name": "stdout",
          "text": [
            "The animal makes a sound.\n",
            "Bark!\n"
          ]
        }
      ]
    },
    {
      "cell_type": "code",
      "source": [
        "# Write a program to create an abstract class Shape with a method area(). Derive classes Circle and rectangle from it and implement the area() method in both.\n",
        "\n",
        "from abc import ABC, abstractmethod\n",
        "import math\n",
        "\n",
        "class Shape(ABC):\n",
        "    @abstractmethod\n",
        "    def area(self):\n",
        "        pass\n",
        "\n",
        "#calculating area of circle\n",
        "class Circle(Shape):\n",
        "    def __init__(self, radius):\n",
        "        self.radius = radius\n",
        "\n",
        "    def area(self):\n",
        "        return math.pi * self.radius ** 2\n",
        "\n",
        "#Calculating area of rectangle\n",
        "class Rectangle(Shape):\n",
        "    def __init__(self, width, height):\n",
        "        self.width = width\n",
        "        self.height = height\n",
        "\n",
        "    def area(self):\n",
        "        return self.width * self.height\n",
        "\n",
        "circle = Circle(8)\n",
        "print(f\"Area of circle: {circle.area():.2f}\")\n",
        "\n",
        "rectangle = Rectangle(5, 8)\n",
        "print(f\"Area of rectangle: {rectangle.area():.2f}\")"
      ],
      "metadata": {
        "id": "m4PHLCMTNzZa",
        "colab": {
          "base_uri": "https://localhost:8080/"
        },
        "outputId": "6613d222-ac57-4abc-c756-075ffec71925"
      },
      "execution_count": null,
      "outputs": [
        {
          "output_type": "stream",
          "name": "stdout",
          "text": [
            "Area of circle: 201.06\n",
            "Area of rectangle: 40.00\n"
          ]
        }
      ]
    },
    {
      "cell_type": "code",
      "source": [
        "# Implement a multi-level inheritance scenario where a class vehicle has an attribute type. Derive a class Car and futher derive a class ElectricCar that add a battery attribute.\n",
        "\n",
        "class Vehicle:\n",
        "    def __init__(self, vehicle_type):\n",
        "        self.vehicle_type = vehicle_type\n",
        "\n",
        "    def display_type(self):\n",
        "        print(f\"Vehicle Type: {self.vehicle_type}\")\n",
        "\n",
        "class Car(Vehicle):\n",
        "    def __init__(self, vehicle_type, brand):\n",
        "        super().__init__(vehicle_type)\n",
        "        self.brand = brand\n",
        "\n",
        "    def display_brand(self):\n",
        "        print(f\"Car Brand: {self.brand}\")\n",
        "\n",
        "class ElectricCar(Car):\n",
        "    def __init__(self, vehicle_type, brand, battery_capacity):\n",
        "        super().__init__(vehicle_type, brand)\n",
        "        self.battery_capacity = battery_capacity\n",
        "\n",
        "    def display_battery(self):\n",
        "        print(f\"Battery Capacity: {self.battery_capacity} kWh\")\n",
        "\n",
        "car = ElectricCar(\"Four Wheeler\", \"BYD(Build Your Dream)\", 120)\n",
        "\n",
        "car.display_type()\n",
        "car.display_brand()\n",
        "car.display_battery()\n"
      ],
      "metadata": {
        "id": "f8TKNpPZObBu",
        "colab": {
          "base_uri": "https://localhost:8080/"
        },
        "outputId": "5c48b2e6-8515-43e8-8a99-e09e307d2390"
      },
      "execution_count": null,
      "outputs": [
        {
          "output_type": "stream",
          "name": "stdout",
          "text": [
            "Vehicle Type: Four Wheeler\n",
            "Car Brand: BYD(Build Your Dream)\n",
            "Battery Capacity: 120 kWh\n"
          ]
        }
      ]
    },
    {
      "cell_type": "code",
      "source": [
        "# Demonstrate a polymorphism by creating a base class Bird and a method fly(). Create two derived classes Sparrow and Penguin that override the fly() method.\n",
        "\n",
        "class Bird:\n",
        "    def fly(self):\n",
        "        print(\"Some birds can fly.\")\n",
        "\n",
        "class Sparrow(Bird):\n",
        "    def fly(self):\n",
        "        print(\"Sparrow flies high in the sky.\")\n",
        "\n",
        "class Penguin(Bird):\n",
        "    def fly(self):\n",
        "        print(\"Penguins can swim, thay can't fly.\")\n",
        "\n",
        "def bird_flight(bird):\n",
        "    bird.fly()\n",
        "\n",
        "bird1 = Sparrow()\n",
        "bird2 = Penguin()\n",
        "\n",
        "bird_flight(bird1)\n",
        "bird_flight(bird2)\n"
      ],
      "metadata": {
        "id": "mMQ7XgGEO5tO",
        "colab": {
          "base_uri": "https://localhost:8080/"
        },
        "outputId": "a6badc85-c92a-44bb-8305-e34454fda1ed"
      },
      "execution_count": null,
      "outputs": [
        {
          "output_type": "stream",
          "name": "stdout",
          "text": [
            "Sparrow flies high in the sky.\n",
            "Penguins can swim, thay can't fly.\n"
          ]
        }
      ]
    },
    {
      "cell_type": "code",
      "source": [
        "# Write a program to demonstrate encapsulation by creating a class BankAccount with private attributes balance and methods to deposit, withdraw, and check balance.\n",
        "\n",
        "class BankAccount:\n",
        "    def __init__(self, initial_balance=0):\n",
        "        self.__balance = initial_balance\n",
        "\n",
        "    def deposit(self, amount):\n",
        "        if amount > 0:\n",
        "            self.__balance += amount\n",
        "            print(f\"Deposited is: ${amount}\")\n",
        "        else:\n",
        "            print(\"Invalid deposit amount. Please inter the correct deposit amount\")\n",
        "\n",
        "    def withdraw(self, amount):\n",
        "        if 0 < amount <= self.__balance:\n",
        "            self.__balance -= amount\n",
        "            print(f\"Withdrawn: ${amount}\")\n",
        "        else:\n",
        "            print(\"Insufficient balance or invalid amount. Please enter the valid amount\")\n",
        "\n",
        "    def check_balance(self):\n",
        "        print(f\"Current balance is: ${self.__balance}\")\n",
        "\n",
        "account = BankAccount(1000)\n",
        "account.check_balance()\n",
        "\n",
        "account.deposit(-800)\n",
        "account.check_balance()\n",
        "\n",
        "account.withdraw(1200)\n",
        "account.check_balance()\n",
        "\n",
        "account.withdraw(720)\n",
        "account.check_balance()\n"
      ],
      "metadata": {
        "id": "bKeInF27PgMi",
        "colab": {
          "base_uri": "https://localhost:8080/"
        },
        "outputId": "92fadd6b-dcb0-4347-d531-5b853cbbc767"
      },
      "execution_count": null,
      "outputs": [
        {
          "output_type": "stream",
          "name": "stdout",
          "text": [
            "Current balance is: $1000\n",
            "Invalid deposit amount. Please inter the correct deposit amount\n",
            "Current balance is: $1000\n",
            "Insufficient balance or invalid amount. Please enter the valid amount\n",
            "Current balance is: $1000\n",
            "Withdrawn: $720\n",
            "Current balance is: $280\n"
          ]
        }
      ]
    },
    {
      "cell_type": "code",
      "source": [
        "# Demonstrate runtime polymorphism using a method play() in a base class instrument. Derive classes Guitar and Piano that implement their own version of play().\n",
        "\n",
        "class Instrument:\n",
        "    def play(self):\n",
        "        print(\"The instrument is being played.\")\n",
        "\n",
        "class Guitar(Instrument):\n",
        "    def play(self):\n",
        "        print(\"Playing the guitar.\")\n",
        "\n",
        "class Piano(Instrument):\n",
        "    def play(self):\n",
        "        print(\"Playing the piano.\")\n",
        "\n",
        "def start_playing(instrument):\n",
        "    instrument.play()\n",
        "\n",
        "instr1 = Guitar()\n",
        "instr2 = Piano()\n",
        "\n",
        "start_playing(instr1)\n",
        "start_playing(instr2)\n"
      ],
      "metadata": {
        "id": "ZF6E0POkVBRT",
        "colab": {
          "base_uri": "https://localhost:8080/"
        },
        "outputId": "f417b0f9-5755-4478-f3fa-01438abaf26a"
      },
      "execution_count": null,
      "outputs": [
        {
          "output_type": "stream",
          "name": "stdout",
          "text": [
            "Playing the guitar.\n",
            "Playing the piano.\n"
          ]
        }
      ]
    },
    {
      "cell_type": "code",
      "source": [
        "# Create a class MethOperations with a class method add_numbers() to add two numbers and a static method subtract_numbers() to subtract two numbers.\n",
        "\n",
        "class MethOperations:\n",
        "    @classmethod\n",
        "    def add_numbers(cls, a, b):\n",
        "        return a + b\n",
        "\n",
        "    @staticmethod\n",
        "    def subtract_numbers(a, b):\n",
        "        return a - b\n",
        "\n",
        "sum_result = MethOperations.add_numbers(25, 12)\n",
        "print(f\"Sum: {sum_result}\")\n",
        "\n",
        "difference = MethOperations.subtract_numbers(25, 15)\n",
        "print(f\"Difference: {difference}\")\n"
      ],
      "metadata": {
        "id": "_krMXfAYVbfI",
        "colab": {
          "base_uri": "https://localhost:8080/"
        },
        "outputId": "2f40f16d-d68d-404d-f464-238c207dd4ac"
      },
      "execution_count": null,
      "outputs": [
        {
          "output_type": "stream",
          "name": "stdout",
          "text": [
            "Sum: 37\n",
            "Difference: 10\n"
          ]
        }
      ]
    },
    {
      "cell_type": "code",
      "source": [
        "# Implement a class Person with a class method to count the total number of persons created.\n",
        "\n",
        "class Person:\n",
        "    count = 0\n",
        "\n",
        "    def __init__(self, name):\n",
        "        self.name = name\n",
        "        Person.count += 1\n",
        "\n",
        "    @classmethod\n",
        "    def total_persons(cls):\n",
        "        return cls.count\n",
        "\n",
        "p1 = Person(\"Venu\")\n",
        "p2 = Person(\"Vijay\")\n",
        "p3 = Person(\"Vinay\")\n",
        "p4 = Person(\"Sai\")\n",
        "\n",
        "print(f\"Total persons created: {Person.total_persons()}\")\n"
      ],
      "metadata": {
        "id": "vz5bASQPVvUP",
        "colab": {
          "base_uri": "https://localhost:8080/"
        },
        "outputId": "c1536cfd-6b0c-48f6-8333-5dfc5dca6c3c"
      },
      "execution_count": null,
      "outputs": [
        {
          "output_type": "stream",
          "name": "stdout",
          "text": [
            "Total persons created: 4\n"
          ]
        }
      ]
    },
    {
      "cell_type": "code",
      "source": [
        "# Write a class Fraction with attributes numerator and denominator. Override the str method to display the fractionas \"numerator/denominator\".\n",
        "\n",
        "class Fraction:\n",
        "    def __init__(self, numerator, denominator):\n",
        "        self.numerator = numerator\n",
        "        self.denominator = denominator\n",
        "\n",
        "    def __str__(self):\n",
        "        return f\"{self.numerator}/{self.denominator}\"\n",
        "\n",
        "f1 = Fraction(3, 4)\n",
        "f2 = Fraction(7, 2)\n",
        "\n",
        "print(f1)\n",
        "print(f2)\n"
      ],
      "metadata": {
        "id": "H6ChlHGRV6EQ",
        "colab": {
          "base_uri": "https://localhost:8080/"
        },
        "outputId": "a5d16c79-23ad-41bd-a2f8-89fe07079f47"
      },
      "execution_count": null,
      "outputs": [
        {
          "output_type": "stream",
          "name": "stdout",
          "text": [
            "3/4\n",
            "7/2\n"
          ]
        }
      ]
    },
    {
      "cell_type": "code",
      "source": [
        "# Demonstrate operator overloading by creating a class Vector and overriding the add method to add two vectors.\n",
        "\n",
        "class Vector:\n",
        "    def __init__(self, x, y):\n",
        "        self.x = x\n",
        "        self.y = y\n",
        "\n",
        "    def __add__(self, other):\n",
        "        return Vector(self.x + other.x, self.y + other.y)\n",
        "\n",
        "    def __str__(self):\n",
        "        return f\"Vector({self.x}, {self.y})\"\n",
        "\n",
        "v1 = Vector(7, 5)\n",
        "v2 = Vector(3, 8)\n",
        "\n",
        "v3 = v1 + v2\n",
        "\n",
        "print(v1)\n",
        "print(v2)\n",
        "print(v3)\n"
      ],
      "metadata": {
        "id": "rAZ9OXReWQqd",
        "colab": {
          "base_uri": "https://localhost:8080/"
        },
        "outputId": "8637f888-de61-43c8-b9eb-07249e120788"
      },
      "execution_count": null,
      "outputs": [
        {
          "output_type": "stream",
          "name": "stdout",
          "text": [
            "Vector(7, 5)\n",
            "Vector(3, 8)\n",
            "Vector(10, 13)\n"
          ]
        }
      ]
    },
    {
      "cell_type": "code",
      "source": [
        "# Create a class Person with attributes name and age. Add a method greet() that prints \"Hello, my name is {name} and I am {age} years old\".\n",
        "\n",
        "class Person:\n",
        "    def __init__(self, name, age):\n",
        "        self.name = name\n",
        "        self.age = age\n",
        "\n",
        "    def greet(self):\n",
        "        print(f\"Hello, my name is {self.name} and I am {self.age} years old.\")\n",
        "\n",
        "person = Person(\"Venugopal\", 27)\n",
        "person.greet()\n"
      ],
      "metadata": {
        "id": "8A3h-sEIWhnL",
        "colab": {
          "base_uri": "https://localhost:8080/"
        },
        "outputId": "b0aa698f-7abc-4c62-9441-9641de0d2490"
      },
      "execution_count": null,
      "outputs": [
        {
          "output_type": "stream",
          "name": "stdout",
          "text": [
            "Hello, my name is Venugopal and I am 27 years old.\n"
          ]
        }
      ]
    },
    {
      "cell_type": "code",
      "source": [
        "# Implement a class Student with attributes name and grades. Create a method average_grade() to compute the average of the grades.\n",
        "\n",
        "class Student:\n",
        "    def __init__(self, name, grades):\n",
        "        self.name = name\n",
        "        self.grades = grades\n",
        "\n",
        "    def average_grade(self):\n",
        "        if not self.grades:\n",
        "            return 0\n",
        "        return sum(self.grades) / len(self.grades)\n",
        "\n",
        "student = Student(\"Venugopal\", [65, 77, 84, 75])\n",
        "print(f\"{student.name}'s average grade is: {student.average_grade():.2f}\")\n"
      ],
      "metadata": {
        "id": "7BblC-UlXA5t",
        "colab": {
          "base_uri": "https://localhost:8080/"
        },
        "outputId": "d38e7a93-1987-44ec-c315-14e237c2f5fd"
      },
      "execution_count": null,
      "outputs": [
        {
          "output_type": "stream",
          "name": "stdout",
          "text": [
            "Venugopal's average grade is: 75.25\n"
          ]
        }
      ]
    },
    {
      "cell_type": "code",
      "source": [
        "# Create a class Rectangle with methods set_dimensions() to set the dimensions and area() to calculate the area.\n",
        "\n",
        "class Rectangle:\n",
        "    def __init__(self):\n",
        "        self.length = 0\n",
        "        self.width = 0\n",
        "\n",
        "    def set_dimensions(self, length, width):\n",
        "        self.length = length\n",
        "        self.width = width\n",
        "\n",
        "    def area(self):\n",
        "        return self.length * self.width\n",
        "\n",
        "rect = Rectangle()\n",
        "rect.set_dimensions(10, 15)\n",
        "print(f\"Area of rectangle: {rect.area()}\")\n"
      ],
      "metadata": {
        "id": "ITxhAc-eYHVF",
        "colab": {
          "base_uri": "https://localhost:8080/"
        },
        "outputId": "256f5068-6bc3-4af9-f00c-f3eafdb08df8"
      },
      "execution_count": null,
      "outputs": [
        {
          "output_type": "stream",
          "name": "stdout",
          "text": [
            "Area of rectangle: 150\n"
          ]
        }
      ]
    },
    {
      "cell_type": "code",
      "source": [
        "# Create a class Employee with a method calculate_salary() that computes the salary based on hours worked and hourly rate. Create a derived class Manager that adds a bonus to the salary.\n",
        "\n",
        "class Employee:\n",
        "    def __init__(self, name, hours_worked, hourly_rate):\n",
        "        self.name = name\n",
        "        self.hours_worked = hours_worked\n",
        "        self.hourly_rate = hourly_rate\n",
        "\n",
        "    def calculate_salary(self):\n",
        "        return self.hours_worked * self.hourly_rate\n",
        "\n",
        "class Manager(Employee):\n",
        "    def __init__(self, name, hours_worked, hourly_rate, bonus):\n",
        "        super().__init__(name, hours_worked, hourly_rate)\n",
        "        self.bonus = bonus\n",
        "\n",
        "    def calculate_salary(self):\n",
        "        base_salary = super().calculate_salary()\n",
        "        return base_salary + self.bonus\n",
        "\n",
        "emp = Employee(\"Venugopal\", 40, 80)\n",
        "mgr = Manager(\"Vector\", 40, 90, 500)\n",
        "\n",
        "print(f\"{emp.name}'s Salary: ${emp.calculate_salary()}\")\n",
        "print(f\"{mgr.name}'s Salary: ${mgr.calculate_salary()}\")\n"
      ],
      "metadata": {
        "id": "9m9_pNdyY1wT",
        "colab": {
          "base_uri": "https://localhost:8080/"
        },
        "outputId": "96403002-4119-4a06-d99d-f67ba0203096"
      },
      "execution_count": null,
      "outputs": [
        {
          "output_type": "stream",
          "name": "stdout",
          "text": [
            "Venugopal's Salary: $3200\n",
            "Vector's Salary: $4100\n"
          ]
        }
      ]
    },
    {
      "cell_type": "code",
      "source": [
        "# Create a class Product with attributes name, price, and quantity. Implement a method total_price() that calculates the total price of the product.\n",
        "\n",
        "class Product:\n",
        "    def __init__(self, name, price, quantity):\n",
        "        self.name = name\n",
        "        self.price = price\n",
        "        self.quantity = quantity\n",
        "\n",
        "    def total_price(self):\n",
        "        return self.price * self.quantity\n",
        "\n",
        "product = Product(\"iPhone 16 pro max\", 1800, 5)\n",
        "print(f\"Total price for {product.quantity} {product.name} is: ${product.total_price()}\")\n"
      ],
      "metadata": {
        "id": "LluNxtIzZQ88",
        "colab": {
          "base_uri": "https://localhost:8080/"
        },
        "outputId": "006ee59a-fb6b-48b2-9ba7-2c515b204585"
      },
      "execution_count": null,
      "outputs": [
        {
          "output_type": "stream",
          "name": "stdout",
          "text": [
            "Total price for 5 iPhone 16 pro max is: $9000\n"
          ]
        }
      ]
    },
    {
      "cell_type": "code",
      "source": [
        "# Create a class Animal with an abstract method sound(). Create two derived classes Cow and Sheep that implement the sound() method.\n",
        "\n",
        "from abc import ABC, abstractmethod\n",
        "\n",
        "class Animal(ABC):\n",
        "    @abstractmethod\n",
        "    def sound(self):\n",
        "        pass\n",
        "\n",
        "class Cow(Animal):\n",
        "    def sound(self):\n",
        "        print(\"Cow sound Moo\")\n",
        "\n",
        "class Sheep(Animal):\n",
        "    def sound(self):\n",
        "        print(\"Sheep sounds Baa\")\n",
        "\n",
        "cow = Cow()\n",
        "sheep = Sheep()\n",
        "\n",
        "cow.sound()\n",
        "sheep.sound()\n"
      ],
      "metadata": {
        "id": "PwAuNjJyZqC0",
        "colab": {
          "base_uri": "https://localhost:8080/"
        },
        "outputId": "1955b521-6cce-419a-b381-5ddfa892dc47"
      },
      "execution_count": null,
      "outputs": [
        {
          "output_type": "stream",
          "name": "stdout",
          "text": [
            "Cow sound Moo\n",
            "Sheep sounds Baa\n"
          ]
        }
      ]
    },
    {
      "cell_type": "code",
      "source": [
        "# Create a class Book with attributes title, author, and year_published. Add a method get_book_info() that returns a formatted string with the book's details.\n",
        "\n",
        "class Book:\n",
        "    def __init__(self, title, author, year_published):\n",
        "        self.title = title\n",
        "        self.author = author\n",
        "        self.year_published = year_published\n",
        "\n",
        "    def get_book_info(self):\n",
        "        return f\"'{self.title}' by {self.author}, published in {self.year_published}\"\n",
        "\n",
        "book = Book(\"Python Distilled\", \"David M.Beazley \", 2021)\n",
        "print(book.get_book_info())\n"
      ],
      "metadata": {
        "id": "tmsCXaIJZrGG",
        "colab": {
          "base_uri": "https://localhost:8080/"
        },
        "outputId": "f4606e50-a04b-456a-dcfa-4c22e9fd77cb"
      },
      "execution_count": null,
      "outputs": [
        {
          "output_type": "stream",
          "name": "stdout",
          "text": [
            "'Python Distilled' by David M.Beazley , published in 2021\n"
          ]
        }
      ]
    },
    {
      "cell_type": "code",
      "source": [
        "# Create a class House with attributes address and price. Create a derived class Mansion that adds an attribute number_of_rooms.\n",
        "\n",
        "class House:\n",
        "    def __init__(self, address, price):\n",
        "        self.address = address\n",
        "        self.price = price\n",
        "\n",
        "class Mansion(House):\n",
        "    def __init__(self, address, price, number_of_rooms):\n",
        "        super().__init__(address, price)\n",
        "        self.number_of_rooms = number_of_rooms\n",
        "\n",
        "house = House(\"123 SGR dental clg road Marathalli\", 360000)\n",
        "mansion = Mansion(\"Ashwath nagar\", 2700000, 10)\n",
        "\n",
        "print(f\"House address: {house.address}, Price: ${house.price}\")\n",
        "print(f\"Mansion address: {mansion.address}, Price: ${mansion.price}, Rooms: {mansion.number_of_rooms}\")\n"
      ],
      "metadata": {
        "id": "rumZU4uXZ7m-",
        "colab": {
          "base_uri": "https://localhost:8080/"
        },
        "outputId": "dc4ce4f1-bef5-4e81-f015-e270145dfa1b"
      },
      "execution_count": null,
      "outputs": [
        {
          "output_type": "stream",
          "name": "stdout",
          "text": [
            "House address: 123 SGR dental clg road Marathalli, Price: $360000\n",
            "Mansion address: Ashwath nagar, Price: $2700000, Rooms: 10\n"
          ]
        }
      ]
    }
  ]
}